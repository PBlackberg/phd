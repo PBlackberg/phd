{
 "cells": [
  {
   "cell_type": "code",
   "execution_count": 1,
   "metadata": {},
   "outputs": [],
   "source": [
    "import xarray as xr\n",
    "import numpy as np\n",
    "\n",
    "import skimage.measure as skm\n",
    "import matplotlib.pyplot as plt\n",
    "import cartopy\n",
    "\n",
    "import os\n",
    "home = os.path.expanduser(\"~\")\n",
    "\n",
    "import warnings\n",
    "from shapely.errors import ShapelyDeprecationWarning\n",
    "warnings.filterwarnings(\"ignore\", category=ShapelyDeprecationWarning)"
   ]
  },
  {
   "cell_type": "code",
   "execution_count": 2,
   "metadata": {},
   "outputs": [],
   "source": [
    "import myFuncs"
   ]
  },
  {
   "cell_type": "code",
   "execution_count": 8,
   "metadata": {},
   "outputs": [],
   "source": [
    "model = 'GFDL-CM3'\n",
    "experiment = 'historical'\n",
    "hus = xr.open_dataset(home + '/Documents/data/cmip5/ds_cmip5' + '/' + model + '/' + model + '_hur_' + experiment + '.nc')"
   ]
  },
  {
   "cell_type": "code",
   "execution_count": null,
   "metadata": {},
   "outputs": [],
   "source": [
    "hus"
   ]
  },
  {
   "cell_type": "code",
   "execution_count": 7,
   "metadata": {},
   "outputs": [
    {
     "data": {
      "text/plain": [
       "['GFDL-CM3_pw_rcp85.nc',\n",
       " 'GFDL-CM3_clMax_rcp85.nc',\n",
       " '.DS_Store',\n",
       " 'GFDL-CM3_pw_historical.nc',\n",
       " 'GFDL-CM3_precip_rcp85.nc',\n",
       " 'GFDL-CM3_hur_historical.nc',\n",
       " 'GFDL-CM3_clMax_historical.nc',\n",
       " 'GFDL-CM3_precip_historical.nc',\n",
       " 'GFDL-CM3_wap500_rcp85.nc',\n",
       " 'GFDL-CM3_wap500_historical.nc',\n",
       " 'GFDL-CM3_tas_historical.nc',\n",
       " 'GFDL-CM3_hur_rcp85.nc',\n",
       " 'GFDL-CM3_tas_rcp85.nc']"
      ]
     },
     "execution_count": 7,
     "metadata": {},
     "output_type": "execute_result"
    }
   ],
   "source": [
    "os.listdir(home + '/Documents/data/cmip5/ds_cmip5/' + model + '/' )"
   ]
  },
  {
   "cell_type": "code",
   "execution_count": null,
   "metadata": {},
   "outputs": [],
   "source": []
  }
 ],
 "metadata": {
  "kernelspec": {
   "display_name": "base",
   "language": "python",
   "name": "python3"
  },
  "language_info": {
   "codemirror_mode": {
    "name": "ipython",
    "version": 3
   },
   "file_extension": ".py",
   "mimetype": "text/x-python",
   "name": "python",
   "nbconvert_exporter": "python",
   "pygments_lexer": "ipython3",
   "version": "3.9.12"
  },
  "orig_nbformat": 4,
  "vscode": {
   "interpreter": {
    "hash": "40d3a090f54c6569ab1632332b64b2c03c39dcf918b08424e98f38b5ae0af88f"
   }
  }
 },
 "nbformat": 4,
 "nbformat_minor": 2
}
