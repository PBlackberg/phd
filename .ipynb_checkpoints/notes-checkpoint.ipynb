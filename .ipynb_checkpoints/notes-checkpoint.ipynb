{
 "cells": [
  {
   "cell_type": "code",
   "execution_count": 2,
   "metadata": {},
   "outputs": [],
   "source": [
    "import numpy as np"
   ]
  },
  {
   "cell_type": "code",
   "execution_count": null,
   "metadata": {},
   "outputs": [],
   "source": [
    "# rename dimensions\n",
    "precip = precip.rename({'latitude': 'lat', 'longitude': 'lon'})"
   ]
  },
  {
   "cell_type": "code",
   "execution_count": 22,
   "metadata": {},
   "outputs": [],
   "source": [
    "# copy array in new dimension\n",
    "a = np.ones(shape = (3,4))\n",
    "b = np.repeat(a[np.newaxis,...], 3, axis=0)"
   ]
  },
  {
   "cell_type": "code",
   "execution_count": null,
   "metadata": {},
   "outputs": [],
   "source": [
    "# broadcasting\n",
    "a = np.ones(shape=(2,3,4))\n",
    "b = np.array([1,2])\n",
    "c = a*b[...,None, None]\n",
    "c = a*b[:,np.newaxis, np.newaxis]\n",
    "a*np.expand_dims(b,axis=(1,2))"
   ]
  },
  {
   "cell_type": "code",
   "execution_count": null,
   "metadata": {},
   "outputs": [],
   "source": [
    "# define xarray data array and data set\n",
    "pr999 = precip.quantile(0.999,dim=('lat','lon'),keep_attrs=True)\n",
    "pr999 = xr.DataArray(\n",
    "    data = pr999.data,\n",
    "    dims = ['time'],\n",
    "    coords = {'time': precip.time.data},\n",
    "    attrs = {'units':'mm/day'}\n",
    "    )\n",
    "    \n",
    "\n",
    "pr_percentiles = xr.Dataset(\n",
    "    data_vars = {'pr95': pr95, \n",
    "                    'pr97': pr97, \n",
    "                    'pr99': pr99, \n",
    "                    'pr999': pr999}\n",
    "    ) "
   ]
  },
  {
   "cell_type": "code",
   "execution_count": null,
   "metadata": {},
   "outputs": [],
   "source": [
    "# creating a seasonal plot\n",
    "season = pr_percentile.resample(time='QS-DEC').mean(dim=\"time\")\n",
    "season = to_monthly(season)\n",
    "# 3 - MAM\n",
    "# 6 - JJA\n",
    "# 9 - SON\n",
    "# 12 - DJF\n",
    "season = season.rename({'month':'season'})\n",
    "season = season.assign_coords(season = [\"MAM\", \"JJA\", \"SON\", \"DJF\"])\n",
    "season.plot(x='year', hue='season', figsize=(25,5))\n",
    "plt.title(percentile_option + ', model: ' + model + ', ' + experiment)"
   ]
  },
  {
   "cell_type": "code",
   "execution_count": 5,
   "metadata": {},
   "outputs": [
    {
     "name": "stdout",
     "output_type": "stream",
     "text": [
      "precipitation [mm day⁻¹K⁻¹m²]\n"
     ]
    }
   ],
   "source": [
    "# writing superscripts in string\n",
    "print('precipitation [mm day' + chr(0x207B) + chr(0x00B9) + 'K' + chr(0x207B) + chr(0x00B9) + 'km\\u00b2]')"
   ]
  },
  {
   "cell_type": "code",
   "execution_count": null,
   "metadata": {},
   "outputs": [],
   "source": [
    "# groupby\n",
    "pr_percentileSeason = pr_percentile.groupby('time.season').mean(dim='time')\n",
    "pr_percentileMonth = pr_percentiles.pr99.resample(time='M').mean(dim='time')\n",
    "mse_monthly = pr_percentile.groupby('time.month').mean(dim ='time').plot()"
   ]
  }
 ],
 "metadata": {
  "kernelspec": {
   "display_name": "base",
   "language": "python",
   "name": "python3"
  },
  "language_info": {
   "codemirror_mode": {
    "name": "ipython",
    "version": 3
   },
   "file_extension": ".py",
   "mimetype": "text/x-python",
   "name": "python",
   "nbconvert_exporter": "python",
   "pygments_lexer": "ipython3",
   "version": "3.9.12 (main, Apr  5 2022, 01:53:17) \n[Clang 12.0.0 ]"
  },
  "orig_nbformat": 4,
  "vscode": {
   "interpreter": {
    "hash": "40d3a090f54c6569ab1632332b64b2c03c39dcf918b08424e98f38b5ae0af88f"
   }
  }
 },
 "nbformat": 4,
 "nbformat_minor": 2
}
