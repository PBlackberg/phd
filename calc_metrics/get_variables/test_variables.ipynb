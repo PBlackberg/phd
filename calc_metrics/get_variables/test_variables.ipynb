{
 "cells": [
  {
   "cell_type": "markdown",
   "id": "60b58cef-684e-4046-838a-9950a6e3b953",
   "metadata": {},
   "source": [
    "### import functions"
   ]
  },
  {
   "cell_type": "code",
   "execution_count": 1,
   "id": "4e003e1a-4452-4eea-bf46-897de2376c79",
   "metadata": {
    "tags": []
   },
   "outputs": [],
   "source": [
    "import xarray as xr\n",
    "import xesmf as xe\n",
    "import numpy as np\n",
    "import os\n",
    "import scipy\n",
    " # cd /g/data/k10/cb4968/phd/calc_metrics/get_variables"
   ]
  },
  {
   "cell_type": "code",
   "execution_count": 2,
   "id": "1804d32a-0cf6-4f02-925d-056ee8667049",
   "metadata": {
    "tags": []
   },
   "outputs": [
    {
     "data": {
      "text/plain": [
       "'/home/565/cb4968'"
      ]
     },
     "execution_count": 2,
     "metadata": {},
     "output_type": "execute_result"
    }
   ],
   "source": [
    "pwd"
   ]
  },
  {
   "cell_type": "code",
   "execution_count": 3,
   "id": "fe70ff9b-05f4-4185-b4bf-719c99159534",
   "metadata": {
    "tags": []
   },
   "outputs": [
    {
     "name": "stdout",
     "output_type": "stream",
     "text": [
      "/g/data/k10/cb4968/phd/calc_metrics\n"
     ]
    }
   ],
   "source": [
    "cd /g/data/k10/cb4968/phd/calc_metrics"
   ]
  },
  {
   "cell_type": "code",
   "execution_count": 4,
   "id": "1507f69a-5eed-4181-9d8a-e221a78c48ac",
   "metadata": {
    "tags": []
   },
   "outputs": [
    {
     "data": {
      "text/plain": [
       "'/g/data/k10/cb4968/phd/calc_metrics'"
      ]
     },
     "execution_count": 4,
     "metadata": {},
     "output_type": "execute_result"
    }
   ],
   "source": [
    "pwd"
   ]
  },
  {
   "cell_type": "code",
   "execution_count": 5,
   "id": "d58d86dd-84e3-4b58-baf6-3ca3f006b913",
   "metadata": {
    "tags": []
   },
   "outputs": [],
   "source": [
    "from get_variables.cmip6_variables import *"
   ]
  },
  {
   "cell_type": "markdown",
   "id": "e7526932-285c-4921-9725-2cbac448b0be",
   "metadata": {},
   "source": [
    "### test variables (cmip6)"
   ]
  },
  {
   "cell_type": "code",
   "execution_count": 6,
   "id": "ffa39297-9c42-41ab-bcc4-556283f10464",
   "metadata": {},
   "outputs": [],
   "source": [
    "# available models\n",
    "models = [\n",
    "    # 'TaiESM1',        # 1 # rcp run has monthly\n",
    "    # 'BCC-CSM2-MR',    # 2 # rcp monthly   \n",
    "    'FGOALS-g3',        # 3 # rcp 0463 - 0614\n",
    "    # 'CNRM-CM6-1',     # 4 # rcp 1850-1999\n",
    "    # 'MIROC6',         # 5 # rcp 3200 - 3340\n",
    "    # 'MPI-ESM1-2-HR',  # 6 # rcp 1850 - 2014\n",
    "    # 'NorESM2-MM',     # 7 # rcp 0001 - 0141\n",
    "    # 'GFDL-CM4',       # 8 # rcp 0001 - 0141 (gr2)\n",
    "    # 'CanESM5',        # 9 # rcp 1850 - 2000\n",
    "    # 'CMCC-ESM2',      # 10 # rcp monthly\n",
    "    # 'UKESM1-0-LL',    # 11 # rcp 1850 - 1999\n",
    "    # 'MRI-ESM2-0',     # 12 # rcp 1850 - 2000\n",
    "    # 'CESM2',          # 13 # rcp 0001 - 0990  (multiple fill values (check if all get converted to NaN), for historical)\n",
    "    # 'NESM3',          # 12 # rcp 1850-2014\n",
    "        ]\n",
    "\n",
    "\n",
    "resolutions = [\n",
    "    'original',\n",
    "    # 'regridded'\n",
    "    ]\n",
    "\n",
    "experiments = [\n",
    "            # 'historical',\n",
    "            'abrupt-4xCO2'\n",
    "            ]\n",
    "\n",
    "institutes = {\n",
    "    'TaiESM1':'AS-RCEC',\n",
    "    'BCC-CSM2-MR':'BCC',\n",
    "    'FGOALS-g3':'CAS',\n",
    "    'CNRM-CM6-1':'CNRM-CERFACS',\n",
    "    'MIROC6':'MIROC',\n",
    "    'MPI-ESM1-2-HR':'MPI-M',\n",
    "    'GISS-E2-1-H':'NASA-GISS',\n",
    "    'NorESM2-MM':'NCC',\n",
    "    'GFDL-CM4':'NOAA-GFDL',\n",
    "    'CanESM5':'CCCma',\n",
    "    'CMCC-ESM2':'CMCC',\n",
    "    'UKESM1-0-LL':'MOHC',\n",
    "    'MRI-ESM2-0':'MRI',\n",
    "    'CESM2':'NCAR',\n",
    "    'NESM3':'NUIST'\n",
    "    }\n",
    "\n",
    "\n",
    "# not included:\n",
    "# 'IITM-ESM':'CCCR-IITM'\n",
    "# 'EC-Earth3':'EC-Earth-Consortium'\n",
    "# 'HAMMOZ-Consortium':'MPI-ESM-1-2-HAM'\n",
    "# 'IPSL-CM6A-LR':'IPSL'\n",
    "# 'GISS-E2-1-H':'NASA-GISS' (only monthly for all variables)\n",
    "# 'SNU':'SAM0-UNICON'\n",
    "# 'MCM-UA-1-0':UA\n",
    "# 'AWI-CM-1-1-MR':AWI\n",
    "# 'CAMS-CSM1-0':'CAMS'\n",
    "# 'E3SM-1-0':'E3SM-Project'\n",
    "# 'FIO-ESM-2-0':'FIO-QLNM'\n",
    "# 'INM-CM5-0':'INM'\n",
    "# 'KIOST-ESM':'KIOST'\n",
    "# 'KACE-1-0-G':'NIMS-KMA' (this institute has data for UKESM1-0-LL which is already included from a different institute)\n",
    "# 'CIESM':'THU'\n",
    "\n",
    "\n"
   ]
  },
  {
   "cell_type": "code",
   "execution_count": 7,
   "id": "846cfad3-80e0-4f57-82de-27ad6a2caca1",
   "metadata": {
    "tags": []
   },
   "outputs": [],
   "source": [
    "# for model in models:\n",
    "#     for experiment in experiments:\n",
    "#         ds_pr = get_pr(institutes[model], model, experiment, resolution=resolutions[0])"
   ]
  },
  {
   "cell_type": "code",
   "execution_count": 8,
   "id": "75db3cbc-d43a-4df9-acf5-0724c5cfeca6",
   "metadata": {
    "tags": []
   },
   "outputs": [],
   "source": [
    "# ds_pr"
   ]
  },
  {
   "cell_type": "code",
   "execution_count": 9,
   "id": "62f9524a-9bb6-42d8-833c-3dc5fbb41b0b",
   "metadata": {
    "tags": []
   },
   "outputs": [],
   "source": [
    "folder = '/g/data/k10/cb4968/data/cmip6/ds/precip'\n",
    "\n",
    "save_pr = False\n",
    "if save_pr:\n",
    "    fileName = model + '_precip_' + experiment + '.nc'\n",
    "    save_file(ds_pr, folder, fileName)"
   ]
  },
  {
   "cell_type": "code",
   "execution_count": 10,
   "id": "0cf47a3d-d2a5-49b5-9fae-89a31ab20234",
   "metadata": {
    "tags": []
   },
   "outputs": [],
   "source": [
    "# path_list =[\n",
    "#     '/g/data/oi10/replicas/CMIP6/CMIP/CAS/FGOALS-g3/abrupt-4xCO2/r1i1p1f1/day/pr/gn/v20191231/pr_day_FGOALS-g3_abrupt-4xCO2_r1i1p1f1_gn_04630101-04631231.nc',\n",
    "#     '/g/data/oi10/replicas/CMIP6/CMIP/CAS/FGOALS-g3/abrupt-4xCO2/r1i1p1f1/day/pr/gn/v20191231/pr_day_FGOALS-g3_abrupt-4xCO2_r1i1p1f1_gn_04640101-04641231.nc',\n",
    "#     '/g/data/oi10/replicas/CMIP6/CMIP/CAS/FGOALS-g3/abrupt-4xCO2/r1i1p1f1/day/pr/gn/v20191231/pr_day_FGOALS-g3_abrupt-4xCO2_r1i1p1f1_gn_04650101-04651231.nc',\n",
    "#     '/g/data/oi10/replicas/CMIP6/CMIP/CAS/FGOALS-g3/abrupt-4xCO2/r1i1p1f1/day/pr/gn/v20191231/pr_day_FGOALS-g3_abrupt-4xCO2_r1i1p1f1_gn_04660101-04661231.nc'\n",
    "# ]\n",
    "# ds_pr = xr.open_mfdataset(path_list, combine='by_coords')\n",
    "# ds_pr\n",
    "\n",
    "# yearEnd_first = '0463'\n",
    "# yearStart_last = '0464'\n",
    "\n",
    "# ds_pr.sel(time=slice(str(yearEnd_first), str(yearStart_last)),lat=slice(-35,35))"
   ]
  },
  {
   "cell_type": "code",
   "execution_count": 12,
   "id": "b1c9ee98-6e49-4292-a072-f5ffeff91db3",
   "metadata": {
    "tags": []
   },
   "outputs": [
    {
     "ename": "NameError",
     "evalue": "name 'path_folder' is not defined",
     "output_type": "error",
     "traceback": [
      "\u001b[0;31m---------------------------------------------------------------------------\u001b[0m",
      "\u001b[0;31mNameError\u001b[0m                                 Traceback (most recent call last)",
      "Cell \u001b[0;32mIn[12], line 11\u001b[0m\n\u001b[1;32m      8\u001b[0m \u001b[38;5;28;01mif\u001b[39;00m experiment \u001b[38;5;241m==\u001b[39m \u001b[38;5;124m'\u001b[39m\u001b[38;5;124mabrupt-4xCO2\u001b[39m\u001b[38;5;124m'\u001b[39m:\n\u001b[1;32m      9\u001b[0m     yearEnd_first, yearStart_last \u001b[38;5;241m=\u001b[39m rcp_years(model)\n\u001b[0;32m---> 11\u001b[0m files \u001b[38;5;241m=\u001b[39m [f \u001b[38;5;28;01mfor\u001b[39;00m f \u001b[38;5;129;01min\u001b[39;00m os\u001b[38;5;241m.\u001b[39mlistdir(\u001b[43mpath_folder\u001b[49m) \u001b[38;5;28;01mif\u001b[39;00m f\u001b[38;5;241m.\u001b[39mendswith(\u001b[38;5;124m'\u001b[39m\u001b[38;5;124m.nc\u001b[39m\u001b[38;5;124m'\u001b[39m)]\n\u001b[1;32m     12\u001b[0m \u001b[38;5;28;01mif\u001b[39;00m \u001b[38;5;124m'\u001b[39m\u001b[38;5;124mAmon\u001b[39m\u001b[38;5;124m'\u001b[39m \u001b[38;5;129;01min\u001b[39;00m path_folder:\n\u001b[1;32m     13\u001b[0m     files \u001b[38;5;241m=\u001b[39m \u001b[38;5;28msorted\u001b[39m(files, key\u001b[38;5;241m=\u001b[39m\u001b[38;5;28;01mlambda\u001b[39;00m x: x[x\u001b[38;5;241m.\u001b[39mindex(\u001b[38;5;124m\"\u001b[39m\u001b[38;5;124m.nc\u001b[39m\u001b[38;5;124m\"\u001b[39m)\u001b[38;5;241m-\u001b[39m\u001b[38;5;241m13\u001b[39m:x\u001b[38;5;241m.\u001b[39mindex(\u001b[38;5;124m\"\u001b[39m\u001b[38;5;124m.nc\u001b[39m\u001b[38;5;124m\"\u001b[39m)\u001b[38;5;241m-\u001b[39m\u001b[38;5;241m9\u001b[39m])\n",
      "\u001b[0;31mNameError\u001b[0m: name 'path_folder' is not defined"
     ]
    }
   ],
   "source": [
    "experiment = 'abrupt-4xCO2'\n",
    "model = 'FGOALS-g3'\n",
    "\n",
    "if experiment == 'historical':\n",
    "    yearEnd_first = 1970\n",
    "    yearStart_last = 1999\n",
    "\n",
    "if experiment == 'abrupt-4xCO2':\n",
    "    yearEnd_first, yearStart_last = rcp_years(model)\n",
    "\n",
    "files = [f for f in os.listdir(path_folder) if f.endswith('.nc')]\n",
    "if 'Amon' in path_folder:\n",
    "    files = sorted(files, key=lambda x: x[x.index(\".nc\")-13:x.index(\".nc\")-9])\n",
    "    files = [f for f in files if int(f[f.index(\".nc\")-13:f.index(\".nc\")-9]) <= int(yearStart_last) and int(f[f.index(\".nc\")-6:f.index(\".nc\")-2]) >= int(yearEnd_first)]\n",
    "else:\n",
    "    files = sorted(files, key=lambda x: x[x.index(\".nc\")-17:x.index(\".nc\")-13])\n",
    "    files = [f for f in files if int(f[f.index(\".nc\")-17:f.index(\".nc\")-13]) <= int(yearStart_last) and int(f[f.index(\".nc\")-8:f.index(\".nc\")-4]) >= int(yearEnd_first)]\n",
    "\n",
    "    for f in files:\n",
    "        if int(f[f.index(\".nc\")-17:f.index(\".nc\")-9])==19790101 and int(f[f.index(\".nc\")-8:f.index(\".nc\")])==20051231:\n",
    "            files.remove(f)\n",
    "\n",
    "path_fileList = []\n",
    "for file in files:\n",
    "    path_fileList = np.append(path_fileList, os.path.join(path_folder, file))"
   ]
  }
 ],
 "metadata": {
  "kernelspec": {
   "display_name": "Python 3",
   "language": "python",
   "name": "python3"
  },
  "language_info": {
   "codemirror_mode": {
    "name": "ipython",
    "version": 3
   },
   "file_extension": ".py",
   "mimetype": "text/x-python",
   "name": "python",
   "nbconvert_exporter": "python",
   "pygments_lexer": "ipython3",
   "version": "3.9.15"
  },
  "vscode": {
   "interpreter": {
    "hash": "40d3a090f54c6569ab1632332b64b2c03c39dcf918b08424e98f38b5ae0af88f"
   }
  }
 },
 "nbformat": 4,
 "nbformat_minor": 5
}
