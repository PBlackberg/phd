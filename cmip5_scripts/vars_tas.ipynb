{
 "cells": [
  {
   "cell_type": "markdown",
   "id": "be534844-a7b1-445d-b9a9-a2486673a84a",
   "metadata": {
    "jp-MarkdownHeadingCollapsed": true,
    "tags": []
   },
   "source": [
    "## surface temperature (tas)"
   ]
  },
  {
   "cell_type": "code",
   "execution_count": null,
   "id": "9569f1eb-614b-4c80-97fd-470988b6df34",
   "metadata": {},
   "outputs": [],
   "source": [
    "import intake\n",
    "import xarray as xr\n",
    "#import xesmf as xe\n",
    "import numpy as np\n",
    "\n",
    "import matplotlib.pyplot as plt\n",
    "\n",
    "import os\n",
    "\n",
    "import myFuncs\n",
    "import myPlots\n",
    "\n",
    "\n",
    "#import dask\n",
    "#dask.config.set(**{'array.slicing.split_large_chunks': True})\n"
   ]
  },
  {
   "cell_type": "code",
   "execution_count": null,
   "metadata": {},
   "outputs": [],
   "source": [
    "models = [\n",
    "        # 'IPSL-CM5A-MR', # 1\n",
    "         'GFDL-CM3',     # 2\n",
    "        # 'GISS-E2-H',    # 3\n",
    "        # 'bcc-csm1-1',   # 4\n",
    "        # 'CNRM-CM5',     # 5\n",
    "        # 'CCSM4',        # 6 # cannot concatanate files for historical run\n",
    "        # 'HadGEM2-AO',   # 7\n",
    "        # 'BNU-ESM',      # 8\n",
    "        # 'EC-EARTH',     # 9\n",
    "        # 'FGOALS-g2',    # 10\n",
    "        # 'MPI-ESM-MR',   # 11\n",
    "        # 'CMCC-CM',      # 12\n",
    "        # 'inmcm4',       # 13\n",
    "        # 'NorESM1-M',    # 14\n",
    "        # 'CanESM2',      # 15 # slicing with .sel does not work, 'contains no datetime objects'\n",
    "        # 'MIROC5',       # 16\n",
    "        # 'HadGEM2-CC',   # 17\n",
    "        # 'MRI-CGCM3',    # 18\n",
    "        # 'CESM1-BGC'     # 19\n",
    "        ]\n",
    "\n",
    "\n",
    "model = models[0] #'GFDL-CM3'\n",
    "\n",
    "\n",
    "historical = False\n",
    "rcp85 = True\n",
    "\n",
    "if historical:\n",
    "    experiment = 'historical'\n",
    "    period=slice('1970-01','1999-12')\n",
    "    ensemble = 'r1i1p1'\n",
    "\n",
    "    if model == 'GISS-E2-H':\n",
    "        ensemble = 'r6i1p1'\n",
    "\n",
    "    if model == 'EC-EARTH':\n",
    "        ensemble = 'r6i1p1'\n",
    "\n",
    "\n",
    "if rcp85:\n",
    "    experiment = 'rcp85'\n",
    "    period=slice('2070-01','2099-12')\n",
    "    ensemble = 'r1i1p1'\n",
    "\n",
    "    if model == 'GISS-E2-H':\n",
    "        ensemble = 'r2i1p1'\n",
    "\n",
    "    if model == 'EC-EARTH':\n",
    "        ensemble = 'r6i1p1'\n",
    "\n",
    "\n",
    "ds_dict = intake.cat.nci['esgf'].cmip5.search(\n",
    "                                        model_id = model, \n",
    "                                        experiment = experiment,\n",
    "                                        time_frequency = 'mon', \n",
    "                                        realm = 'atmos', \n",
    "                                        ensemble = ensemble, \n",
    "                                        variable= 'tas').to_dataset_dict()\n",
    "\n",
    "\n",
    "if not (model == 'FGOALS-g2' or model == 'CNRM-CM5'):\n",
    "    ds_orig =ds_dict[list(ds_dict.keys())[-1]].sel(time=period, lon=slice(0,360),lat=slice(-35,35))\n",
    "\n",
    "elif model == 'FGOALS-g2':\n",
    "    ds_orig =ds_dict[list(ds_dict.keys())[-1]].isel(time=slice(12*120, 12*120 + 12*30)).sel(lon=slice(0,360), lat=slice(-35,35))\n",
    "    \n",
    "elif model == 'CNRM-CM5':\n",
    "    ds_orig =ds_dict[list(ds_dict.keys())[-1]].isel(time=slice(12*64, 12*64 + 12*30)).sel(lon=slice(0,360), lat=slice(-35,35))\n",
    "\n",
    "\n",
    "# print(ds_pr.pr.encoding), will show that missing values are represented as 1e+20, although importing it with intake converts them to nan"
   ]
  },
  {
   "cell_type": "code",
   "execution_count": null,
   "metadata": {},
   "outputs": [],
   "source": [
    "haveDsOut = True\n",
    "ds_tas = myFuncs.regrid_conserv(ds_orig, haveDsOut) # path='', model'')"
   ]
  },
  {
   "cell_type": "code",
   "execution_count": null,
   "metadata": {},
   "outputs": [],
   "source": [
    "ds_tas"
   ]
  },
  {
   "cell_type": "code",
   "execution_count": null,
   "id": "3e8bce6d-adc5-49d9-a0d8-c397bd6c9a40",
   "metadata": {},
   "outputs": [],
   "source": [
    "tas = ds_tas.tas-273.15\n",
    "tas.attrs['units']= 'deg (C)'\n",
    "tas"
   ]
  },
  {
   "cell_type": "code",
   "execution_count": null,
   "id": "509cd67d",
   "metadata": {},
   "outputs": [],
   "source": [
    "myPlots.plot_snapshot(tas.isel(time=0), 'Reds', 'precipitation', model)"
   ]
  },
  {
   "cell_type": "code",
   "execution_count": null,
   "id": "9ceb850e",
   "metadata": {},
   "outputs": [],
   "source": [
    "myPlots.plot_snapshot(tas.mean(dim='time', keep_attrs=True), 'Reds', 'precipitation', model) # 'coolwarm'"
   ]
  },
  {
   "cell_type": "code",
   "execution_count": null,
   "metadata": {},
   "outputs": [],
   "source": [
    "# as function\n",
    "def get_tas_snapshot_tMean(tas):\n",
    "    return tas.isel(time=0), tas.mean(dim='time', keep_attrs=True)\n"
   ]
  },
  {
   "cell_type": "code",
   "execution_count": null,
   "metadata": {},
   "outputs": [],
   "source": [
    "weights = np.cos(np.deg2rad(tas.lat))\n",
    "tas_annual= tas.resample(time='Y').mean(dim='time', keep_attrs=True).weighted(weights).mean(dim=('lat','lon'))\n",
    "tas_annual"
   ]
  },
  {
   "cell_type": "code",
   "execution_count": null,
   "metadata": {},
   "outputs": [],
   "source": [
    "# as function\n",
    "def calc_tas_annual(tas):\n",
    "    weights = np.cos(np.deg2rad(tas.lat))\n",
    "    return tas.resample(time='Y').mean(dim='time', keep_attrs=True).weighted(weights).mean(dim=('lat','lon'))\n"
   ]
  },
  {
   "cell_type": "code",
   "execution_count": null,
   "metadata": {},
   "outputs": [],
   "source": [
    "f, ax = plt.subplots(figsize=(15, 5))\n",
    "\n",
    "da = xr.DataArray(tas_annual.data)\n",
    "da.plot(ax=ax, label='surface temperature annual')\n",
    "ax.set_title('surface temperature annual, model:' + model + ' exp:' + experiment)\n",
    "ax.set_ylabel('Surface temperature [deg (C)]')\n",
    "ax.set_xlabel('year')\n",
    "ax.legend(loc = 'upper left')\n",
    "\n",
    "plt.tight_layout()"
   ]
  },
  {
   "cell_type": "markdown",
   "metadata": {},
   "source": [
    "## saving"
   ]
  },
  {
   "cell_type": "code",
   "execution_count": null,
   "metadata": {},
   "outputs": [],
   "source": [
    "folder = '/g/data/k10/cb4968/cmip5/' + model"
   ]
  },
  {
   "cell_type": "code",
   "execution_count": null,
   "id": "ce1fb2e1-0eb6-4e9c-ad33-15eca4862880",
   "metadata": {},
   "outputs": [],
   "source": [
    "# spatial mean temperature\n",
    "save = False\n",
    "if save:\n",
    "    os.makedirs(folder, exist_ok=True)\n",
    "    \n",
    "    fileName = model + '_tas_' + experiment + '.nc'\n",
    "    path = folder + '/' + fileName\n",
    "    if os.path.exists(path):\n",
    "        os.remove(path)    \n",
    "\n",
    "    xr.Dataset({'tas_day': tas.isel(time=0), 'tas_tMean': tas.mean(dim='time', keep_attrs=True)}).to_netcdf(path)"
   ]
  },
  {
   "cell_type": "code",
   "execution_count": null,
   "metadata": {},
   "outputs": [],
   "source": [
    "# annual mean\n",
    "save = False\n",
    "if save:\n",
    "    os.makedirs(folder, exist_ok=True)\n",
    "    \n",
    "    fileName = model + '_tas_annual_' + experiment + '.nc'\n",
    "    path = folder + '/' + fileName\n",
    "    if os.path.exists(path):\n",
    "        os.remove(path)    \n",
    "\n",
    "    xr.Dataset({'tas_annual': tas_annual}).to_netcdf(path)"
   ]
  }
 ],
 "metadata": {
  "kernelspec": {
   "display_name": "Python 3.9.12 ('base')",
   "language": "python",
   "name": "python3"
  },
  "language_info": {
   "codemirror_mode": {
    "name": "ipython",
    "version": 3
   },
   "file_extension": ".py",
   "mimetype": "text/x-python",
   "name": "python",
   "nbconvert_exporter": "python",
   "pygments_lexer": "ipython3",
   "version": "3.9.12"
  },
  "orig_nbformat": 4,
  "vscode": {
   "interpreter": {
    "hash": "40d3a090f54c6569ab1632332b64b2c03c39dcf918b08424e98f38b5ae0af88f"
   }
  }
 },
 "nbformat": 4,
 "nbformat_minor": 2
}
