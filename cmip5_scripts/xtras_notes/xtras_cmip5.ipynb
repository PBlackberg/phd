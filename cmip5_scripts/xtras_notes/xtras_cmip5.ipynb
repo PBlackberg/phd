{
 "cells": [
  {
   "cell_type": "code",
   "execution_count": 1,
   "metadata": {},
   "outputs": [],
   "source": [
    "# \n",
    "#\n",
    "# Map plot (single)\n",
    "# \n",
    "#"
   ]
  },
  {
   "cell_type": "code",
   "execution_count": 2,
   "metadata": {},
   "outputs": [],
   "source": [
    "# Packages\n",
    "\n",
    "# # calculation and plotting\n",
    "# import numpy as np\n",
    "# import pandas as pd\n",
    "# import matplotlib.pyplot as plt\n",
    "# %matplotlib inline\n",
    "# # plt.rcParams['figure.figsize']=(15.5), you can also do this as a stylesheet\n",
    "# # from matplotlib import style\n",
    "# # style.use('dark_background')\n",
    "# # https://matplotlib.org/3.1.0/gallery/...\n",
    "# # you can define your own parameters, like fontsize, etc as a style\n",
    "# # subplots with plt.subplot2grid((r,c),(start,point), rowspan=, colspan=)\n",
    "# #plt.subplots(layout=\"constrained\")\n",
    "# # plt.tight_layout\n",
    "# from mpl_toolkits.axes_grid1 import make_axes_locatable\n",
    "\n",
    "# # maps\n",
    "# import cartopy.crs as ccrs\n",
    "# import cartopy.feature as cfeat\n",
    "\n",
    "# # paths and loading\n",
    "# import os\n",
    "# from scipy.io import loadmat\n",
    "\n",
    "# # other\n",
    "# import timeit"
   ]
  },
  {
   "cell_type": "code",
   "execution_count": 3,
   "metadata": {},
   "outputs": [],
   "source": [
    "# creating paths\n",
    "#options\n",
    "\n",
    "# os.listdir, one directorlat\n",
    "\n",
    "#folder_path= r'C:\\\\Users\\\\carlp\\\\data\\\\97th_percentile\\\\domain'\n",
    "#files = os.listdir(folder_path)\n",
    "#print(files)\n",
    "#dir= os.path.abspath(os.path.join(folder_path, files[17]))\n",
    "#print(dir)\n",
    "\n",
    "\n",
    "# def listDir(dir):\n",
    "#     fileNames = os.listdir(dir)\n",
    "#     for fileName in fileNames:\n",
    "#             #print(fileName)\n",
    "#             return os.path.abspath(os.path.join(dir, fileName))\n",
    "\n",
    "# dir = listDir(folder_path)\n",
    "\n",
    "\n",
    "# os.walk\n",
    "#import os\n",
    "\n",
    "#for path, dirs, files in os.walk('/Users/carlp/data/97th_percentile/domain'):\n",
    "    #print(path)\n",
    "    #for f in files:\n",
    "    #    fname= os.path.join(path,f)\n",
    "    #    print(fname)\n",
    "\n",
    "    #for f in files:\n",
    "    #    fileName= os.path.join(path,f)\n",
    "\n",
    "    #pathlib\n",
    "# from pathlib import Path\n",
    "# home_dir = Path.home()\n",
    "# print(home_dir)\n",
    "\n",
    "# print(Path.cwd())\n",
    "\n",
    "# folder_dir = home_dir / 'data' / '97th_percentile' / 'domain'\n",
    "# print(file_dir)\n",
    "\n",
    "\n",
    "\n",
    "# for file in folder_dir: \n",
    "#     if file.suffilon == 'historical':\n",
    "#         print(file)\n",
    "\n",
    "\n",
    "# h5py\n",
    "# # import h5py\n",
    "# f= h5py.File(,'r')\n",
    "# data=f.get('data/variable1')\n",
    "# data= np.arralat(data)"
   ]
  },
  {
   "cell_type": "code",
   "execution_count": 4,
   "metadata": {},
   "outputs": [],
   "source": [
    "# choose variables\n",
    "# data_path = '/Users/cbla0002/Documents/data'\n",
    "\n",
    "# all\n",
    "# percentiles= ['95th_percentile', '97th_percentile', '99th_percentile']\n",
    "# var_files= ['domain', 'convective_objects', 'aggregation_index', 'examples']\n",
    "# insts = ['IPSL','NOAA-GFDL','NASA-GISS','BCC','CNRM-CERFACS','NCAR'\n",
    "#         ,'NIMR-KMA','BNU','ICHEC','LASG-CESS','MPI-M','CMCC','INM','NCC' \n",
    "#         ,'CCCma','MIROC','MOHC','MRI','NSF-DOE-NCAR']\n",
    "# vars= ['pr','hus','tas','convective_objects','aggregation_indelon']\n",
    "# scenarios= ['historical', 'rcp85']\n",
    "\n",
    "\n",
    "# # chosen\n",
    "# percentile= ['97th_percentile']\n",
    "# var_file= ['domain']\n",
    "# inst = ['IPSL']\n",
    "# var= ['pr']\n",
    "# scenario= ['historical']\n",
    "\n",
    "\n",
    "\n",
    "# fileName = inst[0] + '_' + var_file[0] + '_' + var[0] + '_' + scenario[0] \n",
    "# #print(fileName)\n",
    "\n",
    "# file_path = os.path.abspath(os.path.join(data_path, percentile[0], var_file[0], fileName))\n",
    "#print(file_path)"
   ]
  },
  {
   "cell_type": "code",
   "execution_count": 4,
   "metadata": {},
   "outputs": [],
   "source": [
    "# load variables\n",
    "# data = loadmat(file_path)\n",
    "# print(data.keys())"
   ]
  },
  {
   "cell_type": "code",
   "execution_count": 6,
   "metadata": {},
   "outputs": [],
   "source": [
    "# Define variables\n",
    "#print(np.shape(data['lon']))\n",
    "\n",
    "# lon = np.squeeze(data['lon'],axis=1)\n",
    "# lat = np.squeeze(data['lat'],axis=1)\n",
    "# z = data['mean_pr_image']\n",
    "# z = np.transpose(z)\n",
    "\n",
    "\n",
    "#print(np.shape(lon))\n",
    "#print(lon[0:5])\n"
   ]
  },
  {
   "cell_type": "code",
   "execution_count": 3,
   "metadata": {},
   "outputs": [],
   "source": [
    "# plot data\n",
    "# lon2d, lat2d= np.meshgrid(lon,lat)\n",
    "# #print(lon2d[0:5,0:5])\n",
    "# #print(lat2d[0:5,0:5])\n",
    "\n",
    "# fig= plt.figure(figsize=(15,5))\n",
    "# ax= fig.add_subplot(1,1,1)\n",
    "# pcm= ax.pcolormesh(lon2d,lat2d,z)\n",
    "\n",
    "# divider = make_axes_locatable(ax)\n",
    "# cax = divider.append_axes(\"right\", size=\"5%\", pad=0.05)\n",
    "# plt.colorbar(pcm, cax=cax)\n",
    "\n"
   ]
  },
  {
   "cell_type": "code",
   "execution_count": 8,
   "metadata": {},
   "outputs": [],
   "source": [
    "#print(lon[0])\n",
    "#print(lon[-1])"
   ]
  },
  {
   "cell_type": "code",
   "execution_count": 2,
   "metadata": {},
   "outputs": [],
   "source": [
    "# plot map\n",
    "# fig= plt.figure(figsize=(15,5))\n",
    "# ax= fig.add_subplot(1,1,1, projection=ccrs.PlateCarree()) #central_longitude=180\n",
    "# ax.add_feature(cfeat.COASTLINE)\n",
    "# ax.set_extent([lon[0], lon[-1], lat[0], lat[-1]], crs=ccrs.PlateCarree())\n",
    "\n",
    "\n",
    "#grid_lines=alon.gridlines(draw_labels=True)\n",
    "#grid_lines.lonformatter= LONGITUDE_FORMATTER\n",
    "#grid_lines.latformatter= LATITUDE_FORMATTER\n"
   ]
  },
  {
   "cell_type": "code",
   "execution_count": 1,
   "metadata": {},
   "outputs": [],
   "source": [
    "# plot data with map in background\n",
    "# plot figure map\n",
    "# fig= plt.figure(figsize=(15,5))\n",
    "\n",
    "# ax= fig.add_subplot(1,1,1, projection=ccrs.PlateCarree(central_longitude=180)) # central_longitude=180)\n",
    "# #ax.contourf(lon,lat,z)\n",
    "\n",
    "# ax.pcolormesh(lon2d,lat2d,z,transform=ccrs.PlateCarree())\n",
    "# ax.add_feature(cfeat.COASTLINE)\n",
    "# ax.set_extent([lon[0], lon[-1], lat[0], lat[-1]], crs=ccrs.PlateCarree())\n",
    "\n",
    "#ax.set_xlim(lon[0], lon[-1])\n",
    "#ax.set_ylim(lat[0], lat[-1])\n"
   ]
  },
  {
   "cell_type": "code",
   "execution_count": null,
   "metadata": {},
   "outputs": [],
   "source": [
    "# subplots 2\n",
    "# fig, axes = plt.subplots(nrows=5, ncols=4, figsize=(25,10), subplot_kw={'projection': ccrs.PlateCarree(central_longitude=180)}) #,layout=\"constrained\")\n",
    "# extent= [lon[0], lon[-1], lat[0], lat[-1]]\n",
    "# #cmap= mpl.get_cmap('Blues')\n",
    "# #norm= cm.colors.LogNorm(vmin=0,vmax=15)\n",
    "\n",
    "# i=0\n",
    "# for row in axes:\n",
    "#     for col in row:\n",
    "#         if i==19:\n",
    "#             break\n",
    "        \n",
    "#         fileName = insts[i] + '_' + var_file[0] + '_' + var[0] + '_' + scenario[0] \n",
    "#         file_path = os.path.abspath(os.path.join(data_path, percentile[0], var_file[0], fileName))\n",
    "#         data = loadmat(file_path)\n",
    "#         z = data['mean_pr_image']\n",
    "#         z = np.transpose(z)\n",
    "#         col.add_feature(cfeat.COASTLINE)\n",
    "#         col.set_extent(extent, crs=ccrs.PlateCarree())\n",
    "#         pcm= col.pcolormesh(lon2d,lat2d,z,transform=ccrs.PlateCarree(),zorder=0) #,cmap=cmap)\n",
    "\n",
    "#         col.set_title(insts[i] + ' ' + 'pr_mean ' + scenario[0])\n",
    "#         #col.set_xticks([-180, -90, 0, 90, 180])\n",
    "#         col.set_yticks([-15, 0, 15])\n",
    "\n",
    "#         i+=1\n",
    "#         if i<17:\n",
    "#             cbar= fig.colorbar(pcm,ax=col, orientation='horizontal')\n",
    "#         else:\n",
    "#             cbar= fig.colorbar(pcm,ax=col, orientation='horizontal', label='precipitation (mm/day)')\n",
    "\n",
    "\n",
    "#fig.tight_layout()\n"
   ]
  },
  {
   "cell_type": "code",
   "execution_count": 11,
   "metadata": {},
   "outputs": [],
   "source": [
    "# save figure\n",
    "\n",
    "\n",
    "# plt.savefig('C:/Users/carlp/Desktop/map.pdf')"
   ]
  },
  {
   "cell_type": "code",
   "execution_count": null,
   "metadata": {},
   "outputs": [],
   "source": [
    "# a = np.array([1, 2, 3, 4, 5, 6, 7, 8])\n",
    "\n",
    "# b = (a>=2) & (a<=5)\n",
    "# print(b)\n",
    "\n",
    "# print(a*b)\n",
    "\n",
    "# c = np.vectorize(lambda x: 2 <= x <= 5)(a)\n",
    "# print(c)"
   ]
  },
  {
   "cell_type": "code",
   "execution_count": null,
   "metadata": {},
   "outputs": [],
   "source": [
    "#def map_subplot(var, axes):\n",
    "# projection = ccrs.PlateCarree(central_longitude=180)\n",
    "# var.plot(ax=axes, transform=ccrs.PlateCarree(), levels =4, colors = ['w','c','k'], add_colorbar=False) \n",
    "# ax1.add_feature(cfeat.COASTLINE)\n",
    "# ax1.set_extent([lon[0], lon[-1], lat[0], lat[-1]], crs=ccrs.PlateCarree())\n",
    "# ax1.set_title('Snapshot, model:' + model + ' exp:' + experiment)\n",
    "# ax1.set_xticks([-180, -90, 0, 90, 180])\n",
    "# ax1.set_xticklabels([0, 90, 180, 270, 360])\n",
    "# ax1.set_yticks([-20, 0, 20])\n",
    "# plt.tight_layout()\n",
    "\n",
    "\n",
    "# All snapshots (figsize = (aspect * size, size), faceted plots (and trellis plot): xarray.plot.FacetGrid)\n",
    "#f, axs = plt.subplots(nrows = 6, ncols = 2, subplot_kw=dict(projection=projection), figsize=(15, 10))\n",
    "\n"
   ]
  },
  {
   "cell_type": "code",
   "execution_count": null,
   "metadata": {},
   "outputs": [],
   "source": [
    "# folder = '/Users/cbla0002/Documents/data' + model\n",
    "# fileName = model + '_pr4_historical.nc'\n",
    "# path = folder + '/' + fileName\n",
    "# ds_local = xr.open_dataset(path)"
   ]
  },
  {
   "cell_type": "code",
   "execution_count": null,
   "metadata": {},
   "outputs": [],
   "source": [
    "# For Markdown\n",
    "# Math inside two $$ as well makes it inline mode\n",
    "# \\partial gives delta for partial derivatives"
   ]
  },
  {
   "cell_type": "code",
   "execution_count": null,
   "metadata": {},
   "outputs": [],
   "source": [
    "#xarray.DataArray.chunk"
   ]
  },
  {
   "cell_type": "code",
   "execution_count": null,
   "metadata": {},
   "outputs": [],
   "source": [
    "#ds_pr[\"time.month\"]"
   ]
  },
  {
   "cell_type": "code",
   "execution_count": null,
   "metadata": {},
   "outputs": [],
   "source": [
    "# average position of objects for a day, considering 360-0 boundary lon position for objects crossing the boundary\n",
    "\n",
    "#     o_lat = np.append(o_lat, np.sum(obj3d * latm, axis=(0,1)) / np.sum(obj3d, axis=(0,1)))\n",
    "\n",
    "\n",
    "#     # The average lon of objects crossing the boundary must consider jump from 360 to 0\n",
    "#     o_lonDay = np.sum(obj3d * lonm, axis=(0,1)) / np.sum(obj3d, axis=(0,1))\n",
    "\n",
    "#     if not obj3d[:,0,:]==0 or obj3d[:,-1,:]==0:\n",
    "#         idx_change = np.argwhere((np.sum(obj3d[:,0,:],axis=0)>0) * ((np.sum(obj3d[:,0,:],axis=0)>0)))\n",
    "\n",
    "\n",
    "#         # add 360 to half of the domain, take the average, and then subtract again\n",
    "#         idx = int(len(lon)/2)\n",
    "#         lonm_mod = np.append(lonm(:,0:int(len(lon)/2),:)+360,latm(:,int(len(lon)/2):,:)\n",
    "#         o_lonDay[idx_change] = np.sum(obj3d * lonm_mod, axis=(0,1)) / np.sum(obj3d, axis=(0,1)) \n",
    "#         o_lonDay[idx_change] = o_lon[idx_change]  - (o_lon[idx_change]<0)*360\n",
    "\n",
    "#     o_lon = np.append(o_lon, o_lonDay)\n",
    "\n",
    "\n",
    "# o_lat = xr.DataArray(o_lat, attrs=dict(description=\"average latitude of object\", units=\"deg\"))\n",
    "# o_lon = xr.DataArray(o_lon, attrs=dict(description=\"average longitude of object\", units=\"deg\"))"
   ]
  },
  {
   "cell_type": "code",
   "execution_count": null,
   "metadata": {},
   "outputs": [],
   "source": [
    "# print(np.shape(hus_tMean))\n",
    "# shape_hus = np.shape(hus_tMean)\n",
    "# levels = np.transpose(np.tile(hus_day.plev.data,reps=[shape_hus[1], shape_hus[2], 1]),(2, 0, 1))\n",
    "# print(np.shape(levels))\n",
    "# print(levels[0, 1:4, 1:4])"
   ]
  },
  {
   "cell_type": "code",
   "execution_count": null,
   "metadata": {},
   "outputs": [],
   "source": [
    "# Mass weighted vertical integral\n",
    "# F = m * a\n",
    "# pressure force is phrased as per unit area:\n",
    "# pressure = mass * gravity / (unit area)\n",
    "# so multiply with surface area, to get the total mass of the column in gridbox\n",
    "\n",
    "# total mass of column of air in gridbox is: \n",
    "# mass = (surface pressure) * g * area of gridbox\n",
    "\n",
    "# total mass of atmosphere in tropics is:\n",
    "# (mass tropics) = sum((surface pressure) * g * area of gridbox, for each gridbox) \n",
    "\n",
    "# for the mass in each layer we have:\n",
    "# mass = dP * g * area of gridbox\n",
    "\n",
    "# (technically, the area of the subsequent laters of the atmosphere are larger than the surface gidbox area)\n",
    "\n",
    "\n",
    "# mass weighted vertical integral: (can find the average of the quantity in the layer, and multiply by the mass)\n",
    "# use trapezoid or simpson's rule\n",
    "\n",
    "\n",
    "# if you multiply by the area you get precipitable water\n",
    "# can also just leave it without area weighting, until spatial mean\n",
    "\n",
    "# J/m^2"
   ]
  },
  {
   "cell_type": "code",
   "execution_count": null,
   "metadata": {},
   "outputs": [],
   "source": [
    "# check if number is odd \n",
    "# # a = 2\n",
    "\n",
    "# if a % 2==1:\n",
    "#     print('executes')"
   ]
  },
  {
   "cell_type": "code",
   "execution_count": null,
   "metadata": {},
   "outputs": [],
   "source": [
    "# fileName = model + '_pr_extreme_' + experiment + '.nc'\n",
    "# path = folder + '/' + fileName\n",
    "# ds_percentile = xr.open_dataset(path)"
   ]
  },
  {
   "cell_type": "code",
   "execution_count": null,
   "metadata": {},
   "outputs": [],
   "source": [
    "# for regridder xesmf\n",
    "# \n",
    "# # Alternatively \n",
    "# (redefine bounds as in the documentation)\n",
    "# lon1, lon2 = zip(*ds_orig.lon_bnds)\n",
    "# lon1 = list(lon1)\n",
    "# lon2 = list(lon2)\n",
    "# lon_b = np.append(lon1[0], lon2)\n",
    "\n",
    "# lat1, lat2 = zip(*ds_orig.lat_bnds)\n",
    "# lat1 = list(lat1)\n",
    "# lat2 = list(lat2)\n",
    "# lat_b = np.append(lat1[0], lat2)\n",
    "\n",
    "# grid_in={'lon':ds_orig.lon,'lat':ds_orig.lat, \n",
    "#           'lon_b':lon_b,'lat_b':lat_b}\n",
    "\n",
    "\n",
    "# lon1, lon2 = zip(*ds_regrid.lon_bnds)\n",
    "# lon1 = list(lon1)\n",
    "# lon2 = list(lon2)\n",
    "# lon_b = np.append(lon1[0], lon2)\n",
    "\n",
    "# lat1, lat2 = zip(*ds_regrid.lat_bnds)\n",
    "# lat1 = list(lat1)\n",
    "# lat2 = list(lat2)\n",
    "# lat_b = np.append(lat1[0], lat2)\n",
    "\n",
    "# grid_out={'lon':ds_regrid.lon,'lat':ds_regrid.lat, \n",
    "#           'lon_b':lon_b,'lat_b':lat_b}\n",
    "\n",
    "# regrid = xe.Regridder(ds_orig, ds_regrid, 'conservative', periodic=True)"
   ]
  },
  {
   "cell_type": "code",
   "execution_count": null,
   "metadata": {},
   "outputs": [],
   "source": [
    "# areaweighting\n",
    "# weights = np.cos(np.deg2rad(lat))$\n",
    "# weights.name = \"weights\"\n",
    "# pr_tMean.weighted(weights).mean(dim=('lat','lon'))"
   ]
  },
  {
   "cell_type": "code",
   "execution_count": null,
   "metadata": {},
   "outputs": [],
   "source": [
    "# for True/False dict\n",
    "# import collections\n",
    "# switch = collections.defaultdict(lambda: False, metricFiles)"
   ]
  }
 ],
 "metadata": {
  "kernelspec": {
   "display_name": "Python 3.6.8 64-bit",
   "language": "python",
   "name": "python3"
  },
  "language_info": {
   "codemirror_mode": {
    "name": "ipython",
    "version": 3
   },
   "file_extension": ".py",
   "mimetype": "text/x-python",
   "name": "python",
   "nbconvert_exporter": "python",
   "pygments_lexer": "ipython3",
   "version": "3.6.8"
  },
  "vscode": {
   "interpreter": {
    "hash": "916dbcbb3f70747c44a77c7bcd40155683ae19c65e1c03b4aa3499c5328201f1"
   }
  }
 },
 "nbformat": 4,
 "nbformat_minor": 4
}
