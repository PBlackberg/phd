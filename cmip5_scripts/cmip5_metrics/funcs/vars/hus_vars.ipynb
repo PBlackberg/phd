{
 "cells": [
  {
   "cell_type": "markdown",
   "id": "bf807a46-6c7c-441b-9547-f3e991f92a24",
   "metadata": {
    "jp-MarkdownHeadingCollapsed": true,
    "tags": []
   },
   "source": [
    "## humidity (hus)"
   ]
  },
  {
   "cell_type": "code",
   "execution_count": null,
   "metadata": {},
   "outputs": [],
   "source": [
    "import intake\n",
    "import xarray as xr\n",
    "#import xesmf as xe\n",
    "import scipy\n",
    "import numpy as np\n",
    "\n",
    "import matplotlib.pyplot as plt\n",
    "\n",
    "import os\n",
    "\n",
    "import myFuncs\n",
    "import myPlots\n",
    "\n",
    "\n",
    "#import dask\n",
    "#dask.config.set(**{'array.slicing.split_large_chunks': True})"
   ]
  },
  {
   "cell_type": "code",
   "execution_count": null,
   "id": "673dfb85-8709-45f7-ba2f-fc7d8640cbb7",
   "metadata": {},
   "outputs": [],
   "source": [
    "models = [\n",
    "        # 'IPSL-CM5A-MR', # 1 # super slow for some reason\n",
    "         'GFDL-CM3',     # 2\n",
    "        # 'GISS-E2-H',    # 3\n",
    "        # 'bcc-csm1-1',   # 4\n",
    "        # 'CNRM-CM5',     # 5\n",
    "        # 'CCSM4',        # 6 # cannot concatanate files for rcp\n",
    "        # 'HadGEM2-AO',   # 7\n",
    "        # 'BNU-ESM',      # 8\n",
    "        # 'EC-EARTH',     # 9\n",
    "        # 'FGOALS-g2',    # 10\n",
    "        # 'MPI-ESM-MR',   # 11\n",
    "        # 'CMCC-CM',      # 12\n",
    "        # 'inmcm4',       # 13\n",
    "        # 'NorESM1-M',    # 14\n",
    "        # 'CanESM2',      # 15 # rcp scenario: slicing with .sel does not work, says it 'contains no datetime objects'\n",
    "        # 'MIROC5',       # 16\n",
    "        # 'HadGEM2-CC',   # 17\n",
    "        # 'MRI-CGCM3',    # 18\n",
    "        # 'CESM1-BGC'     # 19\n",
    "        ]\n",
    "\n",
    "model = models[0]\n",
    "\n",
    "\n",
    "historical = False\n",
    "rcp85 = True\n",
    "\n",
    "if historical:\n",
    "    experiment = 'historical'\n",
    "    period=slice('1970-01','1999-12')\n",
    "    ensemble = 'r1i1p1'\n",
    "\n",
    "    if model == 'GISS-E2-H':\n",
    "        ensemble = 'r6i1p1'\n",
    "\n",
    "    if model == 'CCSM4':\n",
    "        ensemble = 'r5i1p1'\n",
    "\n",
    "\n",
    "if rcp85:\n",
    "    experiment = 'rcp85'\n",
    "    period=slice('2070-01','2099-12')\n",
    "    ensemble = 'r1i1p1'\n",
    "\n",
    "    if model == 'GISS-E2-H':\n",
    "        ensemble = 'r2i1p1'\n",
    "\n",
    "    if model == 'CCSM4':\n",
    "        ensemble = 'r5i1p1'\n",
    "\n",
    "\n",
    "ds_dict = intake.cat.nci['esgf'].cmip5.search(\n",
    "                                        model_id = model, \n",
    "                                        experiment = experiment,\n",
    "                                        time_frequency = 'day', \n",
    "                                        realm = 'atmos', \n",
    "                                        ensemble = ensemble, \n",
    "                                        variable= 'hus').to_dataset_dict()\n",
    "\n",
    "if not model == 'CanESM2':\n",
    "    ds_orig =ds_dict[list(ds_dict.keys())[-1]].sel(time=period, lon=slice(0,360),lat=slice(-35,35))\n",
    "\n",
    "elif (model == 'CanESM2' and experiment == 'historical'):\n",
    "    ds_orig =ds_dict[list(ds_dict.keys())[-1]].isel(time=slice(43800, 43800+10950)).sel(lon=slice(0,360),lat=slice(-35,35))\n",
    "elif (model == 'CanESM2' and experiment == 'rcp85'):\n",
    "    ds_orig = ds_dict[list(ds_dict.keys())[-1]].isel(time=slice(365*64,365*94)).sel(lon=slice(0,360),lat=slice(-35,35))\n",
    "\n",
    "    \n",
    "# print(ds_pr.pr.encoding), will show that missing values are represented as 1e+20, although importing it with intake converts them to nan"
   ]
  },
  {
   "cell_type": "code",
   "execution_count": null,
   "metadata": {},
   "outputs": [],
   "source": [
    "ds_orig"
   ]
  },
  {
   "cell_type": "code",
   "execution_count": null,
   "metadata": {},
   "outputs": [],
   "source": [
    "haveDsOut = True\n",
    "ds_hus = myFuncs.regrid_conserv(ds_orig, haveDsOut) # path='', model'')"
   ]
  },
  {
   "cell_type": "code",
   "execution_count": null,
   "metadata": {},
   "outputs": [],
   "source": [
    "hus = ds_hus.hus*1000\n",
    "hus.attrs['units']= 'g/kg'\n",
    "hus"
   ]
  },
  {
   "cell_type": "code",
   "execution_count": null,
   "metadata": {},
   "outputs": [],
   "source": [
    "hus.plev.data"
   ]
  },
  {
   "cell_type": "code",
   "execution_count": null,
   "metadata": {},
   "outputs": [],
   "source": [
    "da = hus.fillna(0)\n",
    "hus_vInt = xr.DataArray(\n",
    "    data=-scipy.integrate.simpson(da, hus.plev.data, axis=1, even='last')/hus.plev.data[0],\n",
    "    dims=['time','lat', 'lon'],\n",
    "    coords={'time': hus.time.data, 'lat': hus.lat.data, 'lon': hus.lon.data}\n",
    "    ,attrs={'units':'mm/day'}\n",
    "    )\n",
    "\n",
    "\n",
    "# mass = (pressure/g) * surface area (g and surface are multiplied in numerator and denominator, so we can leave that out for the weighting)\n",
    "\n",
    "# (orignial dataset have units of kg/kg. Mutiplying that with the mass of the column we get kg/m^2/day, which is the same as mm/day\n",
    "# as all the water in the atmosphere does not fall as rain, this is an estimate of precipitable water)"
   ]
  },
  {
   "cell_type": "code",
   "execution_count": null,
   "metadata": {},
   "outputs": [],
   "source": [
    "myPlots.plot_snapshot(hus_vInt.isel(time=0), 'Greens', 'massweighted vertically integrated humidity', model)"
   ]
  },
  {
   "cell_type": "code",
   "execution_count": null,
   "metadata": {},
   "outputs": [],
   "source": [
    "myPlots.plot_snapshot(hus_vInt.mean(dim=('time'), keep_attrs=True), 'Greens', 'time mean humidty vInt', model)"
   ]
  },
  {
   "cell_type": "code",
   "execution_count": null,
   "metadata": {},
   "outputs": [],
   "source": [
    "# as function\n",
    "def get_hus_snapshot_tMean(hus):\n",
    "    da = hus.fillna(0)\n",
    "    hus_vInt = xr.DataArray(\n",
    "        data=-scipy.integrate.simpson(da, hus.plev.data, axis=1, even='last')/hus.plev.data[0],\n",
    "        dims=['time','lat', 'lon'],\n",
    "        coords={'time': hus.time.data, 'lat': hus.lat.data, 'lon': hus.lon.data}\n",
    "        ,attrs={'units':'mm/day'}\n",
    "        )\n",
    "    return hus_vInt.isel(time=0), hus_vInt.mean(dim=('time'), keep_attrs=True)"
   ]
  },
  {
   "cell_type": "code",
   "execution_count": null,
   "metadata": {},
   "outputs": [],
   "source": [
    "aWeights = np.cos(np.deg2rad(hus.lat))\n",
    "f, ax = plt.subplots(figsize=(15, 4))\n",
    "\n",
    "hus_vInt.weighted(aWeights).mean(dim=('lat','lon'), keep_attrs=True).plot(ax=ax,label='spatial mean hus')\n",
    "ax.set_title('spatial mean, massweighted vertically integrated humidity, model:' + model + ' exp:' + experiment)\n",
    "plt.tight_layout()\n",
    "plt.legend()\n",
    "\n",
    "#hus_vInt_sMean= hus_vInt.weighted(aWeights).mean(dim=('lat','lon'), keep_attrs=True)"
   ]
  },
  {
   "cell_type": "code",
   "execution_count": null,
   "metadata": {},
   "outputs": [],
   "source": [
    "# as function\n",
    "def calc_hus_sMean(hus):\n",
    "    aWeights = np.cos(np.deg2rad(hus.lat))\n",
    "    da = hus.fillna(0)\n",
    "    hus_vInt = xr.DataArray(\n",
    "        data=-scipy.integrate.simpson(da, hus.plev.data, axis=1, even='last'),\n",
    "        dims=['time','lat', 'lon'],\n",
    "        coords={'time': hus.time.data, 'lat': hus.lat.data, 'lon': hus.lon.data}\n",
    "        ,attrs={'units':'mm/day'}\n",
    "        )\n",
    "    return hus_vInt.weighted(aWeights).mean(dim=('lat','lon'), keep_attrs=True)"
   ]
  },
  {
   "cell_type": "markdown",
   "metadata": {},
   "source": [
    "## saving"
   ]
  },
  {
   "cell_type": "code",
   "execution_count": null,
   "metadata": {},
   "outputs": [],
   "source": [
    "# humidity examples\n",
    "save = False\n",
    "if save:\n",
    "    folder = '/g/data/k10/cb4968/cmip5/' + model\n",
    "    os.makedirs(folder, exist_ok=True)\n",
    "    \n",
    "    fileName = model + '_hus_examples' + experiment + '.nc'\n",
    "    path = folder + '/' + fileName\n",
    "    if os.path.exists(path):\n",
    "        os.remove(path)    \n",
    "\n",
    "    xr.Dataset({'hus_day': hus.isel(time=0), 'hus_tMean': hus_vInt.mean(dim=('time'), keep_attrs=True)}).to_netcdf(path)"
   ]
  },
  {
   "cell_type": "code",
   "execution_count": null,
   "metadata": {},
   "outputs": [],
   "source": [
    "# hus test, for local\n",
    "save = False\n",
    "if save:\n",
    "    folder = '/g/data/k10/cb4968/data/cmip5/' + model\n",
    "    os.makedirs(folder, exist_ok=True)\n",
    "    \n",
    "    fileName = model + '_hus4_' + experiment + '.nc'\n",
    "    path = folder + '/' + fileName\n",
    "    if os.path.exists(path):\n",
    "        os.remove(path)    \n",
    "\n",
    "    xr.Dataset({'hus_4days': hus.isel(time=slice(0,4))}).to_netcdf(path)"
   ]
  },
  {
   "cell_type": "code",
   "execution_count": null,
   "metadata": {},
   "outputs": [],
   "source": [
    "# humidity daily spatial mean\n",
    "save = False\n",
    "if save:\n",
    "    folder = '/g/data/k10/cb4968/cmip5/' + model\n",
    "    os.makedirs(folder, exist_ok=True)\n",
    "    fileName = model + '_hus_sMean' + experiment + '.nc'\n",
    "    path = folder + '/' + fileName\n",
    "    if os.path.exists(path):\n",
    "        os.remove(path)    \n",
    "\n",
    "    xr.Dataset({'hus_sMean': hus_vInt.weighted(aWeights).mean(dim=('lat','lon'), keep_attrs=True)}).to_netcdf(path)"
   ]
  }
 ],
 "metadata": {
  "kernelspec": {
   "display_name": "Python 3.9.12 ('base')",
   "language": "python",
   "name": "python3"
  },
  "language_info": {
   "name": "python",
   "version": "3.9.12"
  },
  "orig_nbformat": 4,
  "vscode": {
   "interpreter": {
    "hash": "40d3a090f54c6569ab1632332b64b2c03c39dcf918b08424e98f38b5ae0af88f"
   }
  }
 },
 "nbformat": 4,
 "nbformat_minor": 2
}
