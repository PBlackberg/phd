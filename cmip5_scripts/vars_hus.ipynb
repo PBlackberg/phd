{
 "cells": [
  {
   "cell_type": "markdown",
   "id": "bf807a46-6c7c-441b-9547-f3e991f92a24",
   "metadata": {
    "jp-MarkdownHeadingCollapsed": true,
    "tags": []
   },
   "source": [
    "## humidity (hus)"
   ]
  },
  {
   "cell_type": "code",
   "execution_count": null,
   "id": "673dfb85-8709-45f7-ba2f-fc7d8640cbb7",
   "metadata": {},
   "outputs": [],
   "source": [
    "# model #3 and #6 (r6i1p1, r5i1p1)\n",
    "# model #3 and #6 (r2i1p1, r5i1p1)"
   ]
  },
  {
   "cell_type": "code",
   "execution_count": null,
   "id": "da41b6bd-3ce0-4472-8348-cd8d39c323a5",
   "metadata": {},
   "outputs": [],
   "source": [
    "subset = intake.cat.nci['esgf'].cmip5.search(\n",
    "                                            model_id = model, \n",
    "                                            experiment = experiment,\n",
    "                                            time_frequency = 'day', \n",
    "                                            realm = 'atmos', \n",
    "                                            ensemble = ensemble, \n",
    "                                            variable= 'hus'\n",
    ")\n",
    "subset"
   ]
  },
  {
   "cell_type": "code",
   "execution_count": null,
   "id": "bd67cf6d-7aa8-40cc-ac7d-d30b97c9d2c8",
   "metadata": {},
   "outputs": [],
   "source": [
    "ds_dict = subset.to_dataset_dict()"
   ]
  },
  {
   "cell_type": "code",
   "execution_count": null,
   "id": "ec950ede-c958-4471-a27f-dfed59a50b0c",
   "metadata": {},
   "outputs": [],
   "source": [
    "ds_hus = ds_dict[list(ds_dict.keys())[-1]].sel(time=period, lon=slice(0,360),lat=slice(-30,30))\n",
    "ds_hus"
   ]
  },
  {
   "cell_type": "code",
   "execution_count": null,
   "id": "e40382b0-a1ee-45fc-bec5-dfa8acc6f944",
   "metadata": {},
   "outputs": [],
   "source": [
    "ds_hus.hus.encoding"
   ]
  },
  {
   "cell_type": "code",
   "execution_count": null,
   "id": "79a37d0d-5a4f-409d-b22b-4033120102f0",
   "metadata": {},
   "outputs": [],
   "source": [
    "ds_hus = ds_hus.where(ds_hus.hus < 1e+20) "
   ]
  },
  {
   "cell_type": "code",
   "execution_count": null,
   "id": "8403ef5d-0e6e-42ec-9ca0-e4c321559af4",
   "metadata": {},
   "outputs": [],
   "source": [
    "hus = regridder(ds_hus).hus*1000\n",
    "hus.attrs['units']= 'g/kg'\n",
    "hus"
   ]
  },
  {
   "cell_type": "code",
   "execution_count": null,
   "metadata": {},
   "outputs": [],
   "source": [
    "# 100 g/kg are missing values (temp)"
   ]
  },
  {
   "cell_type": "code",
   "execution_count": null,
   "id": "a4b73041-24cf-404e-811a-24734f763732",
   "metadata": {},
   "outputs": [],
   "source": [
    "hus_day=hus.isel(time=0).mean(dim='plev',keep_attrs=True)\n",
    "lat = hus_day.lat\n",
    "lon = hus_day.lon"
   ]
  },
  {
   "cell_type": "code",
   "execution_count": null,
   "id": "f530f993-c4be-4fda-9996-4628e9dc63db",
   "metadata": {},
   "outputs": [],
   "source": [
    "# plot snapshot\n",
    "projection = ccrs.PlateCarree(central_longitude=180)\n",
    "\n",
    "f, ax = plt.subplots(subplot_kw=dict(projection=projection), figsize=(15, 5))\n",
    "\n",
    "hus_day.plot(transform=ccrs.PlateCarree(), cbar_kwargs={'orientation': 'horizontal','pad':0.125, 'aspect':50,'fraction':0.055},cmap='Greens')\n",
    "ax.add_feature(cfeat.COASTLINE)\n",
    "ax.set_extent([lon[0], lon[-1], lat[0], lat[-1]], crs=ccrs.PlateCarree())\n",
    "ax.set_title('Snapshot, model:' + model + ' exp:' + experiment)\n",
    "ax.set_xticks([-180, -90, 0, 90, 180])\n",
    "ax.set_xticklabels([0, 90, 180, 270, 360])\n",
    "ax.set_yticks([-20, 0, 20])\n",
    "plt.tight_layout()"
   ]
  },
  {
   "cell_type": "code",
   "execution_count": null,
   "id": "7f3e33f9-7acb-42fd-b334-0b801615b85f",
   "metadata": {},
   "outputs": [],
   "source": [
    "hus_tMean= hus.mean(dim=('plev','time'), keep_attrs=True)\n",
    "\n",
    "# areaweighting\n",
    "# weights = np.cos(np.deg2rad(lat))\n",
    "# weights.name = \"weights\"\n",
    "# pr_tMean.weighted(weights).mean(dim=('lat','lon'))"
   ]
  },
  {
   "cell_type": "code",
   "execution_count": null,
   "id": "b178eb64-3301-41e7-a474-5fdc791286e0",
   "metadata": {},
   "outputs": [],
   "source": [
    "# plot timeMean\n",
    "projection = ccrs.PlateCarree(central_longitude=180)\n",
    "\n",
    "f, ax = plt.subplots(subplot_kw=dict(projection=projection), figsize=(15, 5))\n",
    "\n",
    "hus_tMean.plot(transform=ccrs.PlateCarree(), cbar_kwargs={'orientation': 'horizontal','pad':0.125, 'aspect':50,'fraction':0.055}, cmap='Greens')\n",
    "ax.add_feature(cfeat.COASTLINE)\n",
    "ax.set_extent([lon[0], lon[-1], lat[0], lat[-1]], crs=ccrs.PlateCarree())\n",
    "ax.set_title('tMean, model:' + model + ' exp:' + experiment)\n",
    "ax.set_xticks([-180, -90, 0, 90, 180])\n",
    "ax.set_xticklabels([0, 90, 180, 270, 360])\n",
    "ax.set_yticks([-20, 0, 20])\n",
    "plt.tight_layout()"
   ]
  },
  {
   "cell_type": "code",
   "execution_count": null,
   "id": "b2a5fce4-4d54-4d2d-9f73-a7844567ab04",
   "metadata": {},
   "outputs": [],
   "source": [
    "aWeights = np.cos(np.deg2rad(lat))\n",
    "aWeights.name = \"aWeights\"\n",
    "\n",
    "hus_sMean= hus.weighted(aWeights).mean(dim=('plev','lat','lon'), keep_attrs=True)"
   ]
  },
  {
   "cell_type": "code",
   "execution_count": null,
   "id": "59f70f1c-d3f5-45ba-bb2a-fd5ea8036266",
   "metadata": {},
   "outputs": [],
   "source": [
    "# plot spatial mean\n",
    "f, ax = plt.subplots(figsize=(15, 4))\n",
    "\n",
    "hus_sMean.plot(ax=ax,label='spatial mean hus')\n",
    "\n",
    "\n",
    "ax.set_title('sMean hus, model:' + model + ' exp:' + experiment)\n",
    "#ax.set_xticks(rx1day_sMean.time.dt.year)\n",
    "\n",
    "plt.tight_layout()\n",
    "plt.legend()\n",
    "\n"
   ]
  },
  {
   "cell_type": "markdown",
   "metadata": {},
   "source": [
    "## saving"
   ]
  },
  {
   "cell_type": "code",
   "execution_count": null,
   "metadata": {},
   "outputs": [],
   "source": [
    "# humidity examples\n",
    "save = False\n",
    "if save:\n",
    "    folder = '/g/data/k10/cb4968/cmip5/' + model\n",
    "    os.makedirs(folder, exist_ok=True)\n",
    "    \n",
    "    fileName = model + '_hus_examples' + experiment + '.nc'\n",
    "    path = folder + '/' + fileName\n",
    "    if os.path.exists(path):\n",
    "        os.remove(path)    \n",
    "\n",
    "    xr.Dataset({'hus_day': hus_day, 'hus_tMean': hus_tMean}).to_netcdf(path)"
   ]
  },
  {
   "cell_type": "code",
   "execution_count": null,
   "metadata": {},
   "outputs": [],
   "source": [
    "# humidity daily spatial mean\n",
    "save = False\n",
    "if save:\n",
    "    folder = '/g/data/k10/cb4968/cmip5/' + model\n",
    "    os.makedirs(folder, exist_ok=True)\n",
    "    fileName = model + '_hus_daily' + experiment + '.nc'\n",
    "    path = folder + '/' + fileName\n",
    "    if os.path.exists(path):\n",
    "        os.remove(path)    \n",
    "\n",
    "    xr.Dataset({'hus_sMean': hus_sMean}).to_netcdf(path)"
   ]
  }
 ],
 "metadata": {
  "kernelspec": {
   "display_name": "Python 3.9.12 ('base')",
   "language": "python",
   "name": "python3"
  },
  "language_info": {
   "name": "python",
   "version": "3.9.12"
  },
  "orig_nbformat": 4,
  "vscode": {
   "interpreter": {
    "hash": "40d3a090f54c6569ab1632332b64b2c03c39dcf918b08424e98f38b5ae0af88f"
   }
  }
 },
 "nbformat": 4,
 "nbformat_minor": 2
}
