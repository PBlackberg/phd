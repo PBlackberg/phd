{
 "cells": [
  {
   "cell_type": "code",
   "execution_count": 1,
   "metadata": {},
   "outputs": [],
   "source": [
    "import intake\n",
    "import xarray as xr\n",
    "\n",
    "import numpy as np\n",
    "import matplotlib.pyplot as plt\n",
    "\n",
    "import os\n",
    "\n",
    "import myPlots"
   ]
  },
  {
   "cell_type": "code",
   "execution_count": 2,
   "metadata": {},
   "outputs": [
    {
     "name": "stdout",
     "output_type": "stream",
     "text": [
      "\n",
      "--> The keys in the returned dictionary of datasets are constructed as follows:\n",
      "\t'project.product.institute_id.model_id.experiment.time_frequency.realm.cmor_table.ensemble.version.variable'\n"
     ]
    },
    {
     "ename": "RuntimeError",
     "evalue": "can't start new thread",
     "output_type": "error",
     "traceback": [
      "\u001b[0;31m---------------------------------------------------------------------------\u001b[0m",
      "\u001b[0;31mRuntimeError\u001b[0m                              Traceback (most recent call last)",
      "Cell \u001b[0;32mIn[2], line 48\u001b[0m\n\u001b[1;32m     44\u001b[0m     \u001b[39mif\u001b[39;00m model \u001b[39m==\u001b[39m \u001b[39m'\u001b[39m\u001b[39mGISS-E2-H\u001b[39m\u001b[39m'\u001b[39m:\n\u001b[1;32m     45\u001b[0m         ensemble \u001b[39m=\u001b[39m \u001b[39m'\u001b[39m\u001b[39mr2i1p1\u001b[39m\u001b[39m'\u001b[39m\n\u001b[0;32m---> 48\u001b[0m ds_dict \u001b[39m=\u001b[39m intake\u001b[39m.\u001b[39;49mcat\u001b[39m.\u001b[39;49mnci[\u001b[39m'\u001b[39;49m\u001b[39mesgf\u001b[39;49m\u001b[39m'\u001b[39;49m]\u001b[39m.\u001b[39;49mcmip5\u001b[39m.\u001b[39;49msearch(\n\u001b[1;32m     49\u001b[0m                                 model_id \u001b[39m=\u001b[39;49m model, \n\u001b[1;32m     50\u001b[0m                                 experiment \u001b[39m=\u001b[39;49m \u001b[39m'\u001b[39;49m\u001b[39mhistorical\u001b[39;49m\u001b[39m'\u001b[39;49m,\n\u001b[1;32m     51\u001b[0m                                 time_frequency \u001b[39m=\u001b[39;49m \u001b[39m'\u001b[39;49m\u001b[39mday\u001b[39;49m\u001b[39m'\u001b[39;49m, \n\u001b[1;32m     52\u001b[0m                                 realm \u001b[39m=\u001b[39;49m \u001b[39m'\u001b[39;49m\u001b[39matmos\u001b[39;49m\u001b[39m'\u001b[39;49m, \n\u001b[1;32m     53\u001b[0m                                 ensemble \u001b[39m=\u001b[39;49m \u001b[39m'\u001b[39;49m\u001b[39mr1i1p1\u001b[39;49m\u001b[39m'\u001b[39;49m, \n\u001b[1;32m     54\u001b[0m                                 variable\u001b[39m=\u001b[39;49m \u001b[39m'\u001b[39;49m\u001b[39mpr\u001b[39;49m\u001b[39m'\u001b[39;49m)\u001b[39m.\u001b[39;49mto_dataset_dict()\n\u001b[1;32m     56\u001b[0m \u001b[39mif\u001b[39;00m \u001b[39mnot\u001b[39;00m (model \u001b[39m==\u001b[39m \u001b[39m'\u001b[39m\u001b[39mCanESM2\u001b[39m\u001b[39m'\u001b[39m \u001b[39mand\u001b[39;00m experiment \u001b[39m==\u001b[39m \u001b[39m'\u001b[39m\u001b[39mhistorical\u001b[39m\u001b[39m'\u001b[39m):\n\u001b[1;32m     57\u001b[0m     ds_orig \u001b[39m=\u001b[39mds_dict[\u001b[39mlist\u001b[39m(ds_dict\u001b[39m.\u001b[39mkeys())[\u001b[39m-\u001b[39m\u001b[39m1\u001b[39m]]\u001b[39m.\u001b[39msel(time\u001b[39m=\u001b[39mperiod, lon\u001b[39m=\u001b[39m\u001b[39mslice\u001b[39m(\u001b[39m0\u001b[39m,\u001b[39m360\u001b[39m),lat\u001b[39m=\u001b[39m\u001b[39mslice\u001b[39m(\u001b[39m-\u001b[39m\u001b[39m35\u001b[39m,\u001b[39m35\u001b[39m))\n",
      "File \u001b[0;32m/g/data/hh5/public/apps/miniconda3/envs/analysis3-22.07/lib/python3.9/site-packages/intake_esm/core.py:922\u001b[0m, in \u001b[0;36mesm_datastore.to_dataset_dict\u001b[0;34m(self, zarr_kwargs, cdf_kwargs, preprocess, storage_options, progressbar, aggregate)\u001b[0m\n\u001b[1;32m    918\u001b[0m future_tasks \u001b[39m=\u001b[39m [\n\u001b[1;32m    919\u001b[0m     executor\u001b[39m.\u001b[39msubmit(_load_source, key, source) \u001b[39mfor\u001b[39;00m key, source \u001b[39min\u001b[39;00m sources\u001b[39m.\u001b[39mitems()\n\u001b[1;32m    920\u001b[0m ]\n\u001b[1;32m    921\u001b[0m \u001b[39mfor\u001b[39;00m i, task \u001b[39min\u001b[39;00m \u001b[39menumerate\u001b[39m(concurrent\u001b[39m.\u001b[39mfutures\u001b[39m.\u001b[39mas_completed(future_tasks)):\n\u001b[0;32m--> 922\u001b[0m     key, ds \u001b[39m=\u001b[39m task\u001b[39m.\u001b[39;49mresult()\n\u001b[1;32m    923\u001b[0m     \u001b[39mself\u001b[39m\u001b[39m.\u001b[39m_datasets[key] \u001b[39m=\u001b[39m ds\n\u001b[1;32m    924\u001b[0m     \u001b[39mif\u001b[39;00m \u001b[39mself\u001b[39m\u001b[39m.\u001b[39mprogressbar:\n",
      "File \u001b[0;32m/g/data/hh5/public/apps/miniconda3/envs/analysis3-22.07/lib/python3.9/concurrent/futures/_base.py:439\u001b[0m, in \u001b[0;36mFuture.result\u001b[0;34m(self, timeout)\u001b[0m\n\u001b[1;32m    437\u001b[0m     \u001b[39mraise\u001b[39;00m CancelledError()\n\u001b[1;32m    438\u001b[0m \u001b[39melif\u001b[39;00m \u001b[39mself\u001b[39m\u001b[39m.\u001b[39m_state \u001b[39m==\u001b[39m FINISHED:\n\u001b[0;32m--> 439\u001b[0m     \u001b[39mreturn\u001b[39;00m \u001b[39mself\u001b[39;49m\u001b[39m.\u001b[39;49m__get_result()\n\u001b[1;32m    441\u001b[0m \u001b[39mself\u001b[39m\u001b[39m.\u001b[39m_condition\u001b[39m.\u001b[39mwait(timeout)\n\u001b[1;32m    443\u001b[0m \u001b[39mif\u001b[39;00m \u001b[39mself\u001b[39m\u001b[39m.\u001b[39m_state \u001b[39min\u001b[39;00m [CANCELLED, CANCELLED_AND_NOTIFIED]:\n",
      "File \u001b[0;32m/g/data/hh5/public/apps/miniconda3/envs/analysis3-22.07/lib/python3.9/concurrent/futures/_base.py:391\u001b[0m, in \u001b[0;36mFuture.__get_result\u001b[0;34m(self)\u001b[0m\n\u001b[1;32m    389\u001b[0m \u001b[39mif\u001b[39;00m \u001b[39mself\u001b[39m\u001b[39m.\u001b[39m_exception:\n\u001b[1;32m    390\u001b[0m     \u001b[39mtry\u001b[39;00m:\n\u001b[0;32m--> 391\u001b[0m         \u001b[39mraise\u001b[39;00m \u001b[39mself\u001b[39m\u001b[39m.\u001b[39m_exception\n\u001b[1;32m    392\u001b[0m     \u001b[39mfinally\u001b[39;00m:\n\u001b[1;32m    393\u001b[0m         \u001b[39m# Break a reference cycle with the exception in self._exception\u001b[39;00m\n\u001b[1;32m    394\u001b[0m         \u001b[39mself\u001b[39m \u001b[39m=\u001b[39m \u001b[39mNone\u001b[39;00m\n",
      "File \u001b[0;32m/g/data/hh5/public/apps/miniconda3/envs/analysis3-22.07/lib/python3.9/concurrent/futures/thread.py:58\u001b[0m, in \u001b[0;36m_WorkItem.run\u001b[0;34m(self)\u001b[0m\n\u001b[1;32m     55\u001b[0m     \u001b[39mreturn\u001b[39;00m\n\u001b[1;32m     57\u001b[0m \u001b[39mtry\u001b[39;00m:\n\u001b[0;32m---> 58\u001b[0m     result \u001b[39m=\u001b[39m \u001b[39mself\u001b[39;49m\u001b[39m.\u001b[39;49mfn(\u001b[39m*\u001b[39;49m\u001b[39mself\u001b[39;49m\u001b[39m.\u001b[39;49margs, \u001b[39m*\u001b[39;49m\u001b[39m*\u001b[39;49m\u001b[39mself\u001b[39;49m\u001b[39m.\u001b[39;49mkwargs)\n\u001b[1;32m     59\u001b[0m \u001b[39mexcept\u001b[39;00m \u001b[39mBaseException\u001b[39;00m \u001b[39mas\u001b[39;00m exc:\n\u001b[1;32m     60\u001b[0m     \u001b[39mself\u001b[39m\u001b[39m.\u001b[39mfuture\u001b[39m.\u001b[39mset_exception(exc)\n",
      "File \u001b[0;32m/g/data/hh5/public/apps/miniconda3/envs/analysis3-22.07/lib/python3.9/site-packages/intake_esm/core.py:908\u001b[0m, in \u001b[0;36mesm_datastore.to_dataset_dict.<locals>._load_source\u001b[0;34m(key, source)\u001b[0m\n\u001b[1;32m    907\u001b[0m \u001b[39mdef\u001b[39;00m \u001b[39m_load_source\u001b[39m(key, source):\n\u001b[0;32m--> 908\u001b[0m     \u001b[39mreturn\u001b[39;00m key, source\u001b[39m.\u001b[39;49mto_dask()\n",
      "File \u001b[0;32m/g/data/hh5/public/apps/miniconda3/envs/analysis3-22.07/lib/python3.9/site-packages/intake_esm/source.py:245\u001b[0m, in \u001b[0;36mESMGroupDataSource.to_dask\u001b[0;34m(self)\u001b[0m\n\u001b[1;32m    243\u001b[0m \u001b[39mdef\u001b[39;00m \u001b[39mto_dask\u001b[39m(\u001b[39mself\u001b[39m):\n\u001b[1;32m    244\u001b[0m     \u001b[39m\"\"\"Return xarray object (which will have chunks)\"\"\"\u001b[39;00m\n\u001b[0;32m--> 245\u001b[0m     \u001b[39mself\u001b[39;49m\u001b[39m.\u001b[39;49m_load_metadata()\n\u001b[1;32m    246\u001b[0m     \u001b[39mreturn\u001b[39;00m \u001b[39mself\u001b[39m\u001b[39m.\u001b[39m_ds\n",
      "File \u001b[0;32m/g/data/hh5/public/apps/miniconda3/envs/analysis3-22.07/lib/python3.9/site-packages/intake/source/base.py:236\u001b[0m, in \u001b[0;36mDataSourceBase._load_metadata\u001b[0;34m(self)\u001b[0m\n\u001b[1;32m    234\u001b[0m \u001b[39m\"\"\"load metadata only if needed\"\"\"\u001b[39;00m\n\u001b[1;32m    235\u001b[0m \u001b[39mif\u001b[39;00m \u001b[39mself\u001b[39m\u001b[39m.\u001b[39m_schema \u001b[39mis\u001b[39;00m \u001b[39mNone\u001b[39;00m:\n\u001b[0;32m--> 236\u001b[0m     \u001b[39mself\u001b[39m\u001b[39m.\u001b[39m_schema \u001b[39m=\u001b[39m \u001b[39mself\u001b[39;49m\u001b[39m.\u001b[39;49m_get_schema()\n\u001b[1;32m    237\u001b[0m     \u001b[39mself\u001b[39m\u001b[39m.\u001b[39mdtype \u001b[39m=\u001b[39m \u001b[39mself\u001b[39m\u001b[39m.\u001b[39m_schema\u001b[39m.\u001b[39mdtype\n\u001b[1;32m    238\u001b[0m     \u001b[39mself\u001b[39m\u001b[39m.\u001b[39mshape \u001b[39m=\u001b[39m \u001b[39mself\u001b[39m\u001b[39m.\u001b[39m_schema\u001b[39m.\u001b[39mshape\n",
      "File \u001b[0;32m/g/data/hh5/public/apps/miniconda3/envs/analysis3-22.07/lib/python3.9/site-packages/intake_esm/source.py:174\u001b[0m, in \u001b[0;36mESMGroupDataSource._get_schema\u001b[0;34m(self)\u001b[0m\n\u001b[1;32m    171\u001b[0m \u001b[39mdef\u001b[39;00m \u001b[39m_get_schema\u001b[39m(\u001b[39mself\u001b[39m):\n\u001b[1;32m    173\u001b[0m     \u001b[39mif\u001b[39;00m \u001b[39mself\u001b[39m\u001b[39m.\u001b[39m_ds \u001b[39mis\u001b[39;00m \u001b[39mNone\u001b[39;00m:\n\u001b[0;32m--> 174\u001b[0m         \u001b[39mself\u001b[39;49m\u001b[39m.\u001b[39;49m_open_dataset()\n\u001b[1;32m    176\u001b[0m         metadata \u001b[39m=\u001b[39m {\n\u001b[1;32m    177\u001b[0m             \u001b[39m'\u001b[39m\u001b[39mdims\u001b[39m\u001b[39m'\u001b[39m: \u001b[39mdict\u001b[39m(\u001b[39mself\u001b[39m\u001b[39m.\u001b[39m_ds\u001b[39m.\u001b[39mdims),\n\u001b[1;32m    178\u001b[0m             \u001b[39m'\u001b[39m\u001b[39mdata_vars\u001b[39m\u001b[39m'\u001b[39m: {k: \u001b[39mlist\u001b[39m(\u001b[39mself\u001b[39m\u001b[39m.\u001b[39m_ds[k]\u001b[39m.\u001b[39mcoords) \u001b[39mfor\u001b[39;00m k \u001b[39min\u001b[39;00m \u001b[39mself\u001b[39m\u001b[39m.\u001b[39m_ds\u001b[39m.\u001b[39mdata_vars\u001b[39m.\u001b[39mkeys()},\n\u001b[1;32m    179\u001b[0m             \u001b[39m'\u001b[39m\u001b[39mcoords\u001b[39m\u001b[39m'\u001b[39m: \u001b[39mtuple\u001b[39m(\u001b[39mself\u001b[39m\u001b[39m.\u001b[39m_ds\u001b[39m.\u001b[39mcoords\u001b[39m.\u001b[39mkeys()),\n\u001b[1;32m    180\u001b[0m         }\n\u001b[1;32m    181\u001b[0m         \u001b[39mself\u001b[39m\u001b[39m.\u001b[39m_schema \u001b[39m=\u001b[39m Schema(\n\u001b[1;32m    182\u001b[0m             datashape\u001b[39m=\u001b[39m\u001b[39mNone\u001b[39;00m,\n\u001b[1;32m    183\u001b[0m             dtype\u001b[39m=\u001b[39m\u001b[39mNone\u001b[39;00m,\n\u001b[0;32m   (...)\u001b[0m\n\u001b[1;32m    186\u001b[0m             extra_metadata\u001b[39m=\u001b[39mmetadata,\n\u001b[1;32m    187\u001b[0m         )\n",
      "File \u001b[0;32m/g/data/hh5/public/apps/miniconda3/envs/analysis3-22.07/lib/python3.9/site-packages/intake_esm/source.py:226\u001b[0m, in \u001b[0;36mESMGroupDataSource._open_dataset\u001b[0;34m(self)\u001b[0m\n\u001b[1;32m    212\u001b[0m     \u001b[39mreturn\u001b[39;00m (path, ds)\n\u001b[1;32m    214\u001b[0m datasets \u001b[39m=\u001b[39m [\n\u001b[1;32m    215\u001b[0m     read_dataset(\n\u001b[1;32m    216\u001b[0m         row[\u001b[39mself\u001b[39m\u001b[39m.\u001b[39mpath_column],\n\u001b[0;32m   (...)\u001b[0m\n\u001b[1;32m    224\u001b[0m     \u001b[39mfor\u001b[39;00m _, row \u001b[39min\u001b[39;00m \u001b[39mself\u001b[39m\u001b[39m.\u001b[39mdf\u001b[39m.\u001b[39miterrows()\n\u001b[1;32m    225\u001b[0m ]\n\u001b[0;32m--> 226\u001b[0m datasets \u001b[39m=\u001b[39m dask\u001b[39m.\u001b[39;49mcompute(\u001b[39m*\u001b[39;49mdatasets)\n\u001b[1;32m    227\u001b[0m mapper_dict \u001b[39m=\u001b[39m \u001b[39mdict\u001b[39m(datasets)\n\u001b[1;32m    228\u001b[0m nd \u001b[39m=\u001b[39m create_nested_dict(\u001b[39mself\u001b[39m\u001b[39m.\u001b[39mdf, \u001b[39mself\u001b[39m\u001b[39m.\u001b[39mpath_column, \u001b[39mself\u001b[39m\u001b[39m.\u001b[39maggregation_columns)\n",
      "File \u001b[0;32m/g/data/hh5/public/apps/miniconda3/envs/analysis3-22.07/lib/python3.9/site-packages/dask/base.py:600\u001b[0m, in \u001b[0;36mcompute\u001b[0;34m(traverse, optimize_graph, scheduler, get, *args, **kwargs)\u001b[0m\n\u001b[1;32m    597\u001b[0m     keys\u001b[39m.\u001b[39mappend(x\u001b[39m.\u001b[39m__dask_keys__())\n\u001b[1;32m    598\u001b[0m     postcomputes\u001b[39m.\u001b[39mappend(x\u001b[39m.\u001b[39m__dask_postcompute__())\n\u001b[0;32m--> 600\u001b[0m results \u001b[39m=\u001b[39m schedule(dsk, keys, \u001b[39m*\u001b[39;49m\u001b[39m*\u001b[39;49mkwargs)\n\u001b[1;32m    601\u001b[0m \u001b[39mreturn\u001b[39;00m repack([f(r, \u001b[39m*\u001b[39ma) \u001b[39mfor\u001b[39;00m r, (f, a) \u001b[39min\u001b[39;00m \u001b[39mzip\u001b[39m(results, postcomputes)])\n",
      "File \u001b[0;32m/g/data/hh5/public/apps/miniconda3/envs/analysis3-22.07/lib/python3.9/site-packages/dask/threaded.py:89\u001b[0m, in \u001b[0;36mget\u001b[0;34m(dsk, keys, cache, num_workers, pool, **kwargs)\u001b[0m\n\u001b[1;32m     86\u001b[0m     \u001b[39melif\u001b[39;00m \u001b[39misinstance\u001b[39m(pool, multiprocessing\u001b[39m.\u001b[39mpool\u001b[39m.\u001b[39mPool):\n\u001b[1;32m     87\u001b[0m         pool \u001b[39m=\u001b[39m MultiprocessingPoolExecutor(pool)\n\u001b[0;32m---> 89\u001b[0m results \u001b[39m=\u001b[39m get_async(\n\u001b[1;32m     90\u001b[0m     pool\u001b[39m.\u001b[39;49msubmit,\n\u001b[1;32m     91\u001b[0m     pool\u001b[39m.\u001b[39;49m_max_workers,\n\u001b[1;32m     92\u001b[0m     dsk,\n\u001b[1;32m     93\u001b[0m     keys,\n\u001b[1;32m     94\u001b[0m     cache\u001b[39m=\u001b[39;49mcache,\n\u001b[1;32m     95\u001b[0m     get_id\u001b[39m=\u001b[39;49m_thread_get_id,\n\u001b[1;32m     96\u001b[0m     pack_exception\u001b[39m=\u001b[39;49mpack_exception,\n\u001b[1;32m     97\u001b[0m     \u001b[39m*\u001b[39;49m\u001b[39m*\u001b[39;49mkwargs,\n\u001b[1;32m     98\u001b[0m )\n\u001b[1;32m    100\u001b[0m \u001b[39m# Cleanup pools associated to dead threads\u001b[39;00m\n\u001b[1;32m    101\u001b[0m \u001b[39mwith\u001b[39;00m pools_lock:\n",
      "File \u001b[0;32m/g/data/hh5/public/apps/miniconda3/envs/analysis3-22.07/lib/python3.9/site-packages/dask/local.py:499\u001b[0m, in \u001b[0;36mget_async\u001b[0;34m(submit, num_workers, dsk, result, cache, get_id, rerun_exceptions_locally, pack_exception, raise_exception, callbacks, dumps, loads, chunksize, **kwargs)\u001b[0m\n\u001b[1;32m    497\u001b[0m \u001b[39m# Main loop, wait on tasks to finish, insert new ones\u001b[39;00m\n\u001b[1;32m    498\u001b[0m \u001b[39mwhile\u001b[39;00m state[\u001b[39m\"\u001b[39m\u001b[39mwaiting\u001b[39m\u001b[39m\"\u001b[39m] \u001b[39mor\u001b[39;00m state[\u001b[39m\"\u001b[39m\u001b[39mready\u001b[39m\u001b[39m\"\u001b[39m] \u001b[39mor\u001b[39;00m state[\u001b[39m\"\u001b[39m\u001b[39mrunning\u001b[39m\u001b[39m\"\u001b[39m]:\n\u001b[0;32m--> 499\u001b[0m     fire_tasks(chunksize)\n\u001b[1;32m    500\u001b[0m     \u001b[39mfor\u001b[39;00m key, res_info, failed \u001b[39min\u001b[39;00m queue_get(queue)\u001b[39m.\u001b[39mresult():\n\u001b[1;32m    501\u001b[0m         \u001b[39mif\u001b[39;00m failed:\n",
      "File \u001b[0;32m/g/data/hh5/public/apps/miniconda3/envs/analysis3-22.07/lib/python3.9/site-packages/dask/local.py:494\u001b[0m, in \u001b[0;36mget_async.<locals>.fire_tasks\u001b[0;34m(chunksize)\u001b[0m\n\u001b[1;32m    492\u001b[0m \u001b[39mif\u001b[39;00m \u001b[39mnot\u001b[39;00m each_args:\n\u001b[1;32m    493\u001b[0m     \u001b[39mbreak\u001b[39;00m\n\u001b[0;32m--> 494\u001b[0m fut \u001b[39m=\u001b[39m submit(batch_execute_tasks, each_args)\n\u001b[1;32m    495\u001b[0m fut\u001b[39m.\u001b[39madd_done_callback(queue\u001b[39m.\u001b[39mput)\n",
      "File \u001b[0;32m/g/data/hh5/public/apps/miniconda3/envs/analysis3-22.07/lib/python3.9/concurrent/futures/thread.py:176\u001b[0m, in \u001b[0;36mThreadPoolExecutor.submit\u001b[0;34m(self, fn, *args, **kwargs)\u001b[0m\n\u001b[1;32m    173\u001b[0m w \u001b[39m=\u001b[39m _WorkItem(f, fn, args, kwargs)\n\u001b[1;32m    175\u001b[0m \u001b[39mself\u001b[39m\u001b[39m.\u001b[39m_work_queue\u001b[39m.\u001b[39mput(w)\n\u001b[0;32m--> 176\u001b[0m \u001b[39mself\u001b[39;49m\u001b[39m.\u001b[39;49m_adjust_thread_count()\n\u001b[1;32m    177\u001b[0m \u001b[39mreturn\u001b[39;00m f\n",
      "File \u001b[0;32m/g/data/hh5/public/apps/miniconda3/envs/analysis3-22.07/lib/python3.9/concurrent/futures/thread.py:199\u001b[0m, in \u001b[0;36mThreadPoolExecutor._adjust_thread_count\u001b[0;34m(self)\u001b[0m\n\u001b[1;32m    192\u001b[0m thread_name \u001b[39m=\u001b[39m \u001b[39m'\u001b[39m\u001b[39m%s\u001b[39;00m\u001b[39m_\u001b[39m\u001b[39m%d\u001b[39;00m\u001b[39m'\u001b[39m \u001b[39m%\u001b[39m (\u001b[39mself\u001b[39m\u001b[39m.\u001b[39m_thread_name_prefix \u001b[39mor\u001b[39;00m \u001b[39mself\u001b[39m,\n\u001b[1;32m    193\u001b[0m                          num_threads)\n\u001b[1;32m    194\u001b[0m t \u001b[39m=\u001b[39m threading\u001b[39m.\u001b[39mThread(name\u001b[39m=\u001b[39mthread_name, target\u001b[39m=\u001b[39m_worker,\n\u001b[1;32m    195\u001b[0m                      args\u001b[39m=\u001b[39m(weakref\u001b[39m.\u001b[39mref(\u001b[39mself\u001b[39m, weakref_cb),\n\u001b[1;32m    196\u001b[0m                            \u001b[39mself\u001b[39m\u001b[39m.\u001b[39m_work_queue,\n\u001b[1;32m    197\u001b[0m                            \u001b[39mself\u001b[39m\u001b[39m.\u001b[39m_initializer,\n\u001b[1;32m    198\u001b[0m                            \u001b[39mself\u001b[39m\u001b[39m.\u001b[39m_initargs))\n\u001b[0;32m--> 199\u001b[0m t\u001b[39m.\u001b[39;49mstart()\n\u001b[1;32m    200\u001b[0m \u001b[39mself\u001b[39m\u001b[39m.\u001b[39m_threads\u001b[39m.\u001b[39madd(t)\n\u001b[1;32m    201\u001b[0m _threads_queues[t] \u001b[39m=\u001b[39m \u001b[39mself\u001b[39m\u001b[39m.\u001b[39m_work_queue\n",
      "File \u001b[0;32m/g/data/hh5/public/apps/miniconda3/envs/analysis3-22.07/lib/python3.9/threading.py:899\u001b[0m, in \u001b[0;36mThread.start\u001b[0;34m(self)\u001b[0m\n\u001b[1;32m    897\u001b[0m     _limbo[\u001b[39mself\u001b[39m] \u001b[39m=\u001b[39m \u001b[39mself\u001b[39m\n\u001b[1;32m    898\u001b[0m \u001b[39mtry\u001b[39;00m:\n\u001b[0;32m--> 899\u001b[0m     _start_new_thread(\u001b[39mself\u001b[39;49m\u001b[39m.\u001b[39;49m_bootstrap, ())\n\u001b[1;32m    900\u001b[0m \u001b[39mexcept\u001b[39;00m \u001b[39mException\u001b[39;00m:\n\u001b[1;32m    901\u001b[0m     \u001b[39mwith\u001b[39;00m _active_limbo_lock:\n",
      "\u001b[0;31mRuntimeError\u001b[0m: can't start new thread"
     ]
    }
   ],
   "source": [
    "models = [\n",
    "        # 'IPSL-CM5A-MR', # 1\n",
    "         'GFDL-CM3',     # 2\n",
    "        # 'GISS-E2-H',    # 3\n",
    "        # 'bcc-csm1-1',   # 4\n",
    "        # 'CNRM-CM5',     # 5\n",
    "        # 'CCSM4',        # 6 # cannot concatanate files for historical run\n",
    "        # 'HadGEM2-AO',   # 7\n",
    "        # 'BNU-ESM',      # 8\n",
    "        # 'EC-EARTH',     # 9\n",
    "        # 'FGOALS-g2',    # 10\n",
    "        # 'MPI-ESM-MR',   # 11\n",
    "        # 'CMCC-CM',      # 12\n",
    "        # 'inmcm4',       # 13\n",
    "        # 'NorESM1-M',    # 14\n",
    "        # 'CanESM2',      # 15 # slicing with .sel does not work, 'contains no datetime objects'\n",
    "        # 'MIROC5',       # 16\n",
    "        # 'HadGEM2-CC',   # 17\n",
    "        # 'MRI-CGCM3',    # 18\n",
    "        # 'CESM1-BGC'     # 19\n",
    "        ]\n",
    "\n",
    "\n",
    "model = models[0] #'GFDL-CM3'\n",
    "\n",
    "\n",
    "historical = True\n",
    "rcp85 = False\n",
    "\n",
    "if historical:\n",
    "    experiment = 'historical'\n",
    "    period=slice('1970-01','1999-12')\n",
    "    ensemble = 'r1i1p1'\n",
    "\n",
    "    if model == 'GISS-E2-H':\n",
    "        ensemble = 'r6i1p1'\n",
    "\n",
    "\n",
    "if rcp85:\n",
    "    experiment = 'rcp85'\n",
    "    period=slice('2070-01','2099-12')\n",
    "    ensemble = 'r1i1p1'\n",
    "\n",
    "    if model == 'GISS-E2-H':\n",
    "        ensemble = 'r2i1p1'\n",
    "\n",
    "\n",
    "ds_dict = intake.cat.nci['esgf'].cmip5.search(\n",
    "                                model_id = model, \n",
    "                                experiment = 'historical',\n",
    "                                time_frequency = 'day', \n",
    "                                realm = 'atmos', \n",
    "                                ensemble = 'r1i1p1', \n",
    "                                variable= 'pr').to_dataset_dict()\n",
    "\n",
    "if not (model == 'CanESM2' and experiment == 'historical'):\n",
    "    ds_orig =ds_dict[list(ds_dict.keys())[-1]].sel(time=period, lon=slice(0,360),lat=slice(-35,35))\n",
    "else:\n",
    "    ds_orig =ds_dict[list(ds_dict.keys())[-1]].isel(time=slice(43800, 43800+10950)).sel(lon=slice(0,360),lat=slice(-35,35))\n"
   ]
  },
  {
   "cell_type": "code",
   "execution_count": null,
   "metadata": {},
   "outputs": [],
   "source": [
    "ds_orig"
   ]
  },
  {
   "cell_type": "code",
   "execution_count": null,
   "metadata": {},
   "outputs": [],
   "source": [
    "haveDsOut = True\n",
    "ds_pr = myFuncs.regrid_conserv(ds_orig, haveDsOut) # path='', model'')"
   ]
  },
  {
   "cell_type": "code",
   "execution_count": null,
   "metadata": {},
   "outputs": [],
   "source": [
    "precip = ds_pr.pr*60*60*24\n",
    "precip.attrs['units']= 'mm/day'"
   ]
  },
  {
   "cell_type": "code",
   "execution_count": null,
   "metadata": {},
   "outputs": [],
   "source": [
    "# folder = '/g/data/k10/cb4968/cmip5/' + model\n",
    "# fileName = model + '_rome_' + experiment + '.nc'\n",
    "# path = folder + '/' + fileName\n",
    "# ds_rome = xr.open_dataset(path)"
   ]
  },
  {
   "cell_type": "code",
   "execution_count": null,
   "metadata": {},
   "outputs": [],
   "source": [
    "myPlots.plot_snapshot(precip.isel(time=0), 'Blues', 'precipitation', model)"
   ]
  }
 ],
 "metadata": {
  "kernelspec": {
   "display_name": "base",
   "language": "python",
   "name": "python3"
  },
  "language_info": {
   "codemirror_mode": {
    "name": "ipython",
    "version": 3
   },
   "file_extension": ".py",
   "mimetype": "text/x-python",
   "name": "python",
   "nbconvert_exporter": "python",
   "pygments_lexer": "ipython3",
   "version": "3.9.12 (main, Apr  5 2022, 01:53:17) \n[Clang 12.0.0 ]"
  },
  "orig_nbformat": 4,
  "vscode": {
   "interpreter": {
    "hash": "40d3a090f54c6569ab1632332b64b2c03c39dcf918b08424e98f38b5ae0af88f"
   }
  }
 },
 "nbformat": 4,
 "nbformat_minor": 2
}
