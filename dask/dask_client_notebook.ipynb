{
 "cells": [
  {
   "cell_type": "code",
   "execution_count": 1,
   "metadata": {},
   "outputs": [
    {
     "name": "stderr",
     "output_type": "stream",
     "text": [
      "distributed.diskutils - INFO - Found stale lock file and directory '/Users/cbla0002/Documents/code/phd/dask/dask-worker-space/worker-e2uu84wb', purging\n",
      "distributed.diskutils - INFO - Found stale lock file and directory '/Users/cbla0002/Documents/code/phd/dask/dask-worker-space/worker-gkn9e7qn', purging\n",
      "distributed.diskutils - INFO - Found stale lock file and directory '/Users/cbla0002/Documents/code/phd/dask/dask-worker-space/worker-2oe2hvbw', purging\n",
      "distributed.diskutils - INFO - Found stale lock file and directory '/Users/cbla0002/Documents/code/phd/dask/dask-worker-space/worker-285ebz7l', purging\n",
      "distributed.diskutils - INFO - Found stale lock file and directory '/Users/cbla0002/Documents/code/phd/dask/dask-worker-space/worker-t581aub6', purging\n",
      "distributed.diskutils - INFO - Found stale lock file and directory '/Users/cbla0002/Documents/code/phd/dask/dask-worker-space/worker-8xx722c5', purging\n",
      "distributed.diskutils - INFO - Found stale lock file and directory '/Users/cbla0002/Documents/code/phd/dask/dask-worker-space/worker-nkibxolk', purging\n",
      "distributed.diskutils - INFO - Found stale lock file and directory '/Users/cbla0002/Documents/code/phd/dask/dask-worker-space/worker-axzhvolj', purging\n",
      "distributed.diskutils - INFO - Found stale lock file and directory '/Users/cbla0002/Documents/code/phd/dask/dask-worker-space/worker-2xpm0h51', purging\n",
      "distributed.diskutils - INFO - Found stale lock file and directory '/Users/cbla0002/Documents/code/phd/dask/dask-worker-space/worker-g99m1cuf', purging\n",
      "distributed.diskutils - INFO - Found stale lock file and directory '/Users/cbla0002/Documents/code/phd/dask/dask-worker-space/worker-qodladon', purging\n",
      "distributed.diskutils - INFO - Found stale lock file and directory '/Users/cbla0002/Documents/code/phd/dask/dask-worker-space/worker-po7u572y', purging\n",
      "distributed.diskutils - INFO - Found stale lock file and directory '/Users/cbla0002/Documents/code/phd/dask/dask-worker-space/worker-3npss98q', purging\n",
      "distributed.diskutils - INFO - Found stale lock file and directory '/Users/cbla0002/Documents/code/phd/dask/dask-worker-space/worker-rn15kuv3', purging\n",
      "distributed.diskutils - INFO - Found stale lock file and directory '/Users/cbla0002/Documents/code/phd/dask/dask-worker-space/worker-b902g4y8', purging\n",
      "distributed.diskutils - INFO - Found stale lock file and directory '/Users/cbla0002/Documents/code/phd/dask/dask-worker-space/worker-v8ef0qnd', purging\n",
      "distributed.diskutils - INFO - Found stale lock file and directory '/Users/cbla0002/Documents/code/phd/dask/dask-worker-space/worker-diw40pnk', purging\n",
      "distributed.diskutils - INFO - Found stale lock file and directory '/Users/cbla0002/Documents/code/phd/dask/dask-worker-space/worker-hw1c4ipx', purging\n",
      "distributed.diskutils - INFO - Found stale lock file and directory '/Users/cbla0002/Documents/code/phd/dask/dask-worker-space/worker-ll_vwaoj', purging\n",
      "distributed.diskutils - INFO - Found stale lock file and directory '/Users/cbla0002/Documents/code/phd/dask/dask-worker-space/worker-j9ih3_8b', purging\n",
      "distributed.diskutils - INFO - Found stale lock file and directory '/Users/cbla0002/Documents/code/phd/dask/dask-worker-space/worker-zcxz8jl8', purging\n",
      "distributed.diskutils - INFO - Found stale lock file and directory '/Users/cbla0002/Documents/code/phd/dask/dask-worker-space/worker-ou8rikiv', purging\n",
      "distributed.diskutils - INFO - Found stale lock file and directory '/Users/cbla0002/Documents/code/phd/dask/dask-worker-space/worker-vb5pht3s', purging\n",
      "distributed.diskutils - INFO - Found stale lock file and directory '/Users/cbla0002/Documents/code/phd/dask/dask-worker-space/worker-jiya1qxt', purging\n"
     ]
    },
    {
     "name": "stdout",
     "output_type": "stream",
     "text": [
      "Dashboard link: http://127.0.0.1:8787/status\n"
     ]
    }
   ],
   "source": [
    "from dask.distributed import Client\n",
    "import dask.array as da\n",
    "import numpy as np\n",
    "client = Client()\n",
    "print(\"Dashboard link:\", client.dashboard_link)"
   ]
  },
  {
   "cell_type": "code",
   "execution_count": 2,
   "metadata": {},
   "outputs": [
    {
     "name": "stdout",
     "output_type": "stream",
     "text": [
      "[[1. 1. 1. ... 1. 1. 1.]\n",
      " [1. 1. 1. ... 1. 1. 1.]\n",
      " [1. 1. 1. ... 1. 1. 1.]\n",
      " ...\n",
      " [1. 1. 1. ... 1. 1. 1.]\n",
      " [1. 1. 1. ... 1. 1. 1.]\n",
      " [1. 1. 1. ... 1. 1. 1.]]\n"
     ]
    }
   ],
   "source": [
    "def complex_computation(x):\n",
    "    # Perform some complex operations\n",
    "    y = da.sin(x) ** 2\n",
    "    z = da.cos(x) ** 2\n",
    "    return da.sqrt(y + z)\n",
    "\n",
    "def main():\n",
    "    # Create a large random Dask array\n",
    "    x = da.random.random(size=(20000, 20000), chunks=(1000, 1000))\n",
    "\n",
    "    # Perform a complex computation\n",
    "    result = complex_computation(x)\n",
    "\n",
    "    # Compute the result\n",
    "    computed_result = result.compute()\n",
    "    print(computed_result)\n",
    "\n",
    "main()"
   ]
  },
  {
   "cell_type": "code",
   "execution_count": 1,
   "metadata": {},
   "outputs": [
    {
     "ename": "NameError",
     "evalue": "name 'client' is not defined",
     "output_type": "error",
     "traceback": [
      "\u001b[0;31m---------------------------------------------------------------------------\u001b[0m",
      "\u001b[0;31mNameError\u001b[0m                                 Traceback (most recent call last)",
      "Input \u001b[0;32mIn [1]\u001b[0m, in \u001b[0;36m<cell line: 1>\u001b[0;34m()\u001b[0m\n\u001b[0;32m----> 1\u001b[0m \u001b[43mclient\u001b[49m\u001b[38;5;241m.\u001b[39mclose()\n",
      "\u001b[0;31mNameError\u001b[0m: name 'client' is not defined"
     ]
    }
   ],
   "source": [
    "client.close()"
   ]
  }
 ],
 "metadata": {
  "kernelspec": {
   "display_name": "base",
   "language": "python",
   "name": "python3"
  },
  "language_info": {
   "codemirror_mode": {
    "name": "ipython",
    "version": 3
   },
   "file_extension": ".py",
   "mimetype": "text/x-python",
   "name": "python",
   "nbconvert_exporter": "python",
   "pygments_lexer": "ipython3",
   "version": "3.9.12"
  }
 },
 "nbformat": 4,
 "nbformat_minor": 2
}
