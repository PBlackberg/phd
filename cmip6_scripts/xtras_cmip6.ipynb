{
 "cells": [
  {
   "cell_type": "code",
   "execution_count": null,
   "metadata": {},
   "outputs": [],
   "source": [
    "#"
   ]
  },
  {
   "cell_type": "code",
   "execution_count": 1,
   "metadata": {},
   "outputs": [],
   "source": [
    "# importing module from different folders\n",
    "# \n",
    "# \n",
    "# from parent folder\n",
    "#  from ... import file\n",
    "#\n",
    "#\n",
    "# from subfolder\n",
    "# from folder.file import file\n",
    "#\n",
    "#\n",
    "#  \n",
    "# \n",
    "#"
   ]
  },
  {
   "cell_type": "code",
   "execution_count": null,
   "metadata": {},
   "outputs": [],
   "source": [
    "# another way to plot axes\n",
    "# fig, axes = plt.subplots(ncols=2, figsize=(10, 4))\n",
    "#ds.air.plot(ax=axes[0])"
   ]
  },
  {
   "cell_type": "code",
   "execution_count": null,
   "metadata": {},
   "outputs": [],
   "source": [
    "# np.argwhere(np.isnan(mse))"
   ]
  },
  {
   "cell_type": "code",
   "execution_count": null,
   "metadata": {},
   "outputs": [],
   "source": [
    "# directories for precipitation observations\n",
    "# '/g/data/ua8/Precipitation/GPCP/day/v1-3'\n",
    "\n"
   ]
  }
 ],
 "metadata": {
  "kernelspec": {
   "display_name": "Python 3.9.15 ('base')",
   "language": "python",
   "name": "python3"
  },
  "language_info": {
   "codemirror_mode": {
    "name": "ipython",
    "version": 3
   },
   "file_extension": ".py",
   "mimetype": "text/x-python",
   "name": "python",
   "nbconvert_exporter": "python",
   "pygments_lexer": "ipython3",
   "version": "3.9.15"
  },
  "orig_nbformat": 4,
  "vscode": {
   "interpreter": {
    "hash": "cb183da03564b24632d450cca50a11b801f8a84b7699d62bc356a5d3dc467e72"
   }
  }
 },
 "nbformat": 4,
 "nbformat_minor": 2
}
