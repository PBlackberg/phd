{
 "cells": [
  {
   "cell_type": "markdown",
   "metadata": {},
   "source": [
    "## mse"
   ]
  },
  {
   "cell_type": "markdown",
   "metadata": {},
   "source": [
    "mse:\n",
    "\n",
    "$h = c_{p}T + gz + L_{v}q$\n",
    "\n",
    "<br />\n",
    "development of spatial variance of mass weighted vertically integrated mse:\n",
    "\n",
    "$\\frac{1}{2} \\hat{\\frac{\\delta {h ^ \\prime} ^2}{\\delta t}} = \\text{forcing correlation terms}$\n",
    "\n",
    "$h ^ \\prime$ - moist static energy anomaly from the domain mean \\\n",
    "$\\delta t$ - one day\n"
   ]
  },
  {
   "cell_type": "code",
   "execution_count": null,
   "metadata": {},
   "outputs": [],
   "source": []
  }
 ],
 "metadata": {
  "kernelspec": {
   "display_name": "Python 3.9.12 ('base')",
   "language": "python",
   "name": "python3"
  },
  "language_info": {
   "name": "python",
   "version": "3.9.12"
  },
  "orig_nbformat": 4,
  "vscode": {
   "interpreter": {
    "hash": "40d3a090f54c6569ab1632332b64b2c03c39dcf918b08424e98f38b5ae0af88f"
   }
  }
 },
 "nbformat": 4,
 "nbformat_minor": 2
}
