{
 "cells": [
  {
   "cell_type": "code",
   "execution_count": 2,
   "metadata": {},
   "outputs": [],
   "source": [
    "import numpy as np"
   ]
  },
  {
   "cell_type": "code",
   "execution_count": null,
   "metadata": {},
   "outputs": [],
   "source": [
    "# for wap\n",
    "def calc_wapArea(wap500, regime):\n",
    "    if regime == 'area_ascent':\n",
    "        areaFrac = ((wap500<0)*1).sum(dim=('lat','lon'))/(wap500.shape[1]*wap500.shape[2])*100\n",
    "        \n",
    "    if regime == 'area_descent':\n",
    "        areaFrac = ((wap500>0)*1).sum(dim=('lat','lon'))/(wap500.shape[1]*wap500.shape[2])*100\n",
    "        \n",
    "    areaFrac.attrs['units'] = '%'\n",
    "    return areaFrac"
   ]
  },
  {
   "cell_type": "code",
   "execution_count": null,
   "metadata": {},
   "outputs": [],
   "source": [
    "# assign variables to a dataset\n",
    "dlats = xr.Dataset(\n",
    "    )\n",
    "\n",
    "dlons = xr.Dataset(\n",
    "    )\n",
    "\n",
    "res = xr.Dataset(\n",
    "    )\n",
    "\n",
    "for model in models_cmip6:\n",
    "        data = get_dsvariable('precip', model, experiments[0], resolution=resolutions[0])['precip']\n",
    "        \n",
    "        dlats[model] = data['lat'][2] - data['lat'][1]\n",
    "        dlons[model] = data['lon'][2] - data['lon'][1]\n",
    "        res = dlats[model] * dlons[model]"
   ]
  },
  {
   "cell_type": "code",
   "execution_count": null,
   "metadata": {},
   "outputs": [],
   "source": [
    "# another way to plot a series of colors\n",
    "import numpy as np\n",
    "import matplotlib.pyplot as plt\n",
    "import itertools\n",
    "\n",
    "m = 5\n",
    "n = 5\n",
    "\n",
    "x = np.zeros(shape=(m, n))\n",
    "plt.figure(figsize=(5.15, 5.15))\n",
    "plt.clf()\n",
    "plt.subplot(111)\n",
    "marker = itertools.cycle(('o', 'v', '^', '<', '>', 's', '8', 'p'))\n",
    "ax = plt.gca()\n",
    "for i in range(1, n):\n",
    "    x = np.dot(i, [1, 1.1, 1.2, 1.3])\n",
    "    y = x ** 2\n",
    "    color = next(ax._get_lines.color_cycle)\n",
    "    plt.plot(x, y, linestyle='', markeredgecolor='none', marker=marker.next(), color=color, label = str(i))\n",
    "    plt.plot(x, y, linestyle='-', color = color)\n",
    "plt.axvline(2.)\n",
    "plt.axvline(3.)\n",
    "plt.axhline(4.)\n",
    "plt.axhline(6.)\n",
    "plt.ylabel(r'y', labelpad=6)\n",
    "plt.xlabel(r'x', labelpad=6)\n",
    "plt.show()"
   ]
  },
  {
   "cell_type": "code",
   "execution_count": null,
   "metadata": {},
   "outputs": [],
   "source": [
    "## colormap new for plotting\n",
    "from matplotlib.cm import get_cmap\n",
    "name = \"Accent\"\n",
    "cmap = get_cmap('tab10')\n",
    "colors = cmap.colors\n",
    "ax.set_prop_cycle(color=colors)\n",
    "\n",
    "# plt.rcParams['figure.figsize'] = [8, 8]\n",
    "# plt.rcParams.update({'font.size': 18})\n"
   ]
  },
  {
   "cell_type": "code",
   "execution_count": null,
   "metadata": {},
   "outputs": [],
   "source": [
    "#create binary arrays\n",
    "binary_matrix = np.array([\n",
    "    [0, 1, 0],\n",
    "    [1, 0, 1],\n",
    "    [0, 1, 0]\n",
    "])"
   ]
  },
  {
   "cell_type": "code",
   "execution_count": null,
   "metadata": {},
   "outputs": [],
   "source": [
    "# aligning variables if they have one common coordinate, to be able to create a dataset with including multiple variables with differing dimensions\n",
    "\n",
    "import xarray as xr\n",
    "\n",
    "# Assume 'temp' has dimensions ('time', 'lev', 'lat', 'lon')\n",
    "# and 'precip' has dimensions ('time', 'lat', 'lon')\n",
    "temp_aligned, precip_aligned = xr.align(temp, precip, join='outer')\n",
    "\n",
    "# Create xarray dataset with two variables\n",
    "ds = xr.Dataset(\n",
    "    {\n",
    "        'temperature': temp_aligned,\n",
    "        'precipitation': precip_aligned\n",
    "    },\n",
    "    coords={\n",
    "        'time': temp.time,\n",
    "        'lev': temp.lev,\n",
    "        'lat': temp.lat,\n",
    "        'lon': temp.lon\n",
    "    }\n",
    ")"
   ]
  },
  {
   "cell_type": "code",
   "execution_count": null,
   "metadata": {},
   "outputs": [],
   "source": [
    "# # Detrend the data, remove linear or polynomial trend\n",
    "# from scipy.signal import detrend\n",
    "# anomalies_detrended = xr.apply_ufunc(\n",
    "#     detrend, anomalies_deseasonalized,\n",
    "#     kwargs={'axis': 0}, input_core_dims=[['time']], output_core_dims=[['time']]\n",
    "# )\n",
    "\n",
    "# title = 'detrended anomaly from {}, model:{}, experiment:{}'.format('vertical mean hur', datasets[0], experiments[0])\n",
    "# xlabel = '{} anomaly [{} - {}]'.format(timeMean_options[0], str(hur.isel(time=6).coords['time'].values)[:10], str(hur.isel(time=-6).coords['time'].values)[:10])\n",
    "# ylabel = '{} [{}]'.format('Relative humidity', hur.units)\n",
    "\n",
    "# plot_timeseries(anomalies_detrended, title=title)\n",
    "# plt.xlabel(xlabel)\n",
    "# plt.ylabel(ylabel)\n",
    "\n",
    "# # Define the degree of the polynomial for detrending\n",
    "# poly_degree = 2\n",
    "\n",
    "# # Fit a polynomial function to the time series\n",
    "# time = np.arange(len(anomalies_deseasonalized['time']))\n",
    "# data = anomalies_deseasonalized.values\n",
    "# p = np.polyfit(time, data, poly_degree)\n",
    "\n",
    "# # Subtract the polynomial function from the original data\n",
    "# trend = np.polyval(p, time)\n",
    "# anomalies_detrended = anomalies_deseasonalized - trend\n",
    "\n",
    "# # Assign time coordinate to detrended data array\n",
    "# anomalies_detrended = anomalies_detrended.assign_coords(time=anomalies_deseasonalized['time'])\n",
    "\n",
    "# plot_timeseries(anomalies_detrended, title=title)\n",
    "# plt.xlabel(xlabel)\n",
    "# plt.ylabel(ylabel)"
   ]
  },
  {
   "cell_type": "code",
   "execution_count": null,
   "metadata": {},
   "outputs": [],
   "source": [
    "# moving subplots\n",
    "pos = ax.get_position()\n",
    "ax.set_position([pos.x0, pos.y0-0.0175, pos.width, pos.height])"
   ]
  },
  {
   "cell_type": "code",
   "execution_count": null,
   "metadata": {},
   "outputs": [],
   "source": [
    "# cell with example of one model, and obs\n",
    "# create a function to resample the data. Then apply function to the desired variable\n",
    "timeMean_options = [\n",
    "    # 'annual'\n",
    "    # 'month'\n",
    "    # 'season'\n",
    "    # 'season_mean'\n",
    "    'month_mean'\n",
    "    # 'day'\n",
    "    ]\n",
    "timeMean_option = timeMean_options[0]\n",
    "\n",
    "var = tas_sMean\n",
    "variable_name = variables[1]\n",
    "\n",
    "plot_model= True\n",
    "if plot_model:\n",
    "    plt.figure(figsize=(25,5))\n",
    "    \n",
    "    title = variable_name + ', '+ timeMean_option + ', ' + model + ', ' + experiment\n",
    "\n",
    "    if timeMean_option == 'year':\n",
    "        y = var.resample(time='Y').mean(dim='time', keep_attrs=True)\n",
    "\n",
    "        plot_timeseries(y, variable_name, timeMean_option, title)\n",
    "\n",
    "    if timeMean_option == 'month':\n",
    "        y = var.resample(time='M').mean(dim='time', keep_attrs=True)\n",
    "\n",
    "        plot_timeseries(y, variable_name, timeMean_option, title)\n",
    "\n",
    "    if timeMean_option == 'day':\n",
    "        y = var\n",
    "\n",
    "        plot_timeseries(y, variable_name, timeMean_option, title)\n",
    "    \n",
    "    if timeMean_option == 'season':\n",
    "        y = var.resample(time='QS-DEC').mean(dim=\"time\")\n",
    "        y = to_monthly(y)\n",
    "        y = y.rename({'month':'season'})\n",
    "        y = y.assign_coords(season = [\"MAM\", \"JJA\", \"SON\", \"DJF\"])\n",
    "\n",
    "        y.plot(x='year', hue='season', figsize=(25,5))\n",
    "        plt.title(title)\n",
    "\n",
    "    if timeMean_option == 'season_mean':\n",
    "        y = var.resample(time='QS-DEC').mean(dim=\"time\")\n",
    "        y = to_monthly(y)\n",
    "        y = y.rename({'month':'season'})\n",
    "        y = y.assign_coords(season = [\"MAM\", \"JJA\", \"SON\", \"DJF\"])\n",
    "\n",
    "        plt.figure(figsize=(10,2.5))\n",
    "        ax = plt.gca()\n",
    "        (y.mean(dim='year') - y.mean(dim='year').mean(dim='season')).to_series().plot.bar(ax=ax)\n",
    "        plt.axhline(y=0, color='k', linestyle='--')\n",
    "\n",
    "        ax.set_xticklabels(y.season.values, rotation=30, ha='right')\n",
    "        plt.title(title  + ', anomaly from annual mean')\n",
    "\n",
    "\n",
    "    if timeMean_option == 'month_mean':\n",
    "        y = to_monthly(var)\n",
    "        y = y.assign_coords(month = ['jan', 'feb', 'mar', 'apr', 'may', 'jun', 'jul','aug', 'sep', 'oct', 'nov', 'dec'])\n",
    "        y.mean(dim='year').plot(figsize = (10,2.5))\n",
    "        plt.title(title)\n",
    "\n",
    "\n",
    "\n",
    "plot_obs = False\n",
    "if plot_obs:\n",
    "    var_obs = ''\n",
    "    title = variable_name + ', '+ timeMean_option + ', ' + obs + ', ' + experiment\n",
    "\n",
    "    if timeMean_option == 'year':\n",
    "        y = var_obs.resample(time='Y').mean(dim='time', keep_attrs=True)\n",
    "\n",
    "        plot_timeseries(y)\n",
    "\n",
    "    if timeMean_option == 'month':\n",
    "        y = var_obs.resample(time='M').mean(dim='time', keep_attrs=True)\n",
    "\n",
    "        plot_timeseries(y, variable_name, timeMean_option, title)\n",
    "\n",
    "    if timeMean_option == 'day':\n",
    "        y = var_obs\n",
    "\n",
    "        plot_timeseries(y, variable_name, timeMean_option, title)\n",
    "    \n",
    "    if timeMean_option == 'season':\n",
    "        y = var_obs.resample(time='QS-DEC').mean(dim=\"time\")\n",
    "        y = to_monthly(y)\n",
    "        y = y.rename({'month':'season'})\n",
    "        y = y.assign_coords(season = [\"MAM\", \"JJA\", \"SON\", \"DJF\"])\n",
    "\n",
    "        y.plot(x='year', hue='season', figsize=(25,5))\n",
    "        plt.title(title)\n",
    "\n",
    "    if timeMean_option == 'season_mean':\n",
    "        y = var_obs.resample(time='QS-DEC').mean(dim=\"time\")\n",
    "        y = to_monthly(y)\n",
    "        y = y.rename({'month':'season'})\n",
    "        y = y.assign_coords(season = [\"MAM\", \"JJA\", \"SON\", \"DJF\"])\n",
    "\n",
    "        plt.figure(figsize=(10,2.5))\n",
    "        ax = plt.gca()\n",
    "        (y.mean(dim='year') - y.mean(dim='year').mean(dim='season')).to_series().plot.bar(ax=ax)\n",
    "        plt.axhline(y=0, color='k',linestyle='--')\n",
    "\n",
    "        plt.title(obs + ', anomaly from annual mean')\n",
    "        ax.set_xticklabels(y.season.values, rotation=30, ha='right')\n",
    "\n",
    "\n",
    "    if timeMean_option == 'month_mean':\n",
    "        y = to_monthly(var_obs)\n",
    "        y = y.assign_coords(month = ['jan', 'feb', 'mar', 'apr', 'may', 'jun', 'jul','aug', 'sep', 'oct', 'nov', 'dec'])\n",
    "        y.mean(dim='year').plot(figsize = (10,2.5))\n",
    "        plt.title(title)\n"
   ]
  },
  {
   "cell_type": "code",
   "execution_count": null,
   "metadata": {},
   "outputs": [],
   "source": [
    "# x- and y-labels\n",
    "+ ' ['+y.units+']'"
   ]
  },
  {
   "cell_type": "code",
   "execution_count": null,
   "metadata": {},
   "outputs": [],
   "source": [
    "# set figsize externally\n",
    "fig.set_size_inches(figsize[0], figsize[1])"
   ]
  },
  {
   "cell_type": "code",
   "execution_count": null,
   "metadata": {},
   "outputs": [],
   "source": [
    "# variable number of rows based on nnumber of datasets to plot\n",
    "fig= plt.figure(figsize=(22,12))\n",
    "n_models = len(models)\n",
    "n_cols = 4\n",
    "n_rows = (n_models + n_cols - 1) // n_cols\n",
    "ax= fig.add_subplot(n_rows, n_cols, i + 1, projection=cartopy.crs.PlateCarree(central_longitude=180))\n",
    "\n",
    "# how to change figure size corresponding to how many rows are included?"
   ]
  },
  {
   "cell_type": "code",
   "execution_count": null,
   "metadata": {},
   "outputs": [],
   "source": [
    "# print date in title\n",
    "plt.title(\"Time = \" + str(tas.coords['time'].values[i])[:13])\n"
   ]
  },
  {
   "cell_type": "code",
   "execution_count": null,
   "metadata": {},
   "outputs": [],
   "source": [
    "# timing\n",
    "print(model, 'started') \n",
    "start = timeit.default_timer()\n",
    "stop = timeit.default_timer()\n",
    "print('model: {} took {} minutes to finsih'.format(model, (stop-start)/60))"
   ]
  },
  {
   "cell_type": "code",
   "execution_count": null,
   "metadata": {},
   "outputs": [],
   "source": [
    "# rename dimensions\n",
    "precip = precip.rename({'latitude': 'lat', 'longitude': 'lon'})"
   ]
  },
  {
   "cell_type": "code",
   "execution_count": 22,
   "metadata": {},
   "outputs": [],
   "source": [
    "# copy array in new dimension\n",
    "a = np.ones(shape = (3,4))\n",
    "b = np.repeat(a[np.newaxis,...], 3, axis=0)"
   ]
  },
  {
   "cell_type": "code",
   "execution_count": null,
   "metadata": {},
   "outputs": [],
   "source": [
    "# broadcasting\n",
    "a = np.ones(shape=(2,3,4))\n",
    "b = np.array([1,2])\n",
    "c = a*b[...,None, None]\n",
    "c = a*b[:,np.newaxis, np.newaxis]\n",
    "a*np.expand_dims(b,axis=(1,2))"
   ]
  },
  {
   "cell_type": "code",
   "execution_count": null,
   "metadata": {},
   "outputs": [],
   "source": [
    "# define xarray data array and data set\n",
    "pr999 = precip.quantile(0.999,dim=('lat','lon'),keep_attrs=True)\n",
    "pr999 = xr.DataArray(\n",
    "    data = pr999.data,\n",
    "    dims = ['time'],\n",
    "    coords = {'time': precip.time.data},\n",
    "    attrs = {'units':'mm/day'}\n",
    "    )\n",
    "    \n",
    "\n",
    "pr_percentiles = xr.Dataset(\n",
    "    data_vars = {'pr95': pr95, \n",
    "                    'pr97': pr97, \n",
    "                    'pr99': pr99, \n",
    "                    'pr999': pr999}\n",
    "    ) "
   ]
  },
  {
   "cell_type": "code",
   "execution_count": null,
   "metadata": {},
   "outputs": [],
   "source": [
    "# creating a seasonal plot\n",
    "season = pr_percentile.resample(time='QS-DEC').mean(dim=\"time\")\n",
    "season = to_monthly(season)\n",
    "# 3 - MAM\n",
    "# 6 - JJA\n",
    "# 9 - SON\n",
    "# 12 - DJF\n",
    "season = season.rename({'month':'season'})\n",
    "season = season.assign_coords(season = [\"MAM\", \"JJA\", \"SON\", \"DJF\"])\n",
    "season.plot(x='year', hue='season', figsize=(25,5))\n",
    "plt.title(percentile_option + ', model: ' + model + ', ' + experiment)"
   ]
  },
  {
   "cell_type": "code",
   "execution_count": 1,
   "metadata": {},
   "outputs": [
    {
     "name": "stdout",
     "output_type": "stream",
     "text": [
      "precipitation [mm day⁻¹K °C ⁻¹km²]\n"
     ]
    }
   ],
   "source": [
    "# writing superscripts in string\n",
    "print('precipitation [mm day' + chr(0x207B) + chr(0x00B9) + 'K'  + ' \\u00B0C ' + chr(0x207B) + chr(0x00B9) + ' km\\u00b2]')"
   ]
  },
  {
   "cell_type": "code",
   "execution_count": null,
   "metadata": {},
   "outputs": [],
   "source": [
    "# groupby\n",
    "pr_percentileSeason = pr_percentile.groupby('time.season').mean(dim='time')\n",
    "pr_percentileMonth = pr_percentiles.pr99.resample(time='M').mean(dim='time')\n",
    "mse_monthly = pr_percentile.groupby('time.month').mean(dim ='time').plot()"
   ]
  },
  {
   "cell_type": "code",
   "execution_count": null,
   "metadata": {},
   "outputs": [],
   "source": [
    "# animation\n",
    "# from matplotlib import pyplot as plt, animation\n",
    "# from IPython.display import HTML, display\n",
    "\n",
    "# animate live in jupyter cell\n",
    "# HTML(ani.to_jshtml())\n",
    "\n",
    "# display saved mp4 in jupyter notebook with:\n",
    "# display(HTML(\"<video controls><source src='/Users/cbla0002/Documents/data/cmip5/animations/GFDL-CM3_location_high_pr_percentile_historical.mp4' type='video/mp4'></video>\"))\n",
    "\n",
    "# save mp4 using ffmpeg\n",
    "# folder = home + '/Documents/data/cmip5/animations'\n",
    "# fileName = model + '_location_high_pr_percentile_' + experiment + '.mp4'\n",
    "# path = folder + '/' + fileName\n",
    "# ani.save(path)"
   ]
  },
  {
   "cell_type": "code",
   "execution_count": null,
   "metadata": {},
   "outputs": [],
   "source": [
    "# dedault blue color: '#1f77b4'"
   ]
  }
 ],
 "metadata": {
  "kernelspec": {
   "display_name": "Python 3",
   "language": "python",
   "name": "python3"
  },
  "language_info": {
   "codemirror_mode": {
    "name": "ipython",
    "version": 3
   },
   "file_extension": ".py",
   "mimetype": "text/x-python",
   "name": "python",
   "nbconvert_exporter": "python",
   "pygments_lexer": "ipython3",
   "version": "3.9.12"
  },
  "vscode": {
   "interpreter": {
    "hash": "40d3a090f54c6569ab1632332b64b2c03c39dcf918b08424e98f38b5ae0af88f"
   }
  }
 },
 "nbformat": 4,
 "nbformat_minor": 4
}
