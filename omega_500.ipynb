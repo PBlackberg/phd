{
 "cells": [
  {
   "attachments": {},
   "cell_type": "markdown",
   "metadata": {},
   "source": [
    "## Pressure velocity at 500 hpa"
   ]
  },
  {
   "attachments": {},
   "cell_type": "markdown",
   "metadata": {},
   "source": [
    "$\\omega_{500}$ - used to calculate ascent area and descent area\n",
    "\n",
    "ascent area - mean of the fraction of gridboxes with $\\omega_{500} < 0$ over a given month  \n",
    "descent area - mean of the fraction of gridboxes with $\\omega_{500} > 0$, over a given month"
   ]
  },
  {
   "cell_type": "code",
   "execution_count": 21,
   "metadata": {},
   "outputs": [],
   "source": [
    "import intake"
   ]
  },
  {
   "cell_type": "code",
   "execution_count": 19,
   "metadata": {},
   "outputs": [
    {
     "ename": "TypeError",
     "evalue": "__init__() missing 1 required positional argument: 'esmcol_obj'",
     "output_type": "error",
     "traceback": [
      "\u001b[0;31m---------------------------------------------------------------------------\u001b[0m",
      "\u001b[0;31mTypeError\u001b[0m                                 Traceback (most recent call last)",
      "Cell \u001b[0;32mIn[19], line 6\u001b[0m\n\u001b[1;32m      3\u001b[0m ensemble \u001b[39m=\u001b[39m \u001b[39m'\u001b[39m\u001b[39mr1i1p1\u001b[39m\u001b[39m'\u001b[39m\n\u001b[1;32m      4\u001b[0m model \u001b[39m=\u001b[39m \u001b[39m'\u001b[39m\u001b[39mGFDL-CM3\u001b[39m\u001b[39m'\u001b[39m\n\u001b[0;32m----> 6\u001b[0m ds_dict \u001b[39m=\u001b[39m intake\u001b[39m.\u001b[39;49mcat\u001b[39m.\u001b[39;49mnci[\u001b[39m'\u001b[39;49m\u001b[39mesgf\u001b[39;49m\u001b[39m'\u001b[39;49m]\u001b[39m.\u001b[39;49mcmip5\u001b[39m.\u001b[39msearch(\n\u001b[1;32m      7\u001b[0m                                 model_id \u001b[39m=\u001b[39m model, \n\u001b[1;32m      8\u001b[0m                                 experiment \u001b[39m=\u001b[39m experiment,\n\u001b[1;32m      9\u001b[0m                                 time_frequency \u001b[39m=\u001b[39m \u001b[39m'\u001b[39m\u001b[39mday\u001b[39m\u001b[39m'\u001b[39m, \n\u001b[1;32m     10\u001b[0m                                 realm \u001b[39m=\u001b[39m \u001b[39m'\u001b[39m\u001b[39matmos\u001b[39m\u001b[39m'\u001b[39m, \n\u001b[1;32m     11\u001b[0m                                 ensemble \u001b[39m=\u001b[39m ensemble, \n\u001b[1;32m     12\u001b[0m                                 variable\u001b[39m=\u001b[39m \u001b[39m'\u001b[39m\u001b[39mpr\u001b[39m\u001b[39m'\u001b[39m)\u001b[39m.\u001b[39mto_dataset_dict()\n",
      "File \u001b[0;32m/g/data/hh5/public/apps/miniconda3/envs/analysis3-22.07/lib/python3.9/site-packages/intake/catalog/base.py:391\u001b[0m, in \u001b[0;36mCatalog.__getattr__\u001b[0;34m(self, item)\u001b[0m\n\u001b[1;32m    388\u001b[0m \u001b[39mif\u001b[39;00m \u001b[39mnot\u001b[39;00m item\u001b[39m.\u001b[39mstartswith(\u001b[39m'\u001b[39m\u001b[39m_\u001b[39m\u001b[39m'\u001b[39m):\n\u001b[1;32m    389\u001b[0m     \u001b[39m# Fall back to __getitem__.\u001b[39;00m\n\u001b[1;32m    390\u001b[0m     \u001b[39mtry\u001b[39;00m:\n\u001b[0;32m--> 391\u001b[0m         \u001b[39mreturn\u001b[39;00m \u001b[39mself\u001b[39;49m[item]  \u001b[39m# triggers reload_on_change\u001b[39;00m\n\u001b[1;32m    392\u001b[0m     \u001b[39mexcept\u001b[39;00m \u001b[39mKeyError\u001b[39;00m \u001b[39mas\u001b[39;00m e:\n\u001b[1;32m    393\u001b[0m         \u001b[39mraise\u001b[39;00m \u001b[39mAttributeError\u001b[39;00m(item) \u001b[39mfrom\u001b[39;00m \u001b[39me\u001b[39;00m\n",
      "File \u001b[0;32m/g/data/hh5/public/apps/miniconda3/envs/analysis3-22.07/lib/python3.9/site-packages/intake/catalog/base.py:436\u001b[0m, in \u001b[0;36mCatalog.__getitem__\u001b[0;34m(self, key)\u001b[0m\n\u001b[1;32m    427\u001b[0m \u001b[39m\"\"\"Return a catalog entry by name.\u001b[39;00m\n\u001b[1;32m    428\u001b[0m \n\u001b[1;32m    429\u001b[0m \u001b[39mCan also use attribute syntax, like ``cat.entry_name``, or\u001b[39;00m\n\u001b[0;32m   (...)\u001b[0m\n\u001b[1;32m    432\u001b[0m \u001b[39mcat['name1', 'name2']\u001b[39;00m\n\u001b[1;32m    433\u001b[0m \u001b[39m\"\"\"\u001b[39;00m\n\u001b[1;32m    434\u001b[0m \u001b[39mif\u001b[39;00m \u001b[39mnot\u001b[39;00m \u001b[39misinstance\u001b[39m(key, \u001b[39mlist\u001b[39m) \u001b[39mand\u001b[39;00m key \u001b[39min\u001b[39;00m \u001b[39mself\u001b[39m:\n\u001b[1;32m    435\u001b[0m     \u001b[39m# triggers reload_on_change\u001b[39;00m\n\u001b[0;32m--> 436\u001b[0m     s \u001b[39m=\u001b[39m \u001b[39mself\u001b[39;49m\u001b[39m.\u001b[39;49m_get_entry(key)\n\u001b[1;32m    437\u001b[0m     \u001b[39mif\u001b[39;00m s\u001b[39m.\u001b[39mcontainer \u001b[39m==\u001b[39m \u001b[39m'\u001b[39m\u001b[39mcatalog\u001b[39m\u001b[39m'\u001b[39m:\n\u001b[1;32m    438\u001b[0m         s\u001b[39m.\u001b[39mname \u001b[39m=\u001b[39m key\n",
      "File \u001b[0;32m/g/data/hh5/public/apps/miniconda3/envs/analysis3-22.07/lib/python3.9/site-packages/intake/catalog/utils.py:45\u001b[0m, in \u001b[0;36mreload_on_change.<locals>.wrapper\u001b[0;34m(self, *args, **kwargs)\u001b[0m\n\u001b[1;32m     42\u001b[0m \u001b[39m@functools\u001b[39m\u001b[39m.\u001b[39mwraps(f)\n\u001b[1;32m     43\u001b[0m \u001b[39mdef\u001b[39;00m \u001b[39mwrapper\u001b[39m(\u001b[39mself\u001b[39m, \u001b[39m*\u001b[39margs, \u001b[39m*\u001b[39m\u001b[39m*\u001b[39mkwargs):\n\u001b[1;32m     44\u001b[0m     \u001b[39mself\u001b[39m\u001b[39m.\u001b[39mreload()\n\u001b[0;32m---> 45\u001b[0m     \u001b[39mreturn\u001b[39;00m f(\u001b[39mself\u001b[39;49m, \u001b[39m*\u001b[39;49margs, \u001b[39m*\u001b[39;49m\u001b[39m*\u001b[39;49mkwargs)\n",
      "File \u001b[0;32m/g/data/hh5/public/apps/miniconda3/envs/analysis3-22.07/lib/python3.9/site-packages/intake/catalog/base.py:323\u001b[0m, in \u001b[0;36mCatalog._get_entry\u001b[0;34m(self, name)\u001b[0m\n\u001b[1;32m    321\u001b[0m ups \u001b[39m=\u001b[39m [up \u001b[39mfor\u001b[39;00m name, up \u001b[39min\u001b[39;00m \u001b[39mself\u001b[39m\u001b[39m.\u001b[39muser_parameters\u001b[39m.\u001b[39mitems() \u001b[39mif\u001b[39;00m name \u001b[39mnot\u001b[39;00m \u001b[39min\u001b[39;00m up_names]\n\u001b[1;32m    322\u001b[0m entry\u001b[39m.\u001b[39m_user_parameters \u001b[39m=\u001b[39m ups \u001b[39m+\u001b[39m (entry\u001b[39m.\u001b[39m_user_parameters \u001b[39mor\u001b[39;00m [])\n\u001b[0;32m--> 323\u001b[0m \u001b[39mreturn\u001b[39;00m entry()\n",
      "File \u001b[0;32m/g/data/hh5/public/apps/miniconda3/envs/analysis3-22.07/lib/python3.9/site-packages/intake/catalog/entry.py:77\u001b[0m, in \u001b[0;36mCatalogEntry.__call__\u001b[0;34m(self, persist, **kwargs)\u001b[0m\n\u001b[1;32m     75\u001b[0m     \u001b[39mraise\u001b[39;00m \u001b[39mValueError\u001b[39;00m(\u001b[39m'\u001b[39m\u001b[39mPersist value (\u001b[39m\u001b[39m%s\u001b[39;00m\u001b[39m) not understood\u001b[39m\u001b[39m'\u001b[39m \u001b[39m%\u001b[39m persist)\n\u001b[1;32m     76\u001b[0m persist \u001b[39m=\u001b[39m persist \u001b[39mor\u001b[39;00m \u001b[39mself\u001b[39m\u001b[39m.\u001b[39m_pmode\n\u001b[0;32m---> 77\u001b[0m s \u001b[39m=\u001b[39m \u001b[39mself\u001b[39;49m\u001b[39m.\u001b[39;49mget(\u001b[39m*\u001b[39;49m\u001b[39m*\u001b[39;49mkwargs)\n\u001b[1;32m     78\u001b[0m \u001b[39mif\u001b[39;00m persist \u001b[39m!=\u001b[39m \u001b[39m'\u001b[39m\u001b[39mnever\u001b[39m\u001b[39m'\u001b[39m \u001b[39mand\u001b[39;00m \u001b[39misinstance\u001b[39m(s, PersistMixin) \u001b[39mand\u001b[39;00m s\u001b[39m.\u001b[39mhas_been_persisted:\n\u001b[1;32m     79\u001b[0m     \u001b[39mfrom\u001b[39;00m \u001b[39m.\u001b[39;00m\u001b[39m.\u001b[39;00m\u001b[39mcontainer\u001b[39;00m\u001b[39m.\u001b[39;00m\u001b[39mpersist\u001b[39;00m \u001b[39mimport\u001b[39;00m store\n",
      "File \u001b[0;32m/g/data/hh5/public/apps/miniconda3/envs/analysis3-22.07/lib/python3.9/site-packages/intake/catalog/local.py:290\u001b[0m, in \u001b[0;36mLocalCatalogEntry.get\u001b[0;34m(self, **user_parameters)\u001b[0m\n\u001b[1;32m    287\u001b[0m     \u001b[39mreturn\u001b[39;00m \u001b[39mself\u001b[39m\u001b[39m.\u001b[39m_default_source\n\u001b[1;32m    289\u001b[0m plugin, open_args \u001b[39m=\u001b[39m \u001b[39mself\u001b[39m\u001b[39m.\u001b[39m_create_open_args(user_parameters)\n\u001b[0;32m--> 290\u001b[0m data_source \u001b[39m=\u001b[39m plugin(\u001b[39m*\u001b[39;49m\u001b[39m*\u001b[39;49mopen_args)\n\u001b[1;32m    291\u001b[0m data_source\u001b[39m.\u001b[39mcatalog_object \u001b[39m=\u001b[39m \u001b[39mself\u001b[39m\u001b[39m.\u001b[39m_catalog\n\u001b[1;32m    292\u001b[0m data_source\u001b[39m.\u001b[39mname \u001b[39m=\u001b[39m \u001b[39mself\u001b[39m\u001b[39m.\u001b[39mname\n",
      "\u001b[0;31mTypeError\u001b[0m: __init__() missing 1 required positional argument: 'esmcol_obj'"
     ]
    }
   ],
   "source": [
    "experiment = 'historical'\n",
    "period=slice('1970-01','1999-12')\n",
    "ensemble = 'r1i1p1'\n",
    "model = 'GFDL-CM3'\n",
    "\n",
    "ds_dict = intake.cat.nci['esgf'].cmip5.search(\n",
    "                                model_id = model, \n",
    "                                experiment = experiment,\n",
    "                                time_frequency = 'day', \n",
    "                                realm = 'atmos', \n",
    "                                ensemble = ensemble, \n",
    "                                variable= 'pr').to_dataset_dict()"
   ]
  },
  {
   "cell_type": "code",
   "execution_count": 20,
   "metadata": {},
   "outputs": [
    {
     "data": {
      "text/plain": [
       "['cmip5',\n",
       " 'cmip5_all',\n",
       " 'cmip5_gr1p5',\n",
       " 'cmip6',\n",
       " 'cmip6_all',\n",
       " 'cmip6_gr1p5',\n",
       " 'cordex',\n",
       " 'cordex_all']"
      ]
     },
     "execution_count": 20,
     "metadata": {},
     "output_type": "execute_result"
    }
   ],
   "source": [
    "list(intake.cat.nci['esgf'])"
   ]
  },
  {
   "cell_type": "code",
   "execution_count": null,
   "metadata": {},
   "outputs": [],
   "source": [
    "experiment = 'historical'\n",
    "period=slice('1970-01','1999-12')\n",
    "ensemble = 'r1i1p1'\n",
    "model = 'GFDL-CM3'\n",
    "\n",
    "a = intake.cat.nci['esgf'].cmip5"
   ]
  }
 ],
 "metadata": {
  "kernelspec": {
   "display_name": "base",
   "language": "python",
   "name": "python3"
  },
  "language_info": {
   "codemirror_mode": {
    "name": "ipython",
    "version": 3
   },
   "file_extension": ".py",
   "mimetype": "text/x-python",
   "name": "python",
   "nbconvert_exporter": "python",
   "pygments_lexer": "ipython3",
   "version": "3.9.15"
  },
  "orig_nbformat": 4,
  "vscode": {
   "interpreter": {
    "hash": "cb183da03564b24632d450cca50a11b801f8a84b7699d62bc356a5d3dc467e72"
   }
  }
 },
 "nbformat": 4,
 "nbformat_minor": 2
}
