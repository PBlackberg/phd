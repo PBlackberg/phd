{
 "cells": [
  {
   "cell_type": "markdown",
   "metadata": {},
   "source": [
    "## aggregation index"
   ]
  },
  {
   "cell_type": "code",
   "execution_count": null,
   "metadata": {},
   "outputs": [],
   "source": [
    "import intake\n",
    "import xarray as xr\n",
    "import xesmf as xe\n",
    "\n",
    "import numpy as np\n",
    "import skimage.measure as skm\n",
    "\n",
    "import matplotlib.pyplot as plt\n",
    "%matplotlib inline\n",
    "import cartopy.crs as ccrs\n",
    "import cartopy.feature as cfeat\n",
    "\n",
    "import os"
   ]
  },
  {
   "cell_type": "code",
   "execution_count": null,
   "metadata": {},
   "outputs": [],
   "source": [
    "models = [\n",
    "        # 'IPSL-CM5A-MR', # 1\n",
    "        # 'GFDL-CM3',     # 2\n",
    "        # 'GISS-E2-H',    # 3\n",
    "        # 'bcc-csm1-1',   # 4\n",
    "        # 'CNRM-CM5',     # 5\n",
    "        # 'CCSM4',        # 6\n",
    "        # 'HadGEM2-AO',   # 7\n",
    "        # 'BNU-ESM',      # 8\n",
    "        # 'EC-EARTH',     # 9\n",
    "        # 'FGOALS-g2',    # 10\n",
    "        # 'MPI-ESM-MR',   # 11\n",
    "        # 'CMCC-CM',      # 12\n",
    "        # 'inmcm4',       # 13\n",
    "        # 'NorESM1-M',    # 14\n",
    "        # 'CanESM2',      # 15\n",
    "        # 'MIROC5',       # 16\n",
    "        # 'HadGEM2-CC',   # 17\n",
    "        # 'MRI-CGCM3',    # 18\n",
    "        # 'CESM1-BGC'     # 19\n",
    "        ]\n",
    "\n",
    "model = 'GFDL-CM3'"
   ]
  },
  {
   "cell_type": "code",
   "execution_count": null,
   "metadata": {},
   "outputs": [],
   "source": [
    "historical = True\n",
    "rcp85 = False\n",
    "\n",
    "if historical:\n",
    "    experiment = 'historical'\n",
    "    period=slice('1970-01','1999-12')\n",
    "    ensemble = 'r1i1p1'\n",
    "\n",
    "    if model == 'GISS-E2-H':\n",
    "        ensemble = 'r6i1p1'\n",
    "\n",
    "\n",
    "if rcp85:\n",
    "    experiment = 'rcp85'\n",
    "    period=slice('2070-01','2099-12')\n",
    "\n",
    "    if model == 'GISS-E2-H':\n",
    "        ensemble = 'r2i1p1'"
   ]
  },
  {
   "cell_type": "code",
   "execution_count": null,
   "metadata": {},
   "outputs": [],
   "source": [
    "# load precipitation field to calculate aggregation index from\n",
    "folder = '/g/data/k10/cb4968/cmip5/' + model\n",
    "fileName = model + '_pr_example_' + experiment + '.nc'\n",
    "path = folder + '/' + fileName\n",
    "ds_local = xr.open_dataset(path)\n",
    "pr_day = ds_local.pr_day\n",
    "pr_day"
   ]
  },
  {
   "cell_type": "markdown",
   "id": "92b923f7-284b-4110-a536-8815f38cdfad",
   "metadata": {
    "tags": []
   },
   "source": [
    "## convective objects properties"
   ]
  },
  {
   "cell_type": "code",
   "execution_count": null,
   "id": "5cd7538b-1a67-4b8e-b7d3-5e092f9f88f9",
   "metadata": {},
   "outputs": [],
   "source": [
    "# convective regions threshold\n",
    "fileName = model + '_pr_extreme_' + experiment + '.nc'\n",
    "ds_local = xr.open_dataset(path)\n",
    "conv_threshold = ds_local.pr_97.mean(dim=('time'))"
   ]
  },
  {
   "cell_type": "code",
   "execution_count": null,
   "id": "d08b7856-f8e6-478f-9844-f82dbd6c2d73",
   "metadata": {},
   "outputs": [],
   "source": [
    "# label 8-connected (2-connectivity) objects\n",
    "L = skm.label(pr_day.where(pr_day>=conv_threshold,0)>0, background=0,connectivity=2)\n"
   ]
  },
  {
   "cell_type": "code",
   "execution_count": null,
   "id": "c78d3a5d-f432-4ebe-b737-859f2efe4d98",
   "metadata": {},
   "outputs": [],
   "source": [
    "# objects that touch across lon=0, lon=360 boundary are the same object, array(lat, lon)\n",
    "def connect_boundary(array):\n",
    "    s = np.shape(array)\n",
    "    for row in np.arange(0,s[0]):\n",
    "        if array[row,0]>0 and array[row,-1]>0:\n",
    "            array[array==array[row,0]] = min(array[row,0],array[row,-1])\n",
    "            array[array==array[row,-1]] = min(array[row,0],array[row,-1])"
   ]
  },
  {
   "cell_type": "code",
   "execution_count": null,
   "id": "d221fe27-df0b-41bb-8a7d-7ce975e0bb9d",
   "metadata": {},
   "outputs": [],
   "source": [
    "connect_boundary(L)"
   ]
  },
  {
   "cell_type": "code",
   "execution_count": null,
   "id": "1887ea37-3926-4823-834d-00f53c3d2493",
   "metadata": {},
   "outputs": [],
   "source": [
    "# plot objects in scene\n",
    "L = skm.label(pr_day.where(pr_day>=conv_threshold,0)>0, background=0,connectivity=2)\n",
    "connect_boundary(L)\n",
    "\n",
    "O = pr_day.where(pr_day>=conv_threshold,0)>0\n",
    "xr_L = xr.DataArray(L, coords={'lat': lat,'lon': lon})\n",
    "\n",
    "projection = ccrs.PlateCarree(central_longitude=180)\n",
    "f, (ax1, ax2) = plt.subplots(nrows = 2, subplot_kw=dict(projection=projection), figsize=(15, 7))\n",
    "\n",
    "# objects binary\n",
    "O.plot(ax=ax1, transform=ccrs.PlateCarree(), levels =4, colors = ['w','c','k'], add_colorbar=False) \n",
    "ax1.add_feature(cfeat.COASTLINE)\n",
    "ax1.set_extent([lon[0], lon[-1], lat[0], lat[-1]], crs=ccrs.PlateCarree())\n",
    "ax1.set_title('') #Snapshot of objects, model:' + model + ' exp:' + experiment)\n",
    "#ax1.set_xticks([-180, -90, 0, 90, 180])\n",
    "#ax1.set_xticklabels([0, 90, 180, 270, 360])\n",
    "ax1.set_yticks([-20, 0, 20])\n",
    "plt.tight_layout()\n",
    "\n",
    "# objects labeled\n",
    "pr_day.plot(ax=ax2, transform=ccrs.PlateCarree(), levels =len(np.unique(L)),cmap='Blues',cbar_kwargs={'orientation': 'horizontal','pad':0.175, 'aspect':55,'fraction':0.055})#,add_colorbar=False)\n",
    "ax2.add_feature(cfeat.COASTLINE)\n",
    "ax2.set_extent([lon[0], lon[-1], lat[0], lat[-1]], crs=ccrs.PlateCarree())\n",
    "ax2.set_title('') #Snapshot of objects, model:' + model + ' exp:' + experiment)\n",
    "ax2.set_xticks([-180, -90, 0, 90, 180])\n",
    "ax2.set_xticklabels([0, 90, 180, 270, 360])\n",
    "ax2.set_yticks([-20, 0, 20])\n",
    "\n",
    "plt.tight_layout()\n",
    "\n",
    "\n",
    "save = False\n",
    "if save:\n",
    "    plt.savefig('/home/565/cb4968/Documents/phd/both.pdf') "
   ]
  },
  {
   "cell_type": "code",
   "execution_count": null,
   "id": "4e4eb559-91f4-4f40-9f53-73d52d0dca78",
   "metadata": {},
   "outputs": [],
   "source": [
    "# each object has a unique label\n",
    "labels = np.unique(L)[1:]"
   ]
  },
  {
   "cell_type": "code",
   "execution_count": null,
   "id": "b74456e9-bdc3-4d08-bf9e-66758a8d526f",
   "metadata": {},
   "outputs": [],
   "source": [
    "# Calculate area, and precipitation of objects \n",
    "# This loses index of objects as in L\n",
    "\n",
    "#create 3d matrix with each object being a binary 2d slice\n",
    "obj3d = np.stack([(L==label) for label in labels],axis=2)*1\n",
    "\n",
    "# object properties (python automatically broadcasts)\n",
    "R = 6371 #km\n",
    "\n",
    "pr_day = precip.isel(time=0)\n",
    "pr_day = np.expand_dims(pr_day,axis=2)\n",
    "\n",
    "lonm, latm = np.meshgrid(lon, lat)\n",
    "dlat = (lat[1]-lat[0])\n",
    "dlon = (lon[1]-lon[0])\n",
    "aream = np.cos(np.deg2rad(latm))*np.float64(dlon*dlat*R**2*(np.pi/180)**2)\n",
    "\n",
    "latm = np.expand_dims(latm,axis=2)\n",
    "lonm = np.expand_dims(lonm,axis=2)\n",
    "aream = np.expand_dims(aream,axis=2)\n",
    "\n",
    "\n",
    "o_pr = xr.DataArray(np.sum(obj3d * pr_day * aream, axis=(0,1)) / np.sum(obj3d*aream, axis=(0,1)), attrs=dict(description=\"area weighted mean pr in object\", units=\"mm/day\"))\n",
    "o_area = xr.DataArray(np.sum(obj3d * aream, axis=(0,1)), attrs=dict(description=\"area of object\", units=\"km$^2$\"))\n",
    "                                                                           "
   ]
  },
  {
   "cell_type": "code",
   "execution_count": null,
   "id": "6991f3da-c162-4529-b28e-33f8aa58b658",
   "metadata": {},
   "outputs": [],
   "source": [
    "o_area"
   ]
  },
  {
   "cell_type": "markdown",
   "id": "8395c3ec-143e-4741-87c0-4ed4cbc13b0f",
   "metadata": {
    "tags": []
   },
   "source": [
    "## aggregation index"
   ]
  },
  {
   "cell_type": "markdown",
   "id": "b38358e8-f61c-4765-ac06-5f754c870ab1",
   "metadata": {
    "tags": []
   },
   "source": [
    "### number index"
   ]
  },
  {
   "cell_type": "code",
   "execution_count": null,
   "id": "40e1ddaa-7283-417d-9870-d59777407606",
   "metadata": {},
   "outputs": [],
   "source": [
    "# Number of object in the scene\n",
    "scene_oNumber = len(labels)"
   ]
  },
  {
   "cell_type": "markdown",
   "id": "e3ce1c34-e348-4eee-b1a7-75eff113361b",
   "metadata": {
    "tags": []
   },
   "source": [
    "### area fraction"
   ]
  },
  {
   "cell_type": "code",
   "execution_count": null,
   "id": "afbdc818-76f5-4119-a06e-26f3ccdbb257",
   "metadata": {},
   "outputs": [],
   "source": [
    "# areaweighting\n",
    "weights = np.cos(np.deg2rad(lat))\n",
    "weights.name = \"weights\""
   ]
  },
  {
   "cell_type": "code",
   "execution_count": null,
   "id": "7baa6806-e0c1-44a7-80e2-c4c365408f1f",
   "metadata": {},
   "outputs": [],
   "source": [
    "pr_day = precip.isel(time=0)\n",
    "conv_day = (pr_day.where(pr_day>=conv_threshold,0)>0)*1\n",
    "scene_areaf = conv_day.weighted(weights).mean(dim=('lat','lon'))\n",
    "scene_areaf = scene_areaf.drop('quantile',dim=None)"
   ]
  },
  {
   "cell_type": "code",
   "execution_count": null,
   "id": "a5a4d4b1-5ae1-4743-a529-7a91f65300b8",
   "metadata": {},
   "outputs": [],
   "source": [
    "np.float64(scene_areaf)"
   ]
  },
  {
   "cell_type": "markdown",
   "id": "900b6593-1956-4cf5-bee8-10c474fdece4",
   "metadata": {
    "tags": []
   },
   "source": [
    "### ROME"
   ]
  },
  {
   "cell_type": "code",
   "execution_count": null,
   "id": "8c9c6708-e95c-4c7e-a9fd-4ba0fc64c763",
   "metadata": {},
   "outputs": [],
   "source": [
    "# Great circle distance (Haversine formula)\n",
    "# takes vectorized inputs\n",
    "def hav_dist(lat1, lon1, lat2, lon2):\n",
    "\n",
    "   # radius of earth in km\n",
    "   #R = 6373.0\n",
    "        \n",
    "    R = 6371\n",
    "\n",
    "    lat1 = np.deg2rad(lat1)                       \n",
    "    lon1 = np.deg2rad(lon1-180)     \n",
    "    lat2 = np.deg2rad(lat2)                       \n",
    "    lon2 = np.deg2rad(lon2-180)\n",
    "\n",
    "    # Haversine formula\n",
    "    h = np.sin((lat2 - lat1)/2)**2 + np.cos(lat1)*np.cos(lat2) * np.sin((lon2 - lon1)/2)**2\n",
    "\n",
    "    # distance from Haversine function:\n",
    "    # h = sin(theta/2)^2\n",
    "    # central angle, theta:\n",
    "    # theta = (great circle distance) / radius \n",
    "    # d = R * sin^-1(sqrt(h))*2 \n",
    "\n",
    "    return 2 * R * np.arcsin(np.sqrt(h))"
   ]
  },
  {
   "cell_type": "code",
   "execution_count": null,
   "id": "2b31f6c6-ff75-4920-93c4-4f9566ab7c39",
   "metadata": {},
   "outputs": [],
   "source": [
    "# ROME\n",
    "# calculated as: oA_area + min(1, oB/oD)*oB for each unique pair, and taking the mean of all pairs\n",
    "# oA - larger of the pair of objects\n",
    "# oD - the square of the shortest distance between object A and B\n",
    "\n",
    "# Essentially it is the added areas unless the distance between the objects is larger than the smaller object\n",
    "# in that case the contribution from the smaller area to the total is modulated\n",
    "\n",
    "ROME_allPairs = []\n",
    "lonm,latm = np.meshgrid(lon,lat)\n",
    "dlat = (lat[1]-lat[0])\n",
    "dlon = (lon[1]-lon[0])\n",
    "aream = np.cos(np.deg2rad(latm))*np.float64(dlon*dlat*R**2*(np.pi/180)**2)\n",
    "\n",
    "latm = np.expand_dims(latm,axis=2)\n",
    "lonm = np.expand_dims(lonm,axis=2)\n",
    "sL = np.shape(L)\n",
    "\n",
    "if len(labels) ==1:\n",
    "    ROME_allPairs = np.sum((L==labels)*1 * aream)\n",
    "    \n",
    "else:\n",
    "    for idx, labeli in enumerate(labels[0:-1]):\n",
    "\n",
    "        # find coordinates of object i\n",
    "        I, J = zip(*np.argwhere(L==labeli))\n",
    "        I = list(I)\n",
    "        J = list(J)\n",
    "\n",
    "        # area of object i\n",
    "        oi_area = np.sum(aream[I,J])\n",
    "\n",
    "        # shortest distance from object i        \n",
    "        # count the number of gridboxes\n",
    "        Ni = len(I)\n",
    "\n",
    "        # replicate each gridbox lon and lat to Ni 2D slices the shape of L\n",
    "        lati3d = np.tile(lat[I],reps =[sL[0], sL[1], 1])\n",
    "        loni3d = np.tile(lon[J],reps =[sL[0], sL[1], 1])\n",
    "\n",
    "        # create corresponding 3D matrix from Ni copies of \n",
    "        # the mesh grid lon, lat, this metrix only needs to \n",
    "        # be recreated when Ni increases from previous loop\n",
    "        if Ni > np.shape(lonm)[2]:\n",
    "            lonm = np.tile(lonm[:,:,0:1],reps =[1, 1, Ni])\n",
    "            latm = np.tile(latm[:,:,0:1],reps =[1, 1, Ni])\n",
    "        # Otherwise you can index the previously created matrix to match lati3d, loni3d\n",
    "\n",
    "        # distance from gridbox to every other point in the domain\n",
    "        p_hav = hav_dist(lati3d,loni3d,latm[:,:,0:Ni],lonm[:,:,0:Ni])\n",
    "\n",
    "        # minimum in the third dimension gives shortest distance from \n",
    "        # object i to every other point in the domain\n",
    "        p_dist = np.amin(p_hav, axis=2)\n",
    "\n",
    "        # pick out desired coordinates of p_dist, from the coordinates of the\n",
    "        # unique pair object j\n",
    "        # the minimum of the coordinates in p_dist will be the shortest distance.\n",
    "        for labelj in labels[idx+1:]:\n",
    "            # coordinates of object j\n",
    "            I, J = zip(*np.argwhere(L==labelj))\n",
    "\n",
    "            # area of object j\n",
    "            oj_area = np.sum(aream[I,J])\n",
    "\n",
    "            # ROME of unique pair\n",
    "            large_area = np.maximum(oi_area, oj_area)\n",
    "            small_area = np.maximum(oi_area, oj_area)\n",
    "            ROME_pair = large_area + np.minimum(small_area, (small_area/np.amin(p_dist[I,J]))**2)\n",
    "            ROME_allPairs = np.append(ROME_allPairs, ROME_pair)"
   ]
  },
  {
   "cell_type": "code",
   "execution_count": null,
   "id": "f283d0ab-0917-4cae-bfd1-c5ab7992936d",
   "metadata": {},
   "outputs": [],
   "source": [
    "len(ROME_allPairs)"
   ]
  },
  {
   "cell_type": "code",
   "execution_count": null,
   "id": "1291d94d-0866-4e4e-9762-717fbe5dfc77",
   "metadata": {},
   "outputs": [],
   "source": [
    "ROME = np.mean(ROME_allPairs)"
   ]
  },
  {
   "cell_type": "markdown",
   "id": "5ca05d62-765e-4c73-a977-ae93eae39fb6",
   "metadata": {
    "tags": []
   },
   "source": [
    "### ROME n largest"
   ]
  },
  {
   "cell_type": "code",
   "execution_count": null,
   "id": "105f39b9-3057-4792-8132-5113b1d672ba",
   "metadata": {},
   "outputs": [],
   "source": [
    "# n largest objects (8)\n",
    "# index of n largest objects in L\n",
    "obj3d = np.stack([(L==label) for label in labels],axis=2)*1\n",
    "lonm, latm = np.meshgrid(lon, lat)\n",
    "dlat = (lat[1]-lat[0])\n",
    "dlon = (lon[1]-lon[0])\n",
    "aream = np.cos(np.deg2rad(latm))*np.float64(dlon*dlat*R**2*(np.pi/180)**2)\n",
    "\n",
    "aream = np.expand_dims(aream,axis=2)\n",
    "\n",
    "\n",
    "o_areaL = np.sum(obj3d * aream, axis=(0,1))\n",
    "n = 8\n",
    "if len(o_area) <= n:\n",
    "    labels_n = labels\n",
    "    L_n = L\n",
    "else:\n",
    "    labels_n = labels[o_areaL.argsort()[-n:]]\n",
    "    L_n = np.sum(np.stack([(L==label) for label in labels_n],axis=2)*1, axis=2)\n"
   ]
  },
  {
   "cell_type": "code",
   "execution_count": null,
   "id": "9681662d-5237-47f7-8dff-87967a4ebd80",
   "metadata": {},
   "outputs": [],
   "source": [
    "# plot n largest\n",
    "pr_day = precip.isel(time=0)\n",
    "O = pr_day.where(pr_day>=conv_threshold,0)>0\n",
    "xr_Ln = xr.DataArray(L_n, coords={'lat': lat,'lon': lon})\n",
    "\n",
    "projection = ccrs.PlateCarree(central_longitude=180)\n",
    "f, (ax1, ax2) = plt.subplots(nrows = 2, subplot_kw=dict(projection=projection), figsize=(15, 7))\n",
    "\n",
    "# objects binary\n",
    "O.plot(ax=ax1, transform=ccrs.PlateCarree(), levels =4, colors = ['w','c','k'], add_colorbar=False) \n",
    "ax1.add_feature(cfeat.COASTLINE)\n",
    "ax1.set_extent([lon[0], lon[-1], lat[0], lat[-1]], crs=ccrs.PlateCarree())\n",
    "ax1.set_title('Snapshot of objects, model:' + model + ' exp:' + experiment)\n",
    "ax1.set_xticks([-180, -90, 0, 90, 180])\n",
    "ax1.set_xticklabels([0, 90, 180, 270, 360])\n",
    "ax1.set_yticks([-20, 0, 20])\n",
    "\n",
    "# objects labeled\n",
    "xr_Ln.plot(ax=ax2, transform=ccrs.PlateCarree(), levels =4, colors = ['w','c','deepskyblue'], add_colorbar=False) \n",
    "ax2.add_feature(cfeat.COASTLINE)\n",
    "ax2.set_extent([lon[0], lon[-1], lat[0], lat[-1]], crs=ccrs.PlateCarree())\n",
    "ax2.set_xticks([-180, -90, 0, 90, 180])\n",
    "ax2.set_xticklabels([0, 90, 180, 270, 360])\n",
    "ax2.set_yticks([-20, 0, 20])\n",
    "\n",
    "plt.tight_layout()"
   ]
  },
  {
   "cell_type": "code",
   "execution_count": null,
   "id": "f47041ba-9b7e-4e5a-aa91-e7ca92497de1",
   "metadata": {},
   "outputs": [],
   "source": [
    "# ROME for n largest\n",
    "# calculated as: oA_area + min(1, oB/oD)*oB for each unique pair, and taking the mean of all pairs\n",
    "# oA - larger of the pair of objects\n",
    "# oD - the square of the shortest distance between object A and B\n",
    "\n",
    "# Essentially it is the added areas unless the distance between the objects is larger than the smaller object\n",
    "# in that case the contribution from the smaller area to the total is modulated\n",
    "\n",
    "ROME_allPairs = []\n",
    "lonm,latm = np.meshgrid(lon,lat)\n",
    "dlat = (lat[1]-lat[0])\n",
    "dlon = (lon[1]-lon[0])\n",
    "aream = np.cos(np.deg2rad(latm))*np.float64(dlon*dlat*R**2*(np.pi/180)**2)\n",
    "\n",
    "latm = np.expand_dims(latm,axis=2)\n",
    "lonm = np.expand_dims(lonm,axis=2)\n",
    "sL = np.shape(L)\n",
    "\n",
    "if len(labels_n) ==1:\n",
    "    ROME_allPairs = np.sum((L==labels_n)*1 * aream)\n",
    "    \n",
    "else:\n",
    "    for idx, labeli in enumerate(labels_n[0:-1]):\n",
    "\n",
    "        # find coordinates of object i\n",
    "        I, J = zip(*np.argwhere(L==labeli))\n",
    "        I = list(I)\n",
    "        J = list(J)\n",
    "\n",
    "        # area of object i\n",
    "        oi_area = np.sum(aream[I,J])\n",
    "\n",
    "        # shortest distance from object i        \n",
    "        # count the number of gridboxes\n",
    "        Ni = len(I)\n",
    "\n",
    "        # replicate each gridbox lon and lat to Ni 2D slices the shape of L\n",
    "        lati3d = np.tile(lat[I],reps =[sL[0], sL[1], 1])\n",
    "        loni3d = np.tile(lon[J],reps =[sL[0], sL[1], 1])\n",
    "\n",
    "        # create corresponding 3D matrix from Ni copies of \n",
    "        # the mesh grid lon, lat, this metrix only needs to \n",
    "        # be recreated when Ni increases from previous loop\n",
    "        if Ni > np.shape(lonm)[2]:\n",
    "            lonm = np.tile(lonm[:,:,0:1],reps =[1, 1, Ni])\n",
    "            latm = np.tile(latm[:,:,0:1],reps =[1, 1, Ni])\n",
    "        # Otherwise you can index the previously created matrix to match lati3d, loni3d\n",
    "\n",
    "        # distance from gridbox to every other point in the domain\n",
    "        p_hav = hav_dist(lati3d,loni3d,latm[:,:,0:Ni],lonm[:,:,0:Ni])\n",
    "\n",
    "        # minimum in the third dimension gives shortest distance from \n",
    "        # object i to every other point in the domain\n",
    "        p_dist = np.amin(p_hav, axis=2)\n",
    "\n",
    "        # pick out desired coordinates of p_dist, from the coordinates of the\n",
    "        # unique pair object j\n",
    "        # the minimum of the coordinates in p_dist will be the shortest distance.\n",
    "        for labelj in labels_n[idx+1:]:\n",
    "            # coordinates of object j\n",
    "            I, J = zip(*np.argwhere(L==labelj))\n",
    "\n",
    "            # area of object j\n",
    "            oj_area = np.sum(aream[I,J])\n",
    "\n",
    "            # ROME of unique pair\n",
    "            large_area = np.maximum(oi_area, oj_area)\n",
    "            small_area = np.maximum(oi_area, oj_area)\n",
    "            ROME_pair = large_area + np.minimum(small_area, (small_area/np.amin(p_dist[I,J]))**2)\n",
    "            ROME_allPairs = np.append(ROME_allPairs, ROME_pair)"
   ]
  },
  {
   "cell_type": "code",
   "execution_count": null,
   "id": "2190aa80-69d9-4137-8ae0-69964d670459",
   "metadata": {},
   "outputs": [],
   "source": [
    "len(ROME_allPairs)"
   ]
  },
  {
   "cell_type": "code",
   "execution_count": null,
   "id": "1c04c14c-b57b-45af-bada-23f766759297",
   "metadata": {},
   "outputs": [],
   "source": [
    "ROME_n = np.mean(ROME_allPairs)"
   ]
  },
  {
   "cell_type": "markdown",
   "metadata": {},
   "source": [
    "# saving"
   ]
  },
  {
   "cell_type": "code",
   "execution_count": null,
   "id": "2d4db3e6-75d8-44a1-a87e-c24eb50fa1aa",
   "metadata": {},
   "outputs": [],
   "source": [
    "# object properties\n",
    "save = False\n",
    "folder = '/g/data/k10/cb4968/cmip5/' + model\n",
    "os.makedirs(folder, exist_ok=True)\n",
    "if save:\n",
    "    fileName = model + '_pr_objects_' + experiment + '.nc'\n",
    "    path = folder + '/' + fileName\n",
    "    if os.path.exists(path):\n",
    "        os.remove(path)\n",
    "\n",
    "    xr.Dataset({'o_lat': o_lat, 'o_lon': o_lon, 'o_pr': o_pr, 'o_area': o_area}).to_netcdf(path) "
   ]
  },
  {
   "cell_type": "code",
   "execution_count": null,
   "id": "44b4596c-1908-46c3-8bcf-5ce9a5089e68",
   "metadata": {},
   "outputs": [],
   "source": [
    "# aggregation index\n",
    "save = False\n",
    "folder = '/g/data/k10/cb4968/cmip5/' + model\n",
    "os.makedirs(folder, exist_ok=True)\n",
    "if save:\n",
    "    fileName = model + '_pr_aggScene_' + experiment + '.nc'\n",
    "    path = folder + '/' + fileName\n",
    "    if os.path.exists(path):\n",
    "        os.remove(path)\n",
    "\n",
    "    xr.Dataset({'scene_oNumber': scene_oNumber, 'ROME': ROME, 'ROME_n': ROME_n, 'scene_areaf': scene_areaf}).to_netcdf(path) "
   ]
  }
 ],
 "metadata": {
  "kernelspec": {
   "display_name": "Python 3.9.12 ('base')",
   "language": "python",
   "name": "python3"
  },
  "language_info": {
   "name": "python",
   "version": "3.9.12"
  },
  "orig_nbformat": 4,
  "vscode": {
   "interpreter": {
    "hash": "40d3a090f54c6569ab1632332b64b2c03c39dcf918b08424e98f38b5ae0af88f"
   }
  }
 },
 "nbformat": 4,
 "nbformat_minor": 2
}
