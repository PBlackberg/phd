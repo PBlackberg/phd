{
 "cells": [
  {
   "cell_type": "markdown",
   "id": "be534844-a7b1-445d-b9a9-a2486673a84a",
   "metadata": {
    "jp-MarkdownHeadingCollapsed": true,
    "tags": []
   },
   "source": [
    "## surface temperature (tas)"
   ]
  },
  {
   "cell_type": "code",
   "execution_count": null,
   "id": "9569f1eb-614b-4c80-97fd-470988b6df34",
   "metadata": {},
   "outputs": [],
   "source": [
    "# model #3 and #9 have differnt emsemble in historical (r6i1p1)\n",
    "# model #3 and #9 do not have different emsemble than other models in rcp85\n"
   ]
  },
  {
   "cell_type": "code",
   "execution_count": null,
   "id": "a26e1a70-0ab0-4d19-ab45-beeca34ed2d9",
   "metadata": {
    "tags": []
   },
   "outputs": [],
   "source": [
    "subset = intake.cat.nci['esgf'].cmip5.search(\n",
    "                                            model_id = model, \n",
    "                                            experiment = experiment,\n",
    "                                            time_frequency = 'mon', \n",
    "                                            realm = 'atmos', \n",
    "                                            ensemble = ensemble, \n",
    "                                            variable= 'tas'\n",
    ")\n",
    "subset"
   ]
  },
  {
   "cell_type": "code",
   "execution_count": null,
   "id": "660e84f8-e70d-43dd-9eaf-c5c8aa011fb8",
   "metadata": {},
   "outputs": [],
   "source": [
    "ds_dict = subset.to_dataset_dict()"
   ]
  },
  {
   "cell_type": "code",
   "execution_count": null,
   "id": "eadf474d-53aa-4b33-8ecd-3a6d01ab2bb8",
   "metadata": {},
   "outputs": [],
   "source": [
    "ds_tas = ds_dict[list(ds_dict.keys())[-1]].sel(time=period, lon=slice(0,360),lat=slice(-30,30))\n",
    "ds_tas"
   ]
  },
  {
   "cell_type": "code",
   "execution_count": null,
   "id": "3cb496b9-7359-4a10-aab2-06252baaceea",
   "metadata": {},
   "outputs": [],
   "source": [
    "ds_tas.tas.encoding"
   ]
  },
  {
   "cell_type": "code",
   "execution_count": null,
   "id": "f122872f-2f2a-4c1e-b736-7da31a9ca559",
   "metadata": {},
   "outputs": [],
   "source": [
    "ds_tas = ds_tas.where(ds_tas.tas < 1e+20) "
   ]
  },
  {
   "cell_type": "code",
   "execution_count": null,
   "id": "3e8bce6d-adc5-49d9-a0d8-c397bd6c9a40",
   "metadata": {},
   "outputs": [],
   "source": [
    "tas = regridder(ds_tas).tas-273.15\n",
    "tas.attrs['units']= 'deg (C)'\n",
    "tas"
   ]
  },
  {
   "cell_type": "code",
   "execution_count": null,
   "id": "14645228-99e9-461b-b9be-1534b4595aba",
   "metadata": {},
   "outputs": [],
   "source": [
    "tas_day = tas.isel(time=0)\n",
    "lat = tas_day.lat\n",
    "lon = tas_day.lon"
   ]
  },
  {
   "cell_type": "code",
   "execution_count": null,
   "id": "2190041c-5d5e-43e6-8337-cee01ce2b2ec",
   "metadata": {},
   "outputs": [],
   "source": [
    "# plot snapshot\n",
    "projection = ccrs.PlateCarree(central_longitude=180)\n",
    "\n",
    "f, ax = plt.subplots(subplot_kw=dict(projection=projection), figsize=(15, 5))\n",
    "\n",
    "tas_day.plot(transform=ccrs.PlateCarree(), cbar_kwargs={'orientation': 'horizontal','pad':0.125, 'aspect':50,'fraction':0.055}, cmap='coolwarm')\n",
    "ax.add_feature(cfeat.COASTLINE)\n",
    "ax.set_extent([lon[0], lon[-1], lat[0], lat[-1]], crs=ccrs.PlateCarree())\n",
    "ax.set_title('Snapshot, model:' + model + ' exp:' + experiment)\n",
    "ax.set_xticks([-180, -90, 0, 90, 180])\n",
    "ax.set_xticklabels([0, 90, 180, 270, 360])\n",
    "ax.set_yticks([-20, 0, 20])\n",
    "plt.tight_layout()\n"
   ]
  },
  {
   "cell_type": "code",
   "execution_count": null,
   "id": "319c9b66-2d9e-433c-bc60-a5ae6067d216",
   "metadata": {},
   "outputs": [],
   "source": [
    "tas_tMean= tas.mean(dim='time', keep_attrs=True)\n",
    "\n",
    "# areaweighting\n",
    "# weights = np.cos(np.deg2rad(lat))\n",
    "# weights.name = \"weights\"\n",
    "# pr_tMean.weighted(weights).mean(dim=('lat','lon'))"
   ]
  },
  {
   "cell_type": "code",
   "execution_count": null,
   "id": "223ff4d9-f13a-4fe6-b1a5-fee89a41ec4c",
   "metadata": {},
   "outputs": [],
   "source": [
    "# plot timeMean\n",
    "projection = ccrs.PlateCarree(central_longitude=180)\n",
    "\n",
    "f, ax = plt.subplots(subplot_kw=dict(projection=projection), figsize=(15, 5))\n",
    "\n",
    "tas_tMean.plot(transform=ccrs.PlateCarree(), cbar_kwargs={'orientation': 'horizontal','pad':0.125, 'aspect':50,'fraction':0.055}, cmap='coolwarm')\n",
    "ax.add_feature(cfeat.COASTLINE)\n",
    "ax.set_extent([lon[0], lon[-1], lat[0], lat[-1]], crs=ccrs.PlateCarree())\n",
    "ax.set_title('Snapshot, model:' + model + ' exp:' + experiment)\n",
    "ax.set_xticks([-180, -90, 0, 90, 180])\n",
    "ax.set_xticklabels([0, 90, 180, 270, 360])\n",
    "ax.set_yticks([-20, 0, 20])\n",
    "plt.tight_layout()"
   ]
  },
  {
   "cell_type": "markdown",
   "metadata": {},
   "source": [
    "## saving"
   ]
  },
  {
   "cell_type": "code",
   "execution_count": null,
   "id": "ce1fb2e1-0eb6-4e9c-ad33-15eca4862880",
   "metadata": {},
   "outputs": [],
   "source": [
    "# spatial mean temperature\n",
    "save = False\n",
    "if save:\n",
    "    folder = '/g/data/k10/cb4968/cmip5/' + model\n",
    "    os.makedirs(folder, exist_ok=True)\n",
    "    \n",
    "    fileName = model + '_tas_' + experiment + '.nc'\n",
    "    path = folder + '/' + fileName\n",
    "    if os.path.exists(path):\n",
    "        os.remove(path)    \n",
    "\n",
    "    xr.Dataset({'tas_day': tas_day, 'tas_tMean': tas_tMean}).to_netcdf(path)"
   ]
  }
 ],
 "metadata": {
  "kernelspec": {
   "display_name": "Python 3.9.12 ('base')",
   "language": "python",
   "name": "python3"
  },
  "language_info": {
   "name": "python",
   "version": "3.9.12"
  },
  "orig_nbformat": 4,
  "vscode": {
   "interpreter": {
    "hash": "40d3a090f54c6569ab1632332b64b2c03c39dcf918b08424e98f38b5ae0af88f"
   }
  }
 },
 "nbformat": 4,
 "nbformat_minor": 2
}
