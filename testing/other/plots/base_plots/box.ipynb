{
 "cells": [
  {
   "cell_type": "code",
   "execution_count": 2,
   "metadata": {},
   "outputs": [],
   "source": [
    "#\n",
    "#\n",
    "# Box plot\n",
    "#\n",
    "#"
   ]
  },
  {
   "cell_type": "code",
   "execution_count": 103,
   "metadata": {},
   "outputs": [],
   "source": [
    "# Packages\n",
    "\n",
    "# data handling\n",
    "import numpy as np\n",
    "import pandas as pd\n",
    "\n",
    "# plotting\n",
    "import matplotlib.pyplot as plt\n",
    "import matplotlib.cm as mpl\n",
    "%matplotlib inline\n",
    "\n",
    "import seaborn as sns\n",
    "import matplotlib.gridspec as gridspec\n",
    "import matplotlib.colors as colors\n",
    "\n",
    "\n",
    "# paths and loading\n",
    "import os\n",
    "from scipy.io import loadmat"
   ]
  },
  {
   "cell_type": "code",
   "execution_count": 4,
   "metadata": {},
   "outputs": [],
   "source": [
    "# choose variables\n",
    "data_path = '/Users/cbla0002/Documents/data'\n",
    "\n",
    "# all\n",
    "percentiles= ['95th_percentile', '97th_percentile', '99th_percentile']\n",
    "var_files= ['domain', 'convective_objects', 'aggregation_index', 'examples']\n",
    "insts = ['IPSL','NOAA-GFDL','NASA-GISS','BCC','CNRM-CERFACS','NCAR'\n",
    "        ,'NIMR-KMA','BNU','ICHEC','LASG-CESS','MPI-M','CMCC','INM','NCC' \n",
    "        ,'CCCma','MIROC','MOHC','MRI','NSF-DOE-NCAR']\n",
    "vars= ['pr','hus','tas','convective_objects','aggregation_index']\n",
    "scenarios= ['historical', 'rcp85']\n",
    "\n",
    "\n",
    "# chosen\n",
    "percentile= ['97th_percentile']\n",
    "var_file= ['domain', 'aggregation_index','tas']\n",
    "inst = ['IPSL']\n",
    "var= ['pr', 'aggregation_index','tas']\n",
    "scenario= ['historical','rcp85']"
   ]
  },
  {
   "cell_type": "code",
   "execution_count": 5,
   "metadata": {},
   "outputs": [
    {
     "name": "stdout",
     "output_type": "stream",
     "text": [
      "dict_keys(['__header__', '__version__', '__globals__', 'M_area', 'M_lat', 'M_lon', 'Rx1day_pr', 'Rx1day_pr_annual', 'Rx1day_pr_image', 'Rx5day_pr', 'Rx5day_pr_annual', 'Rx5day_pr_image', 'Wlat', 'Wlon', 'area_prctile', 'day_of_snapshot', 'gridbox_5day_pr', 'gridbox_pr', 'lat', 'lat_old', 'lon', 'lon_old', 'mean_pr_image', 'mean_pr_prctile_rate', 'mean_pr_prctile_vol', 'mean_pr_vol', 'prctile_rate_99', 'prctile_rate_99_9', 'prctile_rate_99_99', 'snapshot_pr_image', 'time_range', 'trop_end', 'trop_start'])\n"
     ]
    }
   ],
   "source": [
    "# check variables (domain_pr)\n",
    "fileName = inst[0] + '_' + var_file[0] + '_' + var[0] + '_' + scenario[0] \n",
    "#print(fileName)\n",
    "\n",
    "file_path = os.path.abspath(os.path.join(data_path, percentile[0], var_file[0], fileName))\n",
    "#print(file_path)\n",
    "\n",
    "data1 = loadmat(file_path)\n",
    "print(data1.keys())"
   ]
  },
  {
   "cell_type": "code",
   "execution_count": 6,
   "metadata": {},
   "outputs": [
    {
     "name": "stdout",
     "output_type": "stream",
     "text": [
      "dict_keys(['__header__', '__version__', '__globals__', 'COP', 'COP_n', 'Number_index', 'Number_index_n', 'ROME', 'ROME_n', 'SCAI', 'SCAI_n'])\n"
     ]
    }
   ],
   "source": [
    "# check variables (aggregation_index)\n",
    "fileName = inst[0] + '_' + var[1] + '_' + scenario[0] \n",
    "#print(fileName)\n",
    "\n",
    "file_path = os.path.abspath(os.path.join(data_path, percentile[0], var_file[1], fileName))\n",
    "#print(file_path)\n",
    "\n",
    "data2 = loadmat(file_path)\n",
    "print(data2.keys())"
   ]
  },
  {
   "cell_type": "code",
   "execution_count": 7,
   "metadata": {},
   "outputs": [
    {
     "name": "stdout",
     "output_type": "stream",
     "text": [
      "dict_keys(['__header__', '__version__', '__globals__', 'M_area', 'Mean_tas_image', 'Mean_trop_tas', 'lat', 'lon', 'month_snapshot', 'snapshot_trop_tas_image'])\n"
     ]
    }
   ],
   "source": [
    "# check variables (tas)\n",
    "fileName = inst[0]+ '_' + var_file[0] + '_' +var[2] + '_' + scenario[0] \n",
    "#print(fileName)\n",
    "\n",
    "file_path = os.path.abspath(os.path.join(data_path, percentile[0], var_file[2], fileName))\n",
    "#print(file_path)\n",
    "\n",
    "data3 = loadmat(file_path)\n",
    "print(data3.keys())"
   ]
  },
  {
   "cell_type": "code",
   "execution_count": 8,
   "metadata": {},
   "outputs": [],
   "source": [
    "# creating lists of precipitation extremes, aggregation level, and temperature for each model\n",
    "\n",
    "y= np.zeros(len(insts))\n",
    "x= np.zeros(len(insts))\n",
    "T= np.zeros(len(insts))\n",
    "\n",
    "for i in np.arange(0,len(insts),1):\n",
    "    # precipitaiton extremes\n",
    "    fileName = insts[i] + '_' + var_file[0] + '_' + var[0] + '_' + scenario[0] \n",
    "    file_path = os.path.abspath(os.path.join(data_path, percentile[0], var_file[0], fileName))\n",
    "    data = loadmat(file_path)\n",
    "    y[i]= np.squeeze(data['Rx1day_pr'])\n",
    "\n",
    "    # aggregation\n",
    "    fileName = insts[i] + '_' + var[1] + '_' + scenario[0] \n",
    "    file_path = os.path.abspath(os.path.join(data_path, percentile[0], var_file[1], fileName))\n",
    "    data = loadmat(file_path)\n",
    "    x[i]= np.mean(np.squeeze(data['ROME']))\n",
    "\n",
    "    # temperature\n",
    "    fileName = insts[i]+ '_' + var_file[0] + '_' +var[2] + '_' + scenario[0] \n",
    "    file_path = os.path.abspath(os.path.join(data_path, percentile[0], var_file[2], fileName))\n",
    "    data = loadmat(file_path)\n",
    "    T[i]= np.squeeze(data['Mean_trop_tas'])"
   ]
  },
  {
   "cell_type": "code",
   "execution_count": 107,
   "metadata": {},
   "outputs": [
    {
     "data": {
      "image/png": "[encoded data removed]",
      "text/plain": [
       "<Figure size 288x432 with 1 Axes>"
      ]
     },
     "metadata": {
      "needs_background": "light"
     },
     "output_type": "display_data"
    }
   ],
   "source": [
    "# plot distribution (climatology)\n",
    "from matplotlib import cm\n",
    "\n",
    "plt.figure(figsize=(4,6))\n",
    "plt.xlim(0,1)\n",
    "\n",
    "plt.boxplot(y,vert=True, positions= [0.3], patch_artist=True, medianprops = dict(color=\"b\",linewidth=1),boxprops = dict(color=\"b\",facecolor='w',zorder=0)\n",
    "            ,sym='+',flierprops = dict(color=\"r\"))\n",
    "\n",
    "\n",
    "x = np.linspace(0.3-0.025, 0.3+0.025, len(y))\n",
    "plt.scatter(x, y, c='k', alpha=0.4)\n",
    "#plt.scatter(np.ones(len(y)), y)\n",
    "\n",
    "\n",
    "x_leg = [insts.index('IPSL'),insts.index('LASG-CESS'),insts.index('BCC')]\n",
    "label = ['IPSL','LASG-CESS','BCC']\n",
    "colors = ['r','darkred','b']\n",
    "j=0\n",
    "for i in x_leg:\n",
    "    plt.scatter(x[i],y[i],c=colors[j], label=label[j])\n",
    "    j+=1\n",
    "\n",
    "\n",
    "plt.xticks([])\n",
    "plt.title('Rx1day')\n",
    "plt.ylabel('pr (mm/day)')\n",
    "plt.legend(bbox_to_anchor=(0.6,0.5,0.4,0.4))\n",
    "\n",
    "sns.despine(top=True, right=True, left=False, bottom=True)"
   ]
  }
 ],
 "metadata": {
  "kernelspec": {
   "display_name": "Python 3 (ipykernel)",
   "language": "python",
   "name": "python3"
  },
  "language_info": {
   "codemirror_mode": {
    "name": "ipython",
    "version": 3
   },
   "file_extension": ".py",
   "mimetype": "text/x-python",
   "name": "python",
   "nbconvert_exporter": "python",
   "pygments_lexer": "ipython3",
   "version": "3.9.12 (main, Apr  5 2022, 01:53:17) \n[Clang 12.0.0 ]"
  },
  "vscode": {
   "interpreter": {
    "hash": "40d3a090f54c6569ab1632332b64b2c03c39dcf918b08424e98f38b5ae0af88f"
   }
  }
 },
 "nbformat": 4,
 "nbformat_minor": 4
}
