{
 "cells": [
  {
   "cell_type": "code",
   "execution_count": null,
   "metadata": {},
   "outputs": [],
   "source": [
    "# plotting anomalies"
   ]
  },
  {
   "cell_type": "code",
   "execution_count": null,
   "metadata": {},
   "outputs": [],
   "source": [
    "# # to subtract the surrouding year to the monthly values (anomaly),  \n",
    "# a = np.arange(1,37,1)\n",
    "# time_var = pd.date_range(\"1970-01-16\",periods=36,freq=pd.DateOffset(months=1))\n",
    "# da = xr.DataArray(\n",
    "#     data=a, \n",
    "#     dims=['time'], \n",
    "#     coords={'time':time_var})\n",
    "# print(da)\n",
    "\n",
    "# rolling_mean = da.rolling(time=12, center=True).mean()\n",
    "# print(rolling_mean)\n",
    "# # rolling_mean_shifted = rolling_mean.shift(time=-1)\n",
    "# # print(rolling_mean_shifted)\n",
    "# anomalies = da - rolling_mean\n",
    "# print(anomalies)"
   ]
  },
  {
   "cell_type": "code",
   "execution_count": null,
   "metadata": {},
   "outputs": [],
   "source": [
    "# 12-month running mean anomaly\n",
    "aWeights = np.cos(np.deg2rad(hur.lat))\n",
    "y= hur.weighted(aWeights).mean(dim=('lat','lon')) \n",
    "\n",
    "aWeights = np.cos(np.deg2rad(hur.lat))\n",
    "y= hur.weighted(aWeights).mean(dim=('lat','lon')) \n",
    "rolling_mean = y.rolling(time=12, center=True).mean()\n",
    "anomalies_annual = y - rolling_mean\n",
    "anomalies_annual = anomalies_annual.dropna(dim='time')\n",
    "\n",
    "title = '12-month running mean anomaly from {}, model:{}, experiment:{}'.format('vertical mean hur', datasets[0], experiments[0])\n",
    "xlabel = '{} anomaly [{} - {}]'.format(timeMean_options[0], str(hur.isel(time=6).coords['time'].values)[:10], str(hur.isel(time=-6).coords['time'].values)[:10])\n",
    "ylabel = '{} [{}]'.format('Relative humidity', hur.units)\n",
    "\n",
    "plot_timeseries(anomalies_annual, title=title, timeMean_option=timeMean_options)\n",
    "plt.xlabel(xlabel)\n",
    "plt.ylabel(ylabel)"
   ]
  },
  {
   "cell_type": "code",
   "execution_count": null,
   "metadata": {},
   "outputs": [],
   "source": [
    "# monthly anomaly\n",
    "a = hur.weighted(aWeights).mean(dim=('lat','lon'))\n",
    "climatology = a.groupby('time.month').mean('time')\n",
    "anomalies_monthly = a.groupby('time.month') - climatology \n",
    "#month_length = a.time.dt.days_in_month\n",
    "#* month_length / month_length.mean()\n",
    "\n",
    "title = 'deseasonalized anomaly from {}, model:{}, experiment:{}'.format('vertical mean hur', datasets[0], experiments[0])\n",
    "xlabel = '{} anomaly [{} - {}]'.format(timeMean_options[0], str(hur.isel(time=6).coords['time'].values)[:10], str(hur.isel(time=-6).coords['time'].values)[:10])\n",
    "ylabel = '{} [{}]'.format('Relative humidity', hur.units)\n",
    "\n",
    "plot_timeseries(anomalies_monthly, title=title)\n",
    "plt.xlabel(xlabel)\n",
    "plt.ylabel(ylabel)"
   ]
  },
  {
   "cell_type": "code",
   "execution_count": null,
   "metadata": {},
   "outputs": [],
   "source": []
  },
  {
   "cell_type": "code",
   "execution_count": null,
   "metadata": {},
   "outputs": [],
   "source": []
  }
 ],
 "metadata": {
  "language_info": {
   "name": "python"
  },
  "orig_nbformat": 4
 },
 "nbformat": 4,
 "nbformat_minor": 2
}
