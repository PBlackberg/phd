{
 "cells": [
  {
   "attachments": {},
   "cell_type": "markdown",
   "metadata": {},
   "source": [
    "# Testing calculation from functions"
   ]
  },
  {
   "cell_type": "code",
   "execution_count": 1,
   "metadata": {},
   "outputs": [
    {
     "ename": "ModuleNotFoundError",
     "evalue": "No module named 'xarray'",
     "output_type": "error",
     "traceback": [
      "\u001b[0;31m---------------------------------------------------------------------------\u001b[0m",
      "\u001b[0;31mModuleNotFoundError\u001b[0m                       Traceback (most recent call last)",
      "\u001b[0;32m<ipython-input-1-8791e8daab9f>\u001b[0m in \u001b[0;36m<module>\u001b[0;34m\u001b[0m\n\u001b[0;32m----> 1\u001b[0;31m \u001b[0;32mimport\u001b[0m \u001b[0mxarray\u001b[0m \u001b[0;32mas\u001b[0m \u001b[0mxr\u001b[0m\u001b[0;34m\u001b[0m\u001b[0;34m\u001b[0m\u001b[0m\n\u001b[0m\u001b[1;32m      2\u001b[0m \u001b[0;32mimport\u001b[0m \u001b[0mnumpy\u001b[0m \u001b[0;32mas\u001b[0m \u001b[0mnp\u001b[0m\u001b[0;34m\u001b[0m\u001b[0;34m\u001b[0m\u001b[0m\n\u001b[1;32m      3\u001b[0m \u001b[0;32mimport\u001b[0m \u001b[0mskimage\u001b[0m\u001b[0;34m.\u001b[0m\u001b[0mmeasure\u001b[0m \u001b[0;32mas\u001b[0m \u001b[0mskm\u001b[0m\u001b[0;34m\u001b[0m\u001b[0;34m\u001b[0m\u001b[0m\n\u001b[1;32m      4\u001b[0m \u001b[0;32mimport\u001b[0m \u001b[0mpandas\u001b[0m \u001b[0;32mas\u001b[0m \u001b[0mpd\u001b[0m\u001b[0;34m\u001b[0m\u001b[0;34m\u001b[0m\u001b[0m\n\u001b[1;32m      5\u001b[0m \u001b[0;34m\u001b[0m\u001b[0m\n",
      "\u001b[0;31mModuleNotFoundError\u001b[0m: No module named 'xarray'"
     ]
    }
   ],
   "source": [
    "import xarray as xr\n",
    "import numpy as np\n",
    "import skimage.measure as skm\n",
    "import pandas as pd\n",
    "\n",
    "import matplotlib.pyplot as plt\n",
    "import cartopy.crs as ccrs\n",
    "import cartopy.feature as cfeat\n",
    "\n",
    "from os.path import expanduser\n",
    "home = expanduser(\"~\")\n",
    "\n",
    "import timeit\n",
    "\n",
    "from funcs.prFuncs import *\n",
    "from funcs.tasFuncs import *\n",
    "from funcs.aggFuncs import *\n",
    "from funcs.husFuncs import *\n",
    "\n",
    "from funcs.vars.prVars import *\n",
    "from funcs.vars.tasVars import *\n",
    "from funcs.vars.husVars import *\n",
    "from funcs.vars.myFuncs import *"
   ]
  },
  {
   "cell_type": "code",
   "execution_count": null,
   "metadata": {},
   "outputs": [],
   "source": [
    "models = [\n",
    "    # 'IPSL-CM5A-MR', # 1\n",
    "    'GFDL-CM3',     \n",
    "    # 'GISS-E2-H',    # 3\n",
    "    # 'bcc-csm1-1',   # 4\n",
    "    # 'CNRM-CM5',     # 5\n",
    "    # 'CCSM4',        # 6 # cannot concatanate files for rcp85 run\n",
    "    # 'HadGEM2-AO',   # 7\n",
    "    # 'BNU-ESM',      # 8\n",
    "    # 'EC-EARTH',     # 9\n",
    "    # 'FGOALS-g2',    # 10\n",
    "    # 'MPI-ESM-MR',   # 11\n",
    "    # 'CMCC-CM',      # 12\n",
    "    # 'inmcm4',       # 13\n",
    "    # 'NorESM1-M',    # 14\n",
    "    # 'CanESM2',      # 15\n",
    "    # 'MIROC5',       # 16\n",
    "    # 'HadGEM2-CC',   # 17\n",
    "    # 'MRI-CGCM3',    # 18\n",
    "    # 'CESM1-BGC'     # 19\n",
    "    ]\n",
    "model = models[0]\n",
    "\n",
    "\n",
    "experiments = [\n",
    "    'historical',\n",
    "    # 'rcp85'\n",
    "    ]\n",
    "experiment = experiments[0]       "
   ]
  },
  {
   "attachments": {},
   "cell_type": "markdown",
   "metadata": {},
   "source": [
    "## Precipitation extremes"
   ]
  },
  {
   "cell_type": "code",
   "execution_count": null,
   "metadata": {},
   "outputs": [],
   "source": [
    "if switch['local_files']:\n",
    "    folder = home + '/Documents/data/cmip5/' + 'ds'\n",
    "    fileName = model + '_precip_' + experiment + '.nc'\n",
    "    path = folder + '/' + fileName\n",
    "    ds = xr.open_dataset(path)\n",
    "    precip = ds.precip*60*60*24\n",
    "    precip.attrs['units']= 'mm/day'\n",
    "\n",
    "if switch['nci_files']:\n",
    "    precip = get_pr(model, experiment).precip\n",
    "\n",
    "\n",
    "aWeights = np.cos(precip.lat)"
   ]
  },
  {
   "cell_type": "code",
   "execution_count": null,
   "metadata": {},
   "outputs": [],
   "source": [
    "start = timeit.default_timer()\n",
    "pr_percentiles = calc_pr_percentiles(precip)\n",
    "stop = timeit.default_timer()\n",
    "\n",
    "print(pr_percentiles)\n",
    "print('it takes {} seconds to calculate extreme percentiles for model: {}'.format((stop-start), model))"
   ]
  },
  {
   "cell_type": "code",
   "execution_count": null,
   "metadata": {},
   "outputs": [],
   "source": [
    "percentile_options = [\n",
    "    # 'pr95',\n",
    "    # 'pr97',\n",
    "    'pr99',\n",
    "    # 'pr999',\n",
    "    ]\n",
    "percentile_option = percentile_options[0]"
   ]
  },
  {
   "cell_type": "code",
   "execution_count": null,
   "metadata": {},
   "outputs": [],
   "source": [
    "plt.figure(figsize= (25,5))\n",
    "plt.plot(pr_percentiles[percentile_option])\n",
    "plt.title('high percentile precipitation rate ({}th) daily'.format(percentile_option) + ', model: ' + model + ', ' + experiment)\n",
    "plt.ylabel('precipitation rate [mm/day]')\n",
    "plt.xlabel('day')\n",
    "plt.axhline(y=pr_percentiles[percentile_option].mean(dim='time'), color='k')"
   ]
  },
  {
   "cell_type": "code",
   "execution_count": null,
   "metadata": {},
   "outputs": [],
   "source": [
    "start = timeit.default_timer()\n",
    "rxday = calc_rxday(precip)\n",
    "stop = timeit.default_timer()\n",
    "\n",
    "print(rxday)\n",
    "print('it takes {} seconds to calculate rx1day and rx5day for model: {}'.format((stop-start)/60, model))"
   ]
  },
  {
   "cell_type": "code",
   "execution_count": null,
   "metadata": {},
   "outputs": [],
   "source": [
    "rxday_options = [\n",
    "    'rx1day',\n",
    "    # 'rx5day'\n",
    "    ]\n",
    "rxday_option = rxday_options[0]"
   ]
  },
  {
   "cell_type": "code",
   "execution_count": null,
   "metadata": {},
   "outputs": [],
   "source": [
    "plot_snapshot(rxday[rxday_option].mean(dim='time'), 'Blues', rxday_option, model)"
   ]
  },
  {
   "cell_type": "code",
   "execution_count": null,
   "metadata": {},
   "outputs": [],
   "source": [
    "plt.figure(figsize= (25,5))\n",
    "plt.plot(rxday[rxday_option].weighted(aWeights).mean(dim=('lat','lon')))\n",
    "plt.title(rxday_option + ' (annual), model: ' + model + ', ' + experiment)\n",
    "plt.ylabel('precipitation rate [mm/day]')\n",
    "plt.xlabel('years')\n",
    "plt.axhline(y=rxday[rxday_option].weighted(aWeights).mean(dim=('time','lat','lon')), color='k')"
   ]
  },
  {
   "attachments": {},
   "cell_type": "markdown",
   "metadata": {},
   "source": [
    "## Organization metrics"
   ]
  },
  {
   "cell_type": "code",
   "execution_count": null,
   "metadata": {},
   "outputs": [],
   "source": [
    "conv_threshold = pr_percentiles[percentile_option].mean(dim=('time'))"
   ]
  },
  {
   "cell_type": "code",
   "execution_count": null,
   "metadata": {},
   "outputs": [],
   "source": [
    "start = timeit.default_timer()\n",
    "numberIndex = calc_numberIndex(precip, conv_threshold)\n",
    "stop = timeit.default_timer()\n",
    "\n",
    "print(numberIndex)\n",
    "print('it takes {} seconds to calculate the number index for model: {}'.format((stop-start), model))"
   ]
  },
  {
   "cell_type": "code",
   "execution_count": null,
   "metadata": {},
   "outputs": [],
   "source": [
    "numberIndex_options = [\n",
    "    'o_number',\n",
    "    # 'areaf'\n",
    "    ]\n",
    "numberIndex_option = numberIndex_options[0]"
   ]
  },
  {
   "cell_type": "code",
   "execution_count": null,
   "metadata": {},
   "outputs": [],
   "source": [
    "plt.figure(figsize= (25,5))\n",
    "plt.plot(numberIndex[numberIndex_option])\n",
    "plt.title(numberIndex_option + ' (daily), model: ' + model + ', ' + experiment)\n",
    "plt.ylabel(numberIndex_option)\n",
    "plt.xlabel('days')\n",
    "plt.axhline(y=numberIndex[numberIndex_option].mean(dim='time'), color='k')"
   ]
  },
  {
   "cell_type": "code",
   "execution_count": null,
   "metadata": {},
   "outputs": [],
   "source": [
    "start = timeit.default_timer()\n",
    "rome = calc_rome(precip, conv_threshold)\n",
    "stop = timeit.default_timer()\n",
    "\n",
    "print('it takes {} minutes to calculate rome for model: {}'.format((stop-start)/60, model))"
   ]
  },
  {
   "cell_type": "code",
   "execution_count": null,
   "metadata": {},
   "outputs": [],
   "source": [
    "start = timeit.default_timer()\n",
    "n=8\n",
    "rome_n = calc_rome_n(n, precip, conv_threshold)\n",
    "stop = timeit.default_timer()\n",
    "\n",
    "print('it takes {} minutes to calculate rome based of {} largest objects for model: {}'.format((stop-start)/60, n, model))"
   ]
  },
  {
   "cell_type": "code",
   "execution_count": null,
   "metadata": {},
   "outputs": [],
   "source": [
    "dataset = xr.Dataset(\n",
    "    data_vars = {'rome':rome, \n",
    "                'rome_n':rome_n},\n",
    "    attrs = {'description': 'ROME based on all and the {} largest contiguous convective regions in the scene for each day'.format(n),\n",
    "                'units':'km^2'}                  \n",
    "        )\n",
    "print(dataset)"
   ]
  },
  {
   "cell_type": "code",
   "execution_count": null,
   "metadata": {},
   "outputs": [],
   "source": [
    "rome_options = [\n",
    "    'rome',\n",
    "    # 'rome_n'\n",
    "    ]\n",
    "rome_option = rome_options[0]"
   ]
  },
  {
   "cell_type": "code",
   "execution_count": null,
   "metadata": {},
   "outputs": [],
   "source": [
    "plt.figure(figsize= (25,5))\n",
    "plt.plot(dataset[rome_option])\n",
    "plt.title(rome_option + ' (daily), model: ' + model + ', ' + experiment)\n",
    "plt.ylabel(rome_option)\n",
    "plt.xlabel('days')\n",
    "plt.axhline(y=dataset[rome_option].mean(dim='time'), color='k')"
   ]
  },
  {
   "cell_type": "code",
   "execution_count": null,
   "metadata": {},
   "outputs": [],
   "source": [
    "start = timeit.default_timer()\n",
    "pwad = calc_pwad(precip, conv_threshold)\n",
    "stop = timeit.default_timer()\n",
    "\n",
    "print(pwad)\n",
    "print('it takes {} seconds to calculate components of pwad for model: {}'.format((stop-start), model))"
   ]
  },
  {
   "cell_type": "code",
   "execution_count": null,
   "metadata": {},
   "outputs": [],
   "source": [
    "plt.figure(figsize = (15,5))\n",
    "plt.plot(pwad.bins_mid,pwad.pwad)\n",
    "plt.title('Precipitation Weighted Area Distribution')"
   ]
  },
  {
   "attachments": {},
   "cell_type": "markdown",
   "metadata": {},
   "source": [
    "## Surface temperature"
   ]
  },
  {
   "cell_type": "code",
   "execution_count": null,
   "metadata": {},
   "outputs": [],
   "source": [
    "if switch['local_files']:\n",
    "    folder = home + '/Documents/data/cmip5/' + 'ds'\n",
    "    fileName = model + '_tas_' + experiment + '.nc'\n",
    "    path = folder + '/' + fileName\n",
    "    ds = xr.open_dataset(path)\n",
    "    tas = ds.tas\n",
    "\n",
    "if switch['nci_files']:\n",
    "    tas = get_tas(model, experiment)"
   ]
  },
  {
   "cell_type": "code",
   "execution_count": null,
   "metadata": {},
   "outputs": [],
   "source": [
    "start = timeit.default_timer()\n",
    "tas_tMean = calc_tas_tMean(tas)\n",
    "stop = timeit.default_timer()\n",
    "\n",
    "print(tas_tMean)\n",
    "print('it takes {} seconds to calculate tas_tMean for model: {}'.format((stop-start), model))"
   ]
  },
  {
   "cell_type": "code",
   "execution_count": null,
   "metadata": {},
   "outputs": [],
   "source": [
    "plot_snapshot(tas_tMean['tas_tMean'], 'coolwarm', 'surface temperature', model)"
   ]
  },
  {
   "cell_type": "code",
   "execution_count": null,
   "metadata": {},
   "outputs": [],
   "source": [
    "start = timeit.default_timer()\n",
    "tas_sMean = calc_tas_sMean(tas)\n",
    "stop = timeit.default_timer()\n",
    "\n",
    "print(tas_sMean)\n",
    "print('it takes {} seconds to calculate tas_sMean for model: {}'.format((stop-start), model))"
   ]
  },
  {
   "cell_type": "code",
   "execution_count": null,
   "metadata": {},
   "outputs": [],
   "source": [
    "plt.figure(figsize= (25,5))\n",
    "plt.plot(tas_sMean)\n",
    "plt.title('spatial mean surface temperature (monthly), model: ' + model + ', ' + experiment)\n",
    "plt.ylabel('surface temperature [deg C]')\n",
    "plt.xlabel('months')\n",
    "plt.axhline(y=tas_sMean.mean(dim='time'), color='k')"
   ]
  },
  {
   "attachments": {},
   "cell_type": "markdown",
   "metadata": {},
   "source": [
    "## Specific humidity"
   ]
  },
  {
   "cell_type": "code",
   "execution_count": null,
   "metadata": {},
   "outputs": [],
   "source": [
    "start = timeit.default_timer()\n",
    "tas_tMean = calc_hus_tMean(hus)\n",
    "stop = timeit.default_timer()\n",
    "\n",
    "print(hus_tMean)\n",
    "print('it takes {} seconds to calculate hus_tMean for model: {}'.format((stop-start), model))"
   ]
  },
  {
   "cell_type": "code",
   "execution_count": null,
   "metadata": {},
   "outputs": [],
   "source": [
    "plot_snapshot(hus_tMean['tas_tMean'].sel(plev = 1000e2), 'coolwarm', 'surface temperature', model)"
   ]
  },
  {
   "cell_type": "code",
   "execution_count": null,
   "metadata": {},
   "outputs": [],
   "source": [
    "start = timeit.default_timer()\n",
    "tas_sMean = calc_hus_sMean(hus)\n",
    "stop = timeit.default_timer()\n",
    "\n",
    "print(hus_sMean)\n",
    "print('it takes {} seconds to calculate hus_sMean for model: {}'.format((stop-start), model))"
   ]
  }
 ],
 "metadata": {
  "kernelspec": {
   "display_name": "Python 3",
   "language": "python",
   "name": "python3"
  },
  "language_info": {
   "codemirror_mode": {
    "name": "ipython",
    "version": 3
   },
   "file_extension": ".py",
   "mimetype": "text/x-python",
   "name": "python",
   "nbconvert_exporter": "python",
   "pygments_lexer": "ipython3",
   "version": "3.6.8"
  },
  "orig_nbformat": 4,
  "vscode": {
   "interpreter": {
    "hash": "916dbcbb3f70747c44a77c7bcd40155683ae19c65e1c03b4aa3499c5328201f1"
   }
  }
 },
 "nbformat": 4,
 "nbformat_minor": 2
}
