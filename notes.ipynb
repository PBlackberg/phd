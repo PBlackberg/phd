{
 "cells": [
  {
   "cell_type": "code",
   "execution_count": 2,
   "metadata": {},
   "outputs": [],
   "source": [
    "import numpy as np"
   ]
  },
  {
   "cell_type": "code",
   "execution_count": null,
   "metadata": {},
   "outputs": [],
   "source": [
    "# cell with example of one model, and obs\n",
    "# create a function to resample the data. Then apply function to the desired variable\n",
    "timeMean_options = [\n",
    "    # 'annual'\n",
    "    # 'month'\n",
    "    # 'season'\n",
    "    # 'season_mean'\n",
    "    'month_mean'\n",
    "    # 'day'\n",
    "    ]\n",
    "timeMean_option = timeMean_options[0]\n",
    "\n",
    "var = tas_sMean\n",
    "variable_name = variables[1]\n",
    "\n",
    "plot_model= True\n",
    "if plot_model:\n",
    "    plt.figure(figsize=(25,5))\n",
    "    \n",
    "    title = variable_name + ', '+ timeMean_option + ', ' + model + ', ' + experiment\n",
    "\n",
    "    if timeMean_option == 'year':\n",
    "        y = var.resample(time='Y').mean(dim='time', keep_attrs=True)\n",
    "\n",
    "        plot_timeseries(y, variable_name, timeMean_option, title)\n",
    "\n",
    "    if timeMean_option == 'month':\n",
    "        y = var.resample(time='M').mean(dim='time', keep_attrs=True)\n",
    "\n",
    "        plot_timeseries(y, variable_name, timeMean_option, title)\n",
    "\n",
    "    if timeMean_option == 'day':\n",
    "        y = var\n",
    "\n",
    "        plot_timeseries(y, variable_name, timeMean_option, title)\n",
    "    \n",
    "    if timeMean_option == 'season':\n",
    "        y = var.resample(time='QS-DEC').mean(dim=\"time\")\n",
    "        y = to_monthly(y)\n",
    "        y = y.rename({'month':'season'})\n",
    "        y = y.assign_coords(season = [\"MAM\", \"JJA\", \"SON\", \"DJF\"])\n",
    "\n",
    "        y.plot(x='year', hue='season', figsize=(25,5))\n",
    "        plt.title(title)\n",
    "\n",
    "    if timeMean_option == 'season_mean':\n",
    "        y = var.resample(time='QS-DEC').mean(dim=\"time\")\n",
    "        y = to_monthly(y)\n",
    "        y = y.rename({'month':'season'})\n",
    "        y = y.assign_coords(season = [\"MAM\", \"JJA\", \"SON\", \"DJF\"])\n",
    "\n",
    "        plt.figure(figsize=(10,2.5))\n",
    "        ax = plt.gca()\n",
    "        (y.mean(dim='year') - y.mean(dim='year').mean(dim='season')).to_series().plot.bar(ax=ax)\n",
    "        plt.axhline(y=0, color='k', linestyle='--')\n",
    "\n",
    "        ax.set_xticklabels(y.season.values, rotation=30, ha='right')\n",
    "        plt.title(title  + ', anomaly from annual mean')\n",
    "\n",
    "\n",
    "    if timeMean_option == 'month_mean':\n",
    "        y = to_monthly(var)\n",
    "        y = y.assign_coords(month = ['jan', 'feb', 'mar', 'apr', 'may', 'jun', 'jul','aug', 'sep', 'oct', 'nov', 'dec'])\n",
    "        y.mean(dim='year').plot(figsize = (10,2.5))\n",
    "        plt.title(title)\n",
    "\n",
    "\n",
    "\n",
    "plot_obs = False\n",
    "if plot_obs:\n",
    "    var_obs = ''\n",
    "    title = variable_name + ', '+ timeMean_option + ', ' + obs + ', ' + experiment\n",
    "\n",
    "    if timeMean_option == 'year':\n",
    "        y = var_obs.resample(time='Y').mean(dim='time', keep_attrs=True)\n",
    "\n",
    "        plot_timeseries(y)\n",
    "\n",
    "    if timeMean_option == 'month':\n",
    "        y = var_obs.resample(time='M').mean(dim='time', keep_attrs=True)\n",
    "\n",
    "        plot_timeseries(y, variable_name, timeMean_option, title)\n",
    "\n",
    "    if timeMean_option == 'day':\n",
    "        y = var_obs\n",
    "\n",
    "        plot_timeseries(y, variable_name, timeMean_option, title)\n",
    "    \n",
    "    if timeMean_option == 'season':\n",
    "        y = var_obs.resample(time='QS-DEC').mean(dim=\"time\")\n",
    "        y = to_monthly(y)\n",
    "        y = y.rename({'month':'season'})\n",
    "        y = y.assign_coords(season = [\"MAM\", \"JJA\", \"SON\", \"DJF\"])\n",
    "\n",
    "        y.plot(x='year', hue='season', figsize=(25,5))\n",
    "        plt.title(title)\n",
    "\n",
    "    if timeMean_option == 'season_mean':\n",
    "        y = var_obs.resample(time='QS-DEC').mean(dim=\"time\")\n",
    "        y = to_monthly(y)\n",
    "        y = y.rename({'month':'season'})\n",
    "        y = y.assign_coords(season = [\"MAM\", \"JJA\", \"SON\", \"DJF\"])\n",
    "\n",
    "        plt.figure(figsize=(10,2.5))\n",
    "        ax = plt.gca()\n",
    "        (y.mean(dim='year') - y.mean(dim='year').mean(dim='season')).to_series().plot.bar(ax=ax)\n",
    "        plt.axhline(y=0, color='k',linestyle='--')\n",
    "\n",
    "        plt.title(obs + ', anomaly from annual mean')\n",
    "        ax.set_xticklabels(y.season.values, rotation=30, ha='right')\n",
    "\n",
    "\n",
    "    if timeMean_option == 'month_mean':\n",
    "        y = to_monthly(var_obs)\n",
    "        y = y.assign_coords(month = ['jan', 'feb', 'mar', 'apr', 'may', 'jun', 'jul','aug', 'sep', 'oct', 'nov', 'dec'])\n",
    "        y.mean(dim='year').plot(figsize = (10,2.5))\n",
    "        plt.title(title)\n"
   ]
  },
  {
   "cell_type": "code",
   "execution_count": null,
   "metadata": {},
   "outputs": [],
   "source": [
    "# x- and y-labels\n",
    "+ ' ['+y.units+']'"
   ]
  },
  {
   "cell_type": "code",
   "execution_count": null,
   "metadata": {},
   "outputs": [],
   "source": [
    "# set figsize externally\n",
    "fig.set_size_inches(figsize[0], figsize[1])"
   ]
  },
  {
   "cell_type": "code",
   "execution_count": null,
   "metadata": {},
   "outputs": [],
   "source": [
    "# variable number of rows based on nnumber of datasets to plot\n",
    "fig= plt.figure(figsize=(22,12))\n",
    "n_models = len(models)\n",
    "n_cols = 4\n",
    "n_rows = (n_models + n_cols - 1) // n_cols\n",
    "ax= fig.add_subplot(n_rows, n_cols, i + 1, projection=cartopy.crs.PlateCarree(central_longitude=180))\n",
    "\n",
    "# how to change figure size corresponding to how many rows are included?"
   ]
  },
  {
   "cell_type": "code",
   "execution_count": null,
   "metadata": {},
   "outputs": [],
   "source": [
    "# print date in title\n",
    "plt.title(\"Time = \" + str(tas.coords['time'].values[i])[:13])\n"
   ]
  },
  {
   "cell_type": "code",
   "execution_count": null,
   "metadata": {},
   "outputs": [],
   "source": [
    "# timing\n",
    "print(model, 'started') \n",
    "start = timeit.default_timer()\n",
    "stop = timeit.default_timer()\n",
    "print('model: {} took {} minutes to finsih'.format(model, (stop-start)/60))"
   ]
  },
  {
   "cell_type": "code",
   "execution_count": null,
   "metadata": {},
   "outputs": [],
   "source": [
    "# rename dimensions\n",
    "precip = precip.rename({'latitude': 'lat', 'longitude': 'lon'})"
   ]
  },
  {
   "cell_type": "code",
   "execution_count": 22,
   "metadata": {},
   "outputs": [],
   "source": [
    "# copy array in new dimension\n",
    "a = np.ones(shape = (3,4))\n",
    "b = np.repeat(a[np.newaxis,...], 3, axis=0)"
   ]
  },
  {
   "cell_type": "code",
   "execution_count": null,
   "metadata": {},
   "outputs": [],
   "source": [
    "# broadcasting\n",
    "a = np.ones(shape=(2,3,4))\n",
    "b = np.array([1,2])\n",
    "c = a*b[...,None, None]\n",
    "c = a*b[:,np.newaxis, np.newaxis]\n",
    "a*np.expand_dims(b,axis=(1,2))"
   ]
  },
  {
   "cell_type": "code",
   "execution_count": null,
   "metadata": {},
   "outputs": [],
   "source": [
    "# define xarray data array and data set\n",
    "pr999 = precip.quantile(0.999,dim=('lat','lon'),keep_attrs=True)\n",
    "pr999 = xr.DataArray(\n",
    "    data = pr999.data,\n",
    "    dims = ['time'],\n",
    "    coords = {'time': precip.time.data},\n",
    "    attrs = {'units':'mm/day'}\n",
    "    )\n",
    "    \n",
    "\n",
    "pr_percentiles = xr.Dataset(\n",
    "    data_vars = {'pr95': pr95, \n",
    "                    'pr97': pr97, \n",
    "                    'pr99': pr99, \n",
    "                    'pr999': pr999}\n",
    "    ) "
   ]
  },
  {
   "cell_type": "code",
   "execution_count": null,
   "metadata": {},
   "outputs": [],
   "source": [
    "# creating a seasonal plot\n",
    "season = pr_percentile.resample(time='QS-DEC').mean(dim=\"time\")\n",
    "season = to_monthly(season)\n",
    "# 3 - MAM\n",
    "# 6 - JJA\n",
    "# 9 - SON\n",
    "# 12 - DJF\n",
    "season = season.rename({'month':'season'})\n",
    "season = season.assign_coords(season = [\"MAM\", \"JJA\", \"SON\", \"DJF\"])\n",
    "season.plot(x='year', hue='season', figsize=(25,5))\n",
    "plt.title(percentile_option + ', model: ' + model + ', ' + experiment)"
   ]
  },
  {
   "cell_type": "code",
   "execution_count": 1,
   "metadata": {},
   "outputs": [
    {
     "name": "stdout",
     "output_type": "stream",
     "text": [
      "precipitation [mm day⁻¹K °C ⁻¹km²]\n"
     ]
    }
   ],
   "source": [
    "# writing superscripts in string\n",
    "print('precipitation [mm day' + chr(0x207B) + chr(0x00B9) + 'K'  + ' \\u00B0C ' + chr(0x207B) + chr(0x00B9) + 'km\\u00b2]')"
   ]
  },
  {
   "cell_type": "code",
   "execution_count": null,
   "metadata": {},
   "outputs": [],
   "source": [
    "# groupby\n",
    "pr_percentileSeason = pr_percentile.groupby('time.season').mean(dim='time')\n",
    "pr_percentileMonth = pr_percentiles.pr99.resample(time='M').mean(dim='time')\n",
    "mse_monthly = pr_percentile.groupby('time.month').mean(dim ='time').plot()"
   ]
  }
 ],
 "metadata": {
  "kernelspec": {
   "display_name": "Python 3",
   "language": "python",
   "name": "python3"
  },
  "language_info": {
   "codemirror_mode": {
    "name": "ipython",
    "version": 3
   },
   "file_extension": ".py",
   "mimetype": "text/x-python",
   "name": "python",
   "nbconvert_exporter": "python",
   "pygments_lexer": "ipython3",
   "version": "3.9.12"
  },
  "vscode": {
   "interpreter": {
    "hash": "40d3a090f54c6569ab1632332b64b2c03c39dcf918b08424e98f38b5ae0af88f"
   }
  }
 },
 "nbformat": 4,
 "nbformat_minor": 4
}
