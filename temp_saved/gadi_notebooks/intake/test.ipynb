{
 "cells": [
  {
   "cell_type": "code",
   "execution_count": 1,
   "metadata": {},
   "outputs": [],
   "source": [
    "import intake"
   ]
  },
  {
   "cell_type": "code",
   "execution_count": 2,
   "metadata": {},
   "outputs": [],
   "source": [
    "ds_dict = intake.cat.nci['esgf']"
   ]
  },
  {
   "cell_type": "code",
   "execution_count": 3,
   "metadata": {},
   "outputs": [
    {
     "ename": "KeyboardInterrupt",
     "evalue": "",
     "output_type": "error",
     "traceback": [
      "\u001b[0;31m---------------------------------------------------------------------------\u001b[0m",
      "\u001b[0;31mKeyboardInterrupt\u001b[0m                         Traceback (most recent call last)",
      "\u001b[1;32m/home/565/cb4968/Documents/code/phd/test/notebooks/gadi/intake/test.ipynb Cell 3\u001b[0m line \u001b[0;36m1\n\u001b[0;32m----> <a href='vscode-notebook-cell://ssh-remote%2Bgadi/home/565/cb4968/Documents/code/phd/test/notebooks/gadi/intake/test.ipynb#W2sdnNjb2RlLXJlbW90ZQ%3D%3D?line=0'>1</a>\u001b[0m a \u001b[39m=\u001b[39m ds_dict\u001b[39m.\u001b[39;49mcmip6\u001b[39m.\u001b[39msearch() \u001b[39m#variable_id= 'clwvi', experiment_id='historical')\u001b[39;00m\n\u001b[1;32m      <a href='vscode-notebook-cell://ssh-remote%2Bgadi/home/565/cb4968/Documents/code/phd/test/notebooks/gadi/intake/test.ipynb#W2sdnNjb2RlLXJlbW90ZQ%3D%3D?line=1'>2</a>\u001b[0m a\n",
      "File \u001b[0;32m/g/data/hh5/public/apps/miniconda3/envs/analysis3-23.04/lib/python3.9/site-packages/intake/catalog/base.py:402\u001b[0m, in \u001b[0;36mCatalog.__getattr__\u001b[0;34m(self, item)\u001b[0m\n\u001b[1;32m    399\u001b[0m \u001b[39mif\u001b[39;00m \u001b[39mnot\u001b[39;00m item\u001b[39m.\u001b[39mstartswith(\u001b[39m\"\u001b[39m\u001b[39m_\u001b[39m\u001b[39m\"\u001b[39m):\n\u001b[1;32m    400\u001b[0m     \u001b[39m# Fall back to __getitem__.\u001b[39;00m\n\u001b[1;32m    401\u001b[0m     \u001b[39mtry\u001b[39;00m:\n\u001b[0;32m--> 402\u001b[0m         \u001b[39mreturn\u001b[39;00m \u001b[39mself\u001b[39;49m[item]  \u001b[39m# triggers reload_on_change\u001b[39;00m\n\u001b[1;32m    403\u001b[0m     \u001b[39mexcept\u001b[39;00m \u001b[39mKeyError\u001b[39;00m \u001b[39mas\u001b[39;00m e:\n\u001b[1;32m    404\u001b[0m         \u001b[39mraise\u001b[39;00m \u001b[39mAttributeError\u001b[39;00m(item) \u001b[39mfrom\u001b[39;00m \u001b[39me\u001b[39;00m\n",
      "File \u001b[0;32m/g/data/hh5/public/apps/miniconda3/envs/analysis3-23.04/lib/python3.9/site-packages/intake/catalog/base.py:447\u001b[0m, in \u001b[0;36mCatalog.__getitem__\u001b[0;34m(self, key)\u001b[0m\n\u001b[1;32m    438\u001b[0m \u001b[39m\u001b[39m\u001b[39m\"\"\"Return a catalog entry by name.\u001b[39;00m\n\u001b[1;32m    439\u001b[0m \n\u001b[1;32m    440\u001b[0m \u001b[39mCan also use attribute syntax, like ``cat.entry_name``, or\u001b[39;00m\n\u001b[0;32m   (...)\u001b[0m\n\u001b[1;32m    443\u001b[0m \u001b[39mcat['name1', 'name2']\u001b[39;00m\n\u001b[1;32m    444\u001b[0m \u001b[39m\"\"\"\u001b[39;00m\n\u001b[1;32m    445\u001b[0m \u001b[39mif\u001b[39;00m \u001b[39mnot\u001b[39;00m \u001b[39misinstance\u001b[39m(key, \u001b[39mlist\u001b[39m) \u001b[39mand\u001b[39;00m key \u001b[39min\u001b[39;00m \u001b[39mself\u001b[39m:\n\u001b[1;32m    446\u001b[0m     \u001b[39m# triggers reload_on_change\u001b[39;00m\n\u001b[0;32m--> 447\u001b[0m     s \u001b[39m=\u001b[39m \u001b[39mself\u001b[39;49m\u001b[39m.\u001b[39;49m_get_entry(key)\n\u001b[1;32m    448\u001b[0m     \u001b[39mif\u001b[39;00m s\u001b[39m.\u001b[39mcontainer \u001b[39m==\u001b[39m \u001b[39m\"\u001b[39m\u001b[39mcatalog\u001b[39m\u001b[39m\"\u001b[39m:\n\u001b[1;32m    449\u001b[0m         s\u001b[39m.\u001b[39mname \u001b[39m=\u001b[39m key\n",
      "File \u001b[0;32m/g/data/hh5/public/apps/miniconda3/envs/analysis3-23.04/lib/python3.9/site-packages/intake/catalog/utils.py:45\u001b[0m, in \u001b[0;36mreload_on_change.<locals>.wrapper\u001b[0;34m(self, *args, **kwargs)\u001b[0m\n\u001b[1;32m     42\u001b[0m \u001b[39m@functools\u001b[39m\u001b[39m.\u001b[39mwraps(f)\n\u001b[1;32m     43\u001b[0m \u001b[39mdef\u001b[39;00m \u001b[39mwrapper\u001b[39m(\u001b[39mself\u001b[39m, \u001b[39m*\u001b[39margs, \u001b[39m*\u001b[39m\u001b[39m*\u001b[39mkwargs):\n\u001b[1;32m     44\u001b[0m     \u001b[39mself\u001b[39m\u001b[39m.\u001b[39mreload()\n\u001b[0;32m---> 45\u001b[0m     \u001b[39mreturn\u001b[39;00m f(\u001b[39mself\u001b[39;49m, \u001b[39m*\u001b[39;49margs, \u001b[39m*\u001b[39;49m\u001b[39m*\u001b[39;49mkwargs)\n",
      "File \u001b[0;32m/g/data/hh5/public/apps/miniconda3/envs/analysis3-23.04/lib/python3.9/site-packages/intake/catalog/base.py:333\u001b[0m, in \u001b[0;36mCatalog._get_entry\u001b[0;34m(self, name)\u001b[0m\n\u001b[1;32m    331\u001b[0m ups \u001b[39m=\u001b[39m [up \u001b[39mfor\u001b[39;00m name, up \u001b[39min\u001b[39;00m \u001b[39mself\u001b[39m\u001b[39m.\u001b[39muser_parameters\u001b[39m.\u001b[39mitems() \u001b[39mif\u001b[39;00m name \u001b[39mnot\u001b[39;00m \u001b[39min\u001b[39;00m up_names]\n\u001b[1;32m    332\u001b[0m entry\u001b[39m.\u001b[39m_user_parameters \u001b[39m=\u001b[39m ups \u001b[39m+\u001b[39m (entry\u001b[39m.\u001b[39m_user_parameters \u001b[39mor\u001b[39;00m [])\n\u001b[0;32m--> 333\u001b[0m \u001b[39mreturn\u001b[39;00m entry()\n",
      "File \u001b[0;32m/g/data/hh5/public/apps/miniconda3/envs/analysis3-23.04/lib/python3.9/site-packages/intake/catalog/entry.py:80\u001b[0m, in \u001b[0;36mCatalogEntry.__call__\u001b[0;34m(self, persist, **kwargs)\u001b[0m\n\u001b[1;32m     78\u001b[0m persist \u001b[39m=\u001b[39m persist \u001b[39mor\u001b[39;00m \u001b[39mself\u001b[39m\u001b[39m.\u001b[39m_pmode\n\u001b[1;32m     79\u001b[0m s \u001b[39m=\u001b[39m \u001b[39mself\u001b[39m\u001b[39m.\u001b[39mget(\u001b[39m*\u001b[39m\u001b[39m*\u001b[39mkwargs)\n\u001b[0;32m---> 80\u001b[0m \u001b[39mif\u001b[39;00m persist \u001b[39m!=\u001b[39m \u001b[39m\"\u001b[39m\u001b[39mnever\u001b[39m\u001b[39m\"\u001b[39m \u001b[39mand\u001b[39;00m \u001b[39misinstance\u001b[39m(s, PersistMixin) \u001b[39mand\u001b[39;00m s\u001b[39m.\u001b[39;49mhas_been_persisted:\n\u001b[1;32m     81\u001b[0m     \u001b[39mfrom\u001b[39;00m \u001b[39m.\u001b[39;00m\u001b[39m.\u001b[39;00m\u001b[39mcontainer\u001b[39;00m\u001b[39m.\u001b[39;00m\u001b[39mpersist\u001b[39;00m \u001b[39mimport\u001b[39;00m store\n\u001b[1;32m     83\u001b[0m     s2 \u001b[39m=\u001b[39m s\u001b[39m.\u001b[39mget_persisted()\n",
      "File \u001b[0;32m/g/data/hh5/public/apps/miniconda3/envs/analysis3-23.04/lib/python3.9/site-packages/intake/source/base.py:195\u001b[0m, in \u001b[0;36mPersistMixin.has_been_persisted\u001b[0;34m(self)\u001b[0m\n\u001b[1;32m    191\u001b[0m \u001b[39m@property\u001b[39m\n\u001b[1;32m    192\u001b[0m \u001b[39mdef\u001b[39;00m \u001b[39mhas_been_persisted\u001b[39m(\u001b[39mself\u001b[39m):\n\u001b[1;32m    193\u001b[0m     \u001b[39mfrom\u001b[39;00m \u001b[39m.\u001b[39;00m\u001b[39m.\u001b[39;00m\u001b[39mcontainer\u001b[39;00m\u001b[39m.\u001b[39;00m\u001b[39mpersist\u001b[39;00m \u001b[39mimport\u001b[39;00m store\n\u001b[0;32m--> 195\u001b[0m     \u001b[39mreturn\u001b[39;00m tokenize(\u001b[39mself\u001b[39;49m) \u001b[39min\u001b[39;00m store\n",
      "File \u001b[0;32m/g/data/hh5/public/apps/miniconda3/envs/analysis3-23.04/lib/python3.9/site-packages/intake/source/utils.py:17\u001b[0m, in \u001b[0;36mtokenize\u001b[0;34m(*args, **kwargs)\u001b[0m\n\u001b[1;32m     12\u001b[0m \u001b[39mdef\u001b[39;00m \u001b[39mtokenize\u001b[39m(\u001b[39m*\u001b[39margs, \u001b[39m*\u001b[39m\u001b[39m*\u001b[39mkwargs):\n\u001b[1;32m     13\u001b[0m \u001b[39m    \u001b[39m\u001b[39m\"\"\"Deterministic token\u001b[39;00m\n\u001b[1;32m     14\u001b[0m \n\u001b[1;32m     15\u001b[0m \u001b[39m    copied from dask\u001b[39;00m\n\u001b[1;32m     16\u001b[0m \u001b[39m    \"\"\"\u001b[39;00m\n\u001b[0;32m---> 17\u001b[0m     hasher \u001b[39m=\u001b[39m md5(\u001b[39mstr\u001b[39;49m(\u001b[39mtuple\u001b[39;49m(args))\u001b[39m.\u001b[39mencode())\n\u001b[1;32m     18\u001b[0m     \u001b[39mif\u001b[39;00m kwargs:\n\u001b[1;32m     19\u001b[0m         hasher\u001b[39m.\u001b[39mupdate(\u001b[39mstr\u001b[39m(args)\u001b[39m.\u001b[39mencode())\n",
      "File \u001b[0;32m/g/data/hh5/public/apps/miniconda3/envs/analysis3-23.04/lib/python3.9/site-packages/intake_esm/core.py:291\u001b[0m, in \u001b[0;36mesm_datastore.__repr__\u001b[0;34m(self)\u001b[0m\n\u001b[1;32m    289\u001b[0m \u001b[39mdef\u001b[39;00m \u001b[39m__repr__\u001b[39m(\u001b[39mself\u001b[39m) \u001b[39m-\u001b[39m\u001b[39m>\u001b[39m \u001b[39mstr\u001b[39m:\n\u001b[1;32m    290\u001b[0m \u001b[39m    \u001b[39m\u001b[39m\"\"\"Make string representation of object.\"\"\"\u001b[39;00m\n\u001b[0;32m--> 291\u001b[0m     \u001b[39mreturn\u001b[39;00m \u001b[39mf\u001b[39m\u001b[39m'\u001b[39m\u001b[39m<\u001b[39m\u001b[39m{\u001b[39;00m\u001b[39mself\u001b[39m\u001b[39m.\u001b[39mesmcat\u001b[39m.\u001b[39mid\u001b[39m \u001b[39m\u001b[39mor\u001b[39;00m\u001b[39m \u001b[39m\u001b[39m\"\u001b[39m\u001b[39m\"\u001b[39m\u001b[39m}\u001b[39;00m\u001b[39m catalog with \u001b[39m\u001b[39m{\u001b[39;00m\u001b[39mlen\u001b[39;49m(\u001b[39mself\u001b[39;49m)\u001b[39m}\u001b[39;00m\u001b[39m dataset(s) from \u001b[39m\u001b[39m{\u001b[39;00m\u001b[39mlen\u001b[39m(\u001b[39mself\u001b[39m\u001b[39m.\u001b[39mdf)\u001b[39m}\u001b[39;00m\u001b[39m asset(s)>\u001b[39m\u001b[39m'\u001b[39m\n",
      "File \u001b[0;32m/g/data/hh5/public/apps/miniconda3/envs/analysis3-23.04/lib/python3.9/site-packages/intake_esm/core.py:202\u001b[0m, in \u001b[0;36mesm_datastore.__len__\u001b[0;34m(self)\u001b[0m\n\u001b[1;32m    201\u001b[0m \u001b[39mdef\u001b[39;00m \u001b[39m__len__\u001b[39m(\u001b[39mself\u001b[39m) \u001b[39m-\u001b[39m\u001b[39m>\u001b[39m \u001b[39mint\u001b[39m:\n\u001b[0;32m--> 202\u001b[0m     \u001b[39mreturn\u001b[39;00m \u001b[39mlen\u001b[39m(\u001b[39mself\u001b[39;49m\u001b[39m.\u001b[39;49mkeys())\n",
      "File \u001b[0;32m/g/data/hh5/public/apps/miniconda3/envs/analysis3-23.04/lib/python3.9/site-packages/intake_esm/core.py:143\u001b[0m, in \u001b[0;36mesm_datastore.keys\u001b[0;34m(self)\u001b[0m\n\u001b[1;32m    134\u001b[0m \u001b[39mdef\u001b[39;00m \u001b[39mkeys\u001b[39m(\u001b[39mself\u001b[39m) \u001b[39m-\u001b[39m\u001b[39m>\u001b[39m \u001b[39mlist\u001b[39m[\u001b[39mstr\u001b[39m]:\n\u001b[1;32m    135\u001b[0m \u001b[39m    \u001b[39m\u001b[39m\"\"\"\u001b[39;00m\n\u001b[1;32m    136\u001b[0m \u001b[39m    Get keys for the catalog entries\u001b[39;00m\n\u001b[1;32m    137\u001b[0m \n\u001b[0;32m   (...)\u001b[0m\n\u001b[1;32m    141\u001b[0m \u001b[39m        keys for the catalog entries\u001b[39;00m\n\u001b[1;32m    142\u001b[0m \u001b[39m    \"\"\"\u001b[39;00m\n\u001b[0;32m--> 143\u001b[0m     \u001b[39mreturn\u001b[39;00m \u001b[39mlist\u001b[39m(\u001b[39mself\u001b[39;49m\u001b[39m.\u001b[39;49mesmcat\u001b[39m.\u001b[39;49m_construct_group_keys(sep\u001b[39m=\u001b[39;49m\u001b[39mself\u001b[39;49m\u001b[39m.\u001b[39;49msep)\u001b[39m.\u001b[39mkeys())\n",
      "File \u001b[0;32m/g/data/hh5/public/apps/miniconda3/envs/analysis3-23.04/lib/python3.9/site-packages/intake_esm/cat.py:326\u001b[0m, in \u001b[0;36mESMCatalogModel._construct_group_keys\u001b[0;34m(self, sep)\u001b[0m\n\u001b[1;32m    325\u001b[0m \u001b[39mdef\u001b[39;00m \u001b[39m_construct_group_keys\u001b[39m(\u001b[39mself\u001b[39m, sep: \u001b[39mstr\u001b[39m \u001b[39m=\u001b[39m \u001b[39m'\u001b[39m\u001b[39m.\u001b[39m\u001b[39m'\u001b[39m) \u001b[39m-\u001b[39m\u001b[39m>\u001b[39m \u001b[39mdict\u001b[39m[\u001b[39mstr\u001b[39m, typing\u001b[39m.\u001b[39mUnion[\u001b[39mstr\u001b[39m, \u001b[39mtuple\u001b[39m[\u001b[39mstr\u001b[39m]]]:\n\u001b[0;32m--> 326\u001b[0m     internal_keys \u001b[39m=\u001b[39m \u001b[39mself\u001b[39;49m\u001b[39m.\u001b[39;49mgrouped\u001b[39m.\u001b[39;49mgroups\u001b[39m.\u001b[39mkeys()\n\u001b[1;32m    327\u001b[0m     public_keys \u001b[39m=\u001b[39m \u001b[39mmap\u001b[39m(\n\u001b[1;32m    328\u001b[0m         \u001b[39mlambda\u001b[39;00m key: key \u001b[39mif\u001b[39;00m \u001b[39misinstance\u001b[39m(key, \u001b[39mstr\u001b[39m) \u001b[39melse\u001b[39;00m sep\u001b[39m.\u001b[39mjoin(\u001b[39mstr\u001b[39m(value) \u001b[39mfor\u001b[39;00m value \u001b[39min\u001b[39;00m key),\n\u001b[1;32m    329\u001b[0m         internal_keys,\n\u001b[1;32m    330\u001b[0m     )\n\u001b[1;32m    332\u001b[0m     \u001b[39mreturn\u001b[39;00m \u001b[39mdict\u001b[39m(\u001b[39mzip\u001b[39m(public_keys, internal_keys))\n",
      "File \u001b[0;32m/g/data/hh5/public/apps/miniconda3/envs/analysis3-23.04/lib/python3.9/site-packages/pandas/core/groupby/groupby.py:648\u001b[0m, in \u001b[0;36mBaseGroupBy.groups\u001b[0;34m(self)\u001b[0m\n\u001b[1;32m    642\u001b[0m \u001b[39m@final\u001b[39m\n\u001b[1;32m    643\u001b[0m \u001b[39m@property\u001b[39m\n\u001b[1;32m    644\u001b[0m \u001b[39mdef\u001b[39;00m \u001b[39mgroups\u001b[39m(\u001b[39mself\u001b[39m) \u001b[39m-\u001b[39m\u001b[39m>\u001b[39m \u001b[39mdict\u001b[39m[Hashable, np\u001b[39m.\u001b[39mndarray]:\n\u001b[1;32m    645\u001b[0m \u001b[39m    \u001b[39m\u001b[39m\"\"\"\u001b[39;00m\n\u001b[1;32m    646\u001b[0m \u001b[39m    Dict {group name -> group labels}.\u001b[39;00m\n\u001b[1;32m    647\u001b[0m \u001b[39m    \"\"\"\u001b[39;00m\n\u001b[0;32m--> 648\u001b[0m     \u001b[39mreturn\u001b[39;00m \u001b[39mself\u001b[39;49m\u001b[39m.\u001b[39;49mgrouper\u001b[39m.\u001b[39;49mgroups\n",
      "File \u001b[0;32m/g/data/hh5/public/apps/miniconda3/envs/analysis3-23.04/lib/python3.9/site-packages/pandas/_libs/properties.pyx:36\u001b[0m, in \u001b[0;36mpandas._libs.properties.CachedProperty.__get__\u001b[0;34m()\u001b[0m\n",
      "File \u001b[0;32m/g/data/hh5/public/apps/miniconda3/envs/analysis3-23.04/lib/python3.9/site-packages/pandas/core/groupby/ops.py:855\u001b[0m, in \u001b[0;36mBaseGrouper.groups\u001b[0;34m(self)\u001b[0m\n\u001b[1;32m    853\u001b[0m to_groupby \u001b[39m=\u001b[39m \u001b[39mzip\u001b[39m(\u001b[39m*\u001b[39m(ping\u001b[39m.\u001b[39mgrouping_vector \u001b[39mfor\u001b[39;00m ping \u001b[39min\u001b[39;00m \u001b[39mself\u001b[39m\u001b[39m.\u001b[39mgroupings))\n\u001b[1;32m    854\u001b[0m index \u001b[39m=\u001b[39m Index(to_groupby)\n\u001b[0;32m--> 855\u001b[0m \u001b[39mreturn\u001b[39;00m \u001b[39mself\u001b[39;49m\u001b[39m.\u001b[39;49maxis\u001b[39m.\u001b[39;49mgroupby(index)\n",
      "File \u001b[0;32m/g/data/hh5/public/apps/miniconda3/envs/analysis3-23.04/lib/python3.9/site-packages/pandas/core/indexes/base.py:6131\u001b[0m, in \u001b[0;36mIndex.groupby\u001b[0;34m(self, values)\u001b[0m\n\u001b[1;32m   6128\u001b[0m \u001b[39m# TODO: if we are a MultiIndex, we can do better\u001b[39;00m\n\u001b[1;32m   6129\u001b[0m \u001b[39m# that converting to tuples\u001b[39;00m\n\u001b[1;32m   6130\u001b[0m \u001b[39mif\u001b[39;00m \u001b[39misinstance\u001b[39m(values, ABCMultiIndex):\n\u001b[0;32m-> 6131\u001b[0m     values \u001b[39m=\u001b[39m values\u001b[39m.\u001b[39;49m_values\n\u001b[1;32m   6132\u001b[0m values \u001b[39m=\u001b[39m Categorical(values)\n\u001b[1;32m   6133\u001b[0m result \u001b[39m=\u001b[39m values\u001b[39m.\u001b[39m_reverse_indexer()\n",
      "File \u001b[0;32m/g/data/hh5/public/apps/miniconda3/envs/analysis3-23.04/lib/python3.9/site-packages/pandas/_libs/properties.pyx:36\u001b[0m, in \u001b[0;36mpandas._libs.properties.CachedProperty.__get__\u001b[0;34m()\u001b[0m\n",
      "File \u001b[0;32m/g/data/hh5/public/apps/miniconda3/envs/analysis3-23.04/lib/python3.9/site-packages/pandas/core/indexes/multi.py:749\u001b[0m, in \u001b[0;36mMultiIndex._values\u001b[0;34m(self)\u001b[0m\n\u001b[1;32m    746\u001b[0m     vals \u001b[39m=\u001b[39m algos\u001b[39m.\u001b[39mtake_nd(vals, codes, fill_value\u001b[39m=\u001b[39mindex\u001b[39m.\u001b[39m_na_value)\n\u001b[1;32m    747\u001b[0m     values\u001b[39m.\u001b[39mappend(vals)\n\u001b[0;32m--> 749\u001b[0m arr \u001b[39m=\u001b[39m lib\u001b[39m.\u001b[39;49mfast_zip(values)\n\u001b[1;32m    750\u001b[0m \u001b[39mreturn\u001b[39;00m arr\n",
      "\u001b[0;31mKeyboardInterrupt\u001b[0m: "
     ]
    }
   ],
   "source": [
    "a = ds_dict.cmip6.search(variable_id= 'clwvi') #, experiment_id='historical')\n",
    "÷\n"
   ]
  },
  {
   "cell_type": "code",
   "execution_count": null,
   "metadata": {},
   "outputs": [
    {
     "name": "stdout",
     "output_type": "stream",
     "text": [
      "  project activity_id       institution_id  source_id experiment_id  \\\n",
      "0   CMIP6        CMIP  EC-Earth-Consortium  EC-Earth3    historical   \n",
      "1   CMIP6        CMIP  EC-Earth-Consortium  EC-Earth3    historical   \n",
      "2   CMIP6        CMIP  EC-Earth-Consortium  EC-Earth3    historical   \n",
      "3   CMIP6        CMIP  EC-Earth-Consortium  EC-Earth3    historical   \n",
      "4   CMIP6        CMIP  EC-Earth-Consortium  EC-Earth3    historical   \n",
      "\n",
      "   member_id table_id variable_id grid_label     date_range  \\\n",
      "0  r11i1p1f1     Amon       clwvi         gr  184912-185012   \n",
      "1  r11i1p1f1     Amon       clwvi         gr  185101-185112   \n",
      "2  r11i1p1f1     Amon       clwvi         gr  185201-185212   \n",
      "3  r11i1p1f1     Amon       clwvi         gr  185301-185312   \n",
      "4  r11i1p1f1     Amon       clwvi         gr  185401-185412   \n",
      "\n",
      "                                                path    version  \n",
      "0  /g/data/oi10/replicas/CMIP6/CMIP/EC-Earth-Cons...  v20200201  \n",
      "1  /g/data/oi10/replicas/CMIP6/CMIP/EC-Earth-Cons...  v20200201  \n",
      "2  /g/data/oi10/replicas/CMIP6/CMIP/EC-Earth-Cons...  v20200201  \n",
      "3  /g/data/oi10/replicas/CMIP6/CMIP/EC-Earth-Cons...  v20200201  \n",
      "4  /g/data/oi10/replicas/CMIP6/CMIP/EC-Earth-Cons...  v20200201  \n"
     ]
    }
   ],
   "source": [
    "df = a.df\n",
    "print(df.head())"
   ]
  },
  {
   "cell_type": "code",
   "execution_count": null,
   "metadata": {},
   "outputs": [
    {
     "name": "stdout",
     "output_type": "stream",
     "text": [
      "/g/data/oi10/replicas/CMIP6/CMIP/EC-Earth-Consortium/EC-Earth3/historical/r11i1p1f1/Amon/clwvi/gr/v20200201/clwvi_Amon_EC-Earth3_historical_r11i1p1f1_gr_184912-185012.nc\n"
     ]
    }
   ],
   "source": [
    "first_path = df['path'][0]\n",
    "print(first_path)"
   ]
  },
  {
   "cell_type": "code",
   "execution_count": null,
   "metadata": {},
   "outputs": [],
   "source": [
    "'/g/data/oi10/replicas/CMIP6/CMIP/EC-Earth-Consortium/EC-Earth3/historical/r11i1p1f1/Amon/clwvi/gr/v20200201/clwvi_Amon_EC-Earth3_historical_r11i1p1f1_gr_184912-185012.nc'\n",
    "'/g/data/oi10/replicas/CMIP6/CMIP/EC-Earth-Consortium/EC-Earth3/historical/r1i1p1f1/Amon'"
   ]
  },
  {
   "cell_type": "code",
   "execution_count": null,
   "metadata": {},
   "outputs": [
    {
     "name": "stdout",
     "output_type": "stream",
     "text": [
      "['r11i1p1f1' 'r13i1p1f1' 'r15i1p1f1' 'r6i1p1f1' 'r9i1p1f1' 'r12i1p1f1'\n",
      " 'r14i1p1f1']\n"
     ]
    }
   ],
   "source": [
    "print(df['member_id'].unique())"
   ]
  },
  {
   "cell_type": "code",
   "execution_count": null,
   "metadata": {},
   "outputs": [
    {
     "name": "stdout",
     "output_type": "stream",
     "text": [
      "['EC-Earth3' 'EC-Earth3-Veg']\n"
     ]
    }
   ],
   "source": [
    "print(df['source_id'].unique())"
   ]
  },
  {
   "cell_type": "code",
   "execution_count": null,
   "metadata": {},
   "outputs": [
    {
     "data": {
      "text/plain": [
       "481    /g/data/oi10/replicas/CMIP6/CMIP/EC-Earth-Cons...\n",
       "482    /g/data/oi10/replicas/CMIP6/CMIP/EC-Earth-Cons...\n",
       "483    /g/data/oi10/replicas/CMIP6/CMIP/EC-Earth-Cons...\n",
       "484    /g/data/oi10/replicas/CMIP6/CMIP/EC-Earth-Cons...\n",
       "485    /g/data/oi10/replicas/CMIP6/CMIP/EC-Earth-Cons...\n",
       "486    /g/data/oi10/replicas/CMIP6/CMIP/EC-Earth-Cons...\n",
       "487    /g/data/oi10/replicas/CMIP6/CMIP/EC-Earth-Cons...\n",
       "488    /g/data/oi10/replicas/CMIP6/CMIP/EC-Earth-Cons...\n",
       "489    /g/data/oi10/replicas/CMIP6/CMIP/EC-Earth-Cons...\n",
       "490    /g/data/oi10/replicas/CMIP6/CMIP/EC-Earth-Cons...\n",
       "Name: path, dtype: object"
      ]
     },
     "metadata": {},
     "output_type": "display_data"
    }
   ],
   "source": [
    "first_path = df['path'][-510:-500]\n",
    "first_path"
   ]
  }
 ],
 "metadata": {
  "kernelspec": {
   "display_name": "Python 3",
   "language": "python",
   "name": "python3"
  },
  "language_info": {
   "codemirror_mode": {
    "name": "ipython",
    "version": 3
   },
   "file_extension": ".py",
   "mimetype": "text/x-python",
   "name": "python",
   "nbconvert_exporter": "python",
   "pygments_lexer": "ipython3",
   "version": "3.9.17"
  }
 },
 "nbformat": 4,
 "nbformat_minor": 2
}
