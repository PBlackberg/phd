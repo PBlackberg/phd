{
 "cells": [
  {
   "cell_type": "code",
   "execution_count": 1,
   "id": "d687c6f4-0541-4b19-bcf8-f9aec354912a",
   "metadata": {},
   "outputs": [
    {
     "data": {
      "text/plain": [
       "<matplotlib.collections.PolyCollection at 0x25432cbc820>"
      ]
     },
     "execution_count": 1,
     "metadata": {},
     "output_type": "execute_result"
    },
    {
     "data": {
      "image/png": "[encoded data removed]",
      "text/plain": [
       "<Figure size 800x500 with 1 Axes>"
      ]
     },
     "metadata": {},
     "output_type": "display_data"
    }
   ],
   "source": [
    "# \n",
    "#\n",
    "# Map plot (single)\n",
    "#\n",
    "#\n",
    "\n",
    "\n",
    "\n",
    "#%%\n",
    "import numpy as np\n",
    "import pandas as pd\n",
    "import matplotlib.pyplot as plt\n",
    "import timeit\n",
    "\n",
    "\n",
    "from scipy.io import loadmat\n",
    "#%%\n",
    "\n",
    "\n",
    "\n",
    "# numpy files\n",
    "# csv or text for names \n",
    "\n",
    "\n",
    "# directories\n",
    "data_path = '/c/Users/carlp/data/'\n",
    "project = 'cmip5'\n",
    "percentile= '97th_percentile'\n",
    "the_type= ['domain', 'convective_objects', 'aggregation_index', 'examples']\n",
    "\n",
    "model_inst = ['IPSL','NOAA-GFDL','NASA-GISS','BCC','CNRM-CERFACS','NCAR'\n",
    "        ,'NIMR-KMA','BNU','ICHEC','LASG-CESS','MPI-M','CMCC','INM','NCC' \n",
    "        ,'CCCma','MIROC','MOHC','MRI','NSF-DOE-NCAR']\n",
    "var= ['pr','hus','tas','convective_objects','aggregation_index']\n",
    "scenario= ['historical', 'rcp85']\n",
    "\n",
    "\n",
    "path = data_path +'/'+ percentile +'/'+ the_type[0]   \n",
    "fileName= model_inst[0] +'/'+ the_type[0] +'/'+  var[0] +'/'+ scenario[0]\n",
    "dir= path +'/'+ fileName\n",
    "\n",
    "\n",
    "# pd.read_csv('path','r')\n",
    "#\n",
    "# np.genfromtxt('path',delimiter=',', skip_header=1)\n",
    "# pd.dataframe()\n",
    "# xarray (netcdf)\n",
    "\n",
    "\n",
    "# ask holger about terminal environment\n",
    "# conda environment gadi (NCI)\n",
    "\n",
    "\n",
    "#%%\n",
    "# loading variables\n",
    "data = loadmat(r\"C:\\Users\\carlp\\data\\97th_percentile\\domain\\IPSL_domain_pr_rcp85.mat\")\n",
    "# data.keys() to see the variables\n",
    "x = np.squeeze(data['lon'],axis=1)\n",
    "y = np.squeeze(data['lat'],axis=1)\n",
    "z = data['snapshot_pr_image']\n",
    "z1 = np.transpose(z)\n",
    "\n",
    "#%%\n",
    "\n",
    "# plot figure\n",
    "plt.figure(figsize=(8,5))\n",
    "plt.pcolor(x,y,z1)\n",
    "\n",
    "#\n",
    "\n",
    "\n",
    "\n",
    "\n",
    "\n",
    "\n",
    "\n",
    "\n",
    "# %%\n"
   ]
  },
  {
   "cell_type": "code",
   "execution_count": 2,
   "id": "3e5aa301-53bf-4e3c-b057-d2ecef42fc67",
   "metadata": {},
   "outputs": [],
   "source": [
    "data = loadmat(r\"C:\\Users\\carlp\\data\\97th_percentile\\domain\\IPSL_domain_pr_rcp85.mat\")"
   ]
  },
  {
   "cell_type": "code",
   "execution_count": null,
   "id": "8696aa49-274d-45bf-bd27-da5431846982",
   "metadata": {},
   "outputs": [],
   "source": []
  }
 ],
 "metadata": {
  "kernelspec": {
   "display_name": "Python 3 (ipykernel)",
   "language": "python",
   "name": "python3"
  },
  "language_info": {
   "codemirror_mode": {
    "name": "ipython",
    "version": 3
   },
   "file_extension": ".py",
   "mimetype": "text/x-python",
   "name": "python",
   "nbconvert_exporter": "python",
   "pygments_lexer": "ipython3",
   "version": "3.9.13"
  },
  "vscode": {
   "interpreter": {
    "hash": "002347149813c9e3962232753c44e5399445e0048858ae6af421982fc5f0fe38"
   }
  }
 },
 "nbformat": 4,
 "nbformat_minor": 5
}
