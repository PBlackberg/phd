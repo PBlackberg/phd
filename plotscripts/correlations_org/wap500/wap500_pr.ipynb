{
 "cells": [
  {
   "cell_type": "code",
   "execution_count": null,
   "metadata": {},
   "outputs": [],
   "source": [
    "folder = home + '/Documents/data/cmip5/ds'\n",
    "fileName = model + '_precip_' + experiment + '.nc'\n",
    "path = folder + '/' + fileName\n",
    "ds = xr.open_dataset(path)\n",
    "precip = ds.precip*60*60*24\n",
    "precip.attrs['units']= 'mm/day'\n",
    "plot_snapshot(precip.isel(time=0).where(wap500.isel(time=0)>0, np.nan), 'Blues', 'precipitation in descending area', model)"
   ]
  }
 ],
 "metadata": {
  "language_info": {
   "name": "python"
  },
  "orig_nbformat": 4
 },
 "nbformat": 4,
 "nbformat_minor": 2
}
