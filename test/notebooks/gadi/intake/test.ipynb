{
 "cells": [
  {
   "cell_type": "code",
   "execution_count": null,
   "metadata": {},
   "outputs": [],
   "source": [
    "import intake"
   ]
  },
  {
   "cell_type": "code",
   "execution_count": null,
   "metadata": {},
   "outputs": [],
   "source": [
    "ds_dict = intake.cat.nci['esgf']"
   ]
  },
  {
   "cell_type": "code",
   "execution_count": null,
   "metadata": {},
   "outputs": [
    {
     "data": {
      "text/html": [
       "<p><strong>cmip6 catalog with 7 dataset(s) from 991 asset(s)</strong>:</p> <div>\n",
       "<style scoped>\n",
       "    .dataframe tbody tr th:only-of-type {\n",
       "        vertical-align: middle;\n",
       "    }\n",
       "\n",
       "    .dataframe tbody tr th {\n",
       "        vertical-align: top;\n",
       "    }\n",
       "\n",
       "    .dataframe thead th {\n",
       "        text-align: right;\n",
       "    }\n",
       "</style>\n",
       "<table border=\"1\" class=\"dataframe\">\n",
       "  <thead>\n",
       "    <tr style=\"text-align: right;\">\n",
       "      <th></th>\n",
       "      <th>unique</th>\n",
       "    </tr>\n",
       "  </thead>\n",
       "  <tbody>\n",
       "    <tr>\n",
       "      <th>project</th>\n",
       "      <td>1</td>\n",
       "    </tr>\n",
       "    <tr>\n",
       "      <th>activity_id</th>\n",
       "      <td>1</td>\n",
       "    </tr>\n",
       "    <tr>\n",
       "      <th>institution_id</th>\n",
       "      <td>1</td>\n",
       "    </tr>\n",
       "    <tr>\n",
       "      <th>source_id</th>\n",
       "      <td>2</td>\n",
       "    </tr>\n",
       "    <tr>\n",
       "      <th>experiment_id</th>\n",
       "      <td>1</td>\n",
       "    </tr>\n",
       "    <tr>\n",
       "      <th>member_id</th>\n",
       "      <td>7</td>\n",
       "    </tr>\n",
       "    <tr>\n",
       "      <th>table_id</th>\n",
       "      <td>1</td>\n",
       "    </tr>\n",
       "    <tr>\n",
       "      <th>variable_id</th>\n",
       "      <td>1</td>\n",
       "    </tr>\n",
       "    <tr>\n",
       "      <th>grid_label</th>\n",
       "      <td>1</td>\n",
       "    </tr>\n",
       "    <tr>\n",
       "      <th>date_range</th>\n",
       "      <td>166</td>\n",
       "    </tr>\n",
       "    <tr>\n",
       "      <th>path</th>\n",
       "      <td>991</td>\n",
       "    </tr>\n",
       "    <tr>\n",
       "      <th>version</th>\n",
       "      <td>2</td>\n",
       "    </tr>\n",
       "    <tr>\n",
       "      <th>derived_variable_id</th>\n",
       "      <td>0</td>\n",
       "    </tr>\n",
       "  </tbody>\n",
       "</table>\n",
       "</div>"
      ],
      "text/plain": [
       "<IPython.core.display.HTML object>"
      ]
     },
     "metadata": {},
     "output_type": "display_data"
    }
   ],
   "source": [
    "a = ds_dict.cmip6.search(variable_id= 'clwvi', experiment_id='historical')\n",
    "a"
   ]
  },
  {
   "cell_type": "code",
   "execution_count": null,
   "metadata": {},
   "outputs": [
    {
     "name": "stdout",
     "output_type": "stream",
     "text": [
      "  project activity_id       institution_id  source_id experiment_id  \\\n",
      "0   CMIP6        CMIP  EC-Earth-Consortium  EC-Earth3    historical   \n",
      "1   CMIP6        CMIP  EC-Earth-Consortium  EC-Earth3    historical   \n",
      "2   CMIP6        CMIP  EC-Earth-Consortium  EC-Earth3    historical   \n",
      "3   CMIP6        CMIP  EC-Earth-Consortium  EC-Earth3    historical   \n",
      "4   CMIP6        CMIP  EC-Earth-Consortium  EC-Earth3    historical   \n",
      "\n",
      "   member_id table_id variable_id grid_label     date_range  \\\n",
      "0  r11i1p1f1     Amon       clwvi         gr  184912-185012   \n",
      "1  r11i1p1f1     Amon       clwvi         gr  185101-185112   \n",
      "2  r11i1p1f1     Amon       clwvi         gr  185201-185212   \n",
      "3  r11i1p1f1     Amon       clwvi         gr  185301-185312   \n",
      "4  r11i1p1f1     Amon       clwvi         gr  185401-185412   \n",
      "\n",
      "                                                path    version  \n",
      "0  /g/data/oi10/replicas/CMIP6/CMIP/EC-Earth-Cons...  v20200201  \n",
      "1  /g/data/oi10/replicas/CMIP6/CMIP/EC-Earth-Cons...  v20200201  \n",
      "2  /g/data/oi10/replicas/CMIP6/CMIP/EC-Earth-Cons...  v20200201  \n",
      "3  /g/data/oi10/replicas/CMIP6/CMIP/EC-Earth-Cons...  v20200201  \n",
      "4  /g/data/oi10/replicas/CMIP6/CMIP/EC-Earth-Cons...  v20200201  \n"
     ]
    }
   ],
   "source": [
    "df = a.df\n",
    "print(df.head())"
   ]
  },
  {
   "cell_type": "code",
   "execution_count": null,
   "metadata": {},
   "outputs": [
    {
     "name": "stdout",
     "output_type": "stream",
     "text": [
      "/g/data/oi10/replicas/CMIP6/CMIP/EC-Earth-Consortium/EC-Earth3/historical/r11i1p1f1/Amon/clwvi/gr/v20200201/clwvi_Amon_EC-Earth3_historical_r11i1p1f1_gr_184912-185012.nc\n"
     ]
    }
   ],
   "source": [
    "first_path = df['path'][0]\n",
    "print(first_path)"
   ]
  },
  {
   "cell_type": "code",
   "execution_count": null,
   "metadata": {},
   "outputs": [],
   "source": [
    "'/g/data/oi10/replicas/CMIP6/CMIP/EC-Earth-Consortium/EC-Earth3/historical/r11i1p1f1/Amon/clwvi/gr/v20200201/clwvi_Amon_EC-Earth3_historical_r11i1p1f1_gr_184912-185012.nc'\n",
    "'/g/data/oi10/replicas/CMIP6/CMIP/EC-Earth-Consortium/EC-Earth3/historical/r1i1p1f1/Amon'"
   ]
  },
  {
   "cell_type": "code",
   "execution_count": null,
   "metadata": {},
   "outputs": [
    {
     "name": "stdout",
     "output_type": "stream",
     "text": [
      "['r11i1p1f1' 'r13i1p1f1' 'r15i1p1f1' 'r6i1p1f1' 'r9i1p1f1' 'r12i1p1f1'\n",
      " 'r14i1p1f1']\n"
     ]
    }
   ],
   "source": [
    "print(df['member_id'].unique())"
   ]
  },
  {
   "cell_type": "code",
   "execution_count": null,
   "metadata": {},
   "outputs": [
    {
     "name": "stdout",
     "output_type": "stream",
     "text": [
      "['EC-Earth3' 'EC-Earth3-Veg']\n"
     ]
    }
   ],
   "source": [
    "print(df['source_id'].unique())"
   ]
  },
  {
   "cell_type": "code",
   "execution_count": null,
   "metadata": {},
   "outputs": [
    {
     "data": {
      "text/plain": [
       "481    /g/data/oi10/replicas/CMIP6/CMIP/EC-Earth-Cons...\n",
       "482    /g/data/oi10/replicas/CMIP6/CMIP/EC-Earth-Cons...\n",
       "483    /g/data/oi10/replicas/CMIP6/CMIP/EC-Earth-Cons...\n",
       "484    /g/data/oi10/replicas/CMIP6/CMIP/EC-Earth-Cons...\n",
       "485    /g/data/oi10/replicas/CMIP6/CMIP/EC-Earth-Cons...\n",
       "486    /g/data/oi10/replicas/CMIP6/CMIP/EC-Earth-Cons...\n",
       "487    /g/data/oi10/replicas/CMIP6/CMIP/EC-Earth-Cons...\n",
       "488    /g/data/oi10/replicas/CMIP6/CMIP/EC-Earth-Cons...\n",
       "489    /g/data/oi10/replicas/CMIP6/CMIP/EC-Earth-Cons...\n",
       "490    /g/data/oi10/replicas/CMIP6/CMIP/EC-Earth-Cons...\n",
       "Name: path, dtype: object"
      ]
     },
     "metadata": {},
     "output_type": "display_data"
    }
   ],
   "source": [
    "first_path = df['path'][-510:-500]\n",
    "first_path"
   ]
  }
 ],
 "metadata": {
  "language_info": {
   "name": "python"
  }
 },
 "nbformat": 4,
 "nbformat_minor": 2
}
