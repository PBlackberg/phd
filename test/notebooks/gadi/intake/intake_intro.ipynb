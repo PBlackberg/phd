{
 "cells": [
  {
   "cell_type": "code",
   "execution_count": 1,
   "metadata": {},
   "outputs": [],
   "source": [
    "import intake"
   ]
  },
  {
   "cell_type": "code",
   "execution_count": 2,
   "metadata": {},
   "outputs": [
    {
     "name": "stdout",
     "output_type": "stream",
     "text": [
      "acsreplica\n",
      "access_nri\n",
      "nci\n"
     ]
    }
   ],
   "source": [
    "cat = intake.cat\n",
    "for entry in cat:\n",
    "    print(entry)"
   ]
  },
  {
   "cell_type": "code",
   "execution_count": 3,
   "metadata": {},
   "outputs": [
    {
     "name": "stdout",
     "output_type": "stream",
     "text": [
      "era5\n",
      "era5_land\n",
      "ecmwf\n",
      "esgf\n",
      "cosima\n",
      "erai\n"
     ]
    }
   ],
   "source": [
    "nci = cat['nci']\n",
    "for entry in nci:\n",
    "    print(entry)"
   ]
  },
  {
   "cell_type": "code",
   "execution_count": 6,
   "metadata": {},
   "outputs": [
    {
     "name": "stdout",
     "output_type": "stream",
     "text": [
      "\n",
      "--> The keys in the returned dictionary of datasets are constructed as follows:\n",
      "\t'sub_collection.dataset.product_type'\n"
     ]
    },
    {
     "data": {
      "text/html": [
       "\n",
       "<style>\n",
       "    /* Turns off some styling */\n",
       "    progress {\n",
       "        /* gets rid of default border in Firefox and Opera. */\n",
       "        border: none;\n",
       "        /* Needs to be in here for Safari polyfill so background images work as expected. */\n",
       "        background-size: auto;\n",
       "    }\n",
       "    progress:not([value]), progress:not([value])::-webkit-progress-bar {\n",
       "        background: repeating-linear-gradient(45deg, #7e7e7e, #7e7e7e 10px, #5c5c5c 10px, #5c5c5c 20px);\n",
       "    }\n",
       "    .progress-bar-interrupted, .progress-bar-interrupted::-webkit-progress-bar {\n",
       "        background: #F44336;\n",
       "    }\n",
       "</style>\n"
      ],
      "text/plain": [
       "<IPython.core.display.HTML object>"
      ]
     },
     "metadata": {},
     "output_type": "display_data"
    },
    {
     "data": {
      "text/html": [
       "\n",
       "    <div>\n",
       "      <progress value='0' class='' max='9' style='width:300px; height:20px; vertical-align: middle;'></progress>\n",
       "      0.00% [0/9 00:00&lt;?]\n",
       "    </div>\n",
       "    "
      ],
      "text/plain": [
       "<IPython.core.display.HTML object>"
      ]
     },
     "metadata": {},
     "output_type": "display_data"
    }
   ],
   "source": [
    "era5 = nci['era5'].to_dataset_dict()\n",
    "for dataset_name, dataset in era5.items():\n",
    "    print(f\"Variables in dataset {dataset_name}:\")\n",
    "    for var in dataset.variables:\n",
    "        print(var)"
   ]
  },
  {
   "cell_type": "code",
   "execution_count": 3,
   "metadata": {},
   "outputs": [
    {
     "data": {
      "text/html": [
       "<p><strong>cmip6 catalog with 1693 dataset(s) from 7172 asset(s)</strong>:</p> <div>\n",
       "<style scoped>\n",
       "    .dataframe tbody tr th:only-of-type {\n",
       "        vertical-align: middle;\n",
       "    }\n",
       "\n",
       "    .dataframe tbody tr th {\n",
       "        vertical-align: top;\n",
       "    }\n",
       "\n",
       "    .dataframe thead th {\n",
       "        text-align: right;\n",
       "    }\n",
       "</style>\n",
       "<table border=\"1\" class=\"dataframe\">\n",
       "  <thead>\n",
       "    <tr style=\"text-align: right;\">\n",
       "      <th></th>\n",
       "      <th>unique</th>\n",
       "    </tr>\n",
       "  </thead>\n",
       "  <tbody>\n",
       "    <tr>\n",
       "      <th>project</th>\n",
       "      <td>1</td>\n",
       "    </tr>\n",
       "    <tr>\n",
       "      <th>activity_id</th>\n",
       "      <td>10</td>\n",
       "    </tr>\n",
       "    <tr>\n",
       "      <th>institution_id</th>\n",
       "      <td>19</td>\n",
       "    </tr>\n",
       "    <tr>\n",
       "      <th>source_id</th>\n",
       "      <td>27</td>\n",
       "    </tr>\n",
       "    <tr>\n",
       "      <th>experiment_id</th>\n",
       "      <td>57</td>\n",
       "    </tr>\n",
       "    <tr>\n",
       "      <th>member_id</th>\n",
       "      <td>112</td>\n",
       "    </tr>\n",
       "    <tr>\n",
       "      <th>table_id</th>\n",
       "      <td>1</td>\n",
       "    </tr>\n",
       "    <tr>\n",
       "      <th>variable_id</th>\n",
       "      <td>1</td>\n",
       "    </tr>\n",
       "    <tr>\n",
       "      <th>grid_label</th>\n",
       "      <td>3</td>\n",
       "    </tr>\n",
       "    <tr>\n",
       "      <th>date_range</th>\n",
       "      <td>1027</td>\n",
       "    </tr>\n",
       "    <tr>\n",
       "      <th>path</th>\n",
       "      <td>7172</td>\n",
       "    </tr>\n",
       "    <tr>\n",
       "      <th>version</th>\n",
       "      <td>175</td>\n",
       "    </tr>\n",
       "    <tr>\n",
       "      <th>derived_variable_id</th>\n",
       "      <td>0</td>\n",
       "    </tr>\n",
       "  </tbody>\n",
       "</table>\n",
       "</div>"
      ],
      "text/plain": [
       "<IPython.core.display.HTML object>"
      ]
     },
     "metadata": {},
     "output_type": "display_data"
    }
   ],
   "source": [
    "a = ds_dict.cmip6.search(variable_id= 'rh')\n",
    "a"
   ]
  },
  {
   "cell_type": "code",
   "execution_count": 4,
   "metadata": {},
   "outputs": [
    {
     "name": "stdout",
     "output_type": "stream",
     "text": [
      "  project activity_id institution_id source_id   experiment_id member_id  \\\n",
      "0   CMIP6  AerChemMIP            BCC  BCC-ESM1          ssp370  r1i1p1f1   \n",
      "1   CMIP6  AerChemMIP            BCC  BCC-ESM1          ssp370  r2i1p1f1   \n",
      "2   CMIP6  AerChemMIP            BCC  BCC-ESM1          ssp370  r3i1p1f1   \n",
      "3   CMIP6  AerChemMIP            BCC  BCC-ESM1  ssp370-lowNTCF  r1i1p1f1   \n",
      "4   CMIP6  AerChemMIP            BCC  BCC-ESM1  ssp370-lowNTCF  r2i1p1f1   \n",
      "\n",
      "  table_id variable_id grid_label     date_range  \\\n",
      "0     Lmon          rh         gn  201501-205512   \n",
      "1     Lmon          rh         gn  201501-205512   \n",
      "2     Lmon          rh         gn  201501-205512   \n",
      "3     Lmon          rh         gn  201501-205512   \n",
      "4     Lmon          rh         gn  201501-205512   \n",
      "\n",
      "                                                path    version  \n",
      "0  /g/data/oi10/replicas/CMIP6/AerChemMIP/BCC/BCC...  v20190601  \n",
      "1  /g/data/oi10/replicas/CMIP6/AerChemMIP/BCC/BCC...  v20190601  \n",
      "2  /g/data/oi10/replicas/CMIP6/AerChemMIP/BCC/BCC...  v20190601  \n",
      "3  /g/data/oi10/replicas/CMIP6/AerChemMIP/BCC/BCC...  v20190601  \n",
      "4  /g/data/oi10/replicas/CMIP6/AerChemMIP/BCC/BCC...  v20190603  \n"
     ]
    }
   ],
   "source": [
    "df = a.df\n",
    "print(df.head())"
   ]
  },
  {
   "cell_type": "code",
   "execution_count": null,
   "metadata": {},
   "outputs": [
    {
     "name": "stdout",
     "output_type": "stream",
     "text": [
      "/g/data/oi10/replicas/CMIP6/CMIP/EC-Earth-Consortium/EC-Earth3/historical/r11i1p1f1/Amon/clwvi/gr/v20200201/clwvi_Amon_EC-Earth3_historical_r11i1p1f1_gr_184912-185012.nc\n"
     ]
    }
   ],
   "source": [
    "first_path = df['path'][0]\n",
    "print(first_path)"
   ]
  },
  {
   "cell_type": "code",
   "execution_count": null,
   "metadata": {},
   "outputs": [],
   "source": [
    "'/g/data/oi10/replicas/CMIP6/CMIP/EC-Earth-Consortium/EC-Earth3/historical/r11i1p1f1/Amon/clwvi/gr/v20200201/clwvi_Amon_EC-Earth3_historical_r11i1p1f1_gr_184912-185012.nc'\n",
    "'/g/data/oi10/replicas/CMIP6/CMIP/EC-Earth-Consortium/EC-Earth3/historical/r1i1p1f1/Amon'"
   ]
  },
  {
   "cell_type": "code",
   "execution_count": null,
   "metadata": {},
   "outputs": [
    {
     "name": "stdout",
     "output_type": "stream",
     "text": [
      "['r11i1p1f1' 'r13i1p1f1' 'r15i1p1f1' 'r6i1p1f1' 'r9i1p1f1' 'r12i1p1f1'\n",
      " 'r14i1p1f1']\n"
     ]
    }
   ],
   "source": [
    "print(df['member_id'].unique())"
   ]
  },
  {
   "cell_type": "code",
   "execution_count": null,
   "metadata": {},
   "outputs": [
    {
     "name": "stdout",
     "output_type": "stream",
     "text": [
      "['EC-Earth3' 'EC-Earth3-Veg']\n"
     ]
    }
   ],
   "source": [
    "print(df['source_id'].unique())"
   ]
  },
  {
   "cell_type": "code",
   "execution_count": null,
   "metadata": {},
   "outputs": [
    {
     "data": {
      "text/plain": [
       "481    /g/data/oi10/replicas/CMIP6/CMIP/EC-Earth-Cons...\n",
       "482    /g/data/oi10/replicas/CMIP6/CMIP/EC-Earth-Cons...\n",
       "483    /g/data/oi10/replicas/CMIP6/CMIP/EC-Earth-Cons...\n",
       "484    /g/data/oi10/replicas/CMIP6/CMIP/EC-Earth-Cons...\n",
       "485    /g/data/oi10/replicas/CMIP6/CMIP/EC-Earth-Cons...\n",
       "486    /g/data/oi10/replicas/CMIP6/CMIP/EC-Earth-Cons...\n",
       "487    /g/data/oi10/replicas/CMIP6/CMIP/EC-Earth-Cons...\n",
       "488    /g/data/oi10/replicas/CMIP6/CMIP/EC-Earth-Cons...\n",
       "489    /g/data/oi10/replicas/CMIP6/CMIP/EC-Earth-Cons...\n",
       "490    /g/data/oi10/replicas/CMIP6/CMIP/EC-Earth-Cons...\n",
       "Name: path, dtype: object"
      ]
     },
     "metadata": {},
     "output_type": "display_data"
    }
   ],
   "source": [
    "first_path = df['path'][-510:-500]\n",
    "first_path"
   ]
  }
 ],
 "metadata": {
  "kernelspec": {
   "display_name": "Python 3",
   "language": "python",
   "name": "python3"
  },
  "language_info": {
   "codemirror_mode": {
    "name": "ipython",
    "version": 3
   },
   "file_extension": ".py",
   "mimetype": "text/x-python",
   "name": "python",
   "nbconvert_exporter": "python",
   "pygments_lexer": "ipython3",
   "version": "3.9.17"
  }
 },
 "nbformat": 4,
 "nbformat_minor": 2
}
