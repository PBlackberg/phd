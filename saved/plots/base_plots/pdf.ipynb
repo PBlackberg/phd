{
 "cells": [
  {
   "cell_type": "markdown",
   "metadata": {},
   "source": [
    "## Precipitation Weighted Area Distribution (PWAD)"
   ]
  },
  {
   "cell_type": "code",
   "execution_count": 150,
   "metadata": {},
   "outputs": [],
   "source": [
    "import numpy as np\n",
    "import pandas as pd\n",
    "\n",
    "import matplotlib.pyplot as plt\n",
    "import matplotlib.cm as mpl\n",
    "%matplotlib inline\n",
    "\n",
    "import os\n",
    "from scipy.io import loadmat"
   ]
  },
  {
   "cell_type": "code",
   "execution_count": 151,
   "metadata": {},
   "outputs": [],
   "source": [
    "# all variables\n",
    "percentiles= ['95th_percentile', '97th_percentile', '99th_percentile']\n",
    "var_files= ['domain', 'convective_objects', 'aggregation_index', 'examples']\n",
    "insts = ['IPSL','NOAA-GFDL','NASA-GISS','BCC','CNRM-CERFACS','NCAR'\n",
    "        ,'NIMR-KMA','BNU','ICHEC','LASG-CESS','MPI-M','CMCC','INM','NCC' \n",
    "        ,'CCCma','MIROC','MOHC','MRI','NSF-DOE-NCAR']\n",
    "vars= ['pr','hus','tas','convective_objects','aggregation_indelon']\n",
    "scenarios= ['historical', 'rcp85']\n",
    "\n",
    "\n",
    "# chosen\n",
    "percentile= ['97th_percentile']\n",
    "var_file= ['convective_objects']\n",
    "inst = ['NOAA-GFDL']\n",
    "var= ['convective_objects']\n",
    "scenario= ['historical']\n"
   ]
  },
  {
   "cell_type": "code",
   "execution_count": 152,
   "metadata": {},
   "outputs": [
    {
     "name": "stdout",
     "output_type": "stream",
     "text": [
      "dict_keys(['__header__', '__version__', '__globals__', 'M_area', 'M_lat', 'M_lon', 'Rx1day_pr', 'Rx1day_pr_annual', 'Rx1day_pr_image', 'Rx5day_pr', 'Rx5day_pr_annual', 'Rx5day_pr_image', 'Wlat', 'Wlon', 'area_prctile', 'day_of_snapshot', 'gridbox_5day_pr', 'gridbox_pr', 'lat', 'lat_old', 'lon', 'lon_old', 'mean_pr_image', 'mean_pr_prctile_rate', 'mean_pr_prctile_vol', 'mean_pr_vol', 'prctile_rate_99', 'prctile_rate_99_9', 'prctile_rate_99_99', 'snapshot_pr_image', 'time_range', 'trop_end', 'trop_start'])\n"
     ]
    }
   ],
   "source": [
    "data_path = '/Users/cbla0002/Documents/data_matlab'\n",
    "fileName = 'NOAA-GFDL_domain_pr_historical' \n",
    "file_path = os.path.abspath(os.path.join(data_path, '97th_percentile', 'domain', fileName))\n",
    "\n",
    "data_domain = loadmat(file_path)\n",
    "print(data_domain.keys())\n"
   ]
  },
  {
   "cell_type": "code",
   "execution_count": 153,
   "metadata": {},
   "outputs": [
    {
     "data": {
      "text/plain": [
       "(22, 128)"
      ]
     },
     "execution_count": 153,
     "metadata": {},
     "output_type": "execute_result"
    }
   ],
   "source": [
    "lon = np.squeeze(data_domain['lon'])\n",
    "lat = np.squeeze(data_domain['lat'])\n",
    "aream = np.transpose(data_domain['M_area'])\n",
    "np.shape(aream)"
   ]
  },
  {
   "cell_type": "code",
   "execution_count": 154,
   "metadata": {},
   "outputs": [
    {
     "data": {
      "text/plain": [
       "92474620296.0091"
      ]
     },
     "execution_count": 154,
     "metadata": {},
     "output_type": "execute_result"
    },
    {
     "data": {
      "image/png": "[encoded data removed]",
      "text/plain": [
       "<Figure size 432x288 with 1 Axes>"
      ]
     },
     "metadata": {
      "needs_background": "light"
     },
     "output_type": "display_data"
    }
   ],
   "source": [
    "plt.pcolormesh(lon,lat,aream)\n",
    "np.mean(aream)"
   ]
  },
  {
   "cell_type": "code",
   "execution_count": 155,
   "metadata": {},
   "outputs": [
    {
     "name": "stdout",
     "output_type": "stream",
     "text": [
      "dict_keys(['__header__', '__version__', '__globals__', 'Nb_obj_day', 'Nb_obj_day_n', 'area_prctile', 'mean_pr_prctile_vol', 'obj_R_idx_n', 'obj_area', 'obj_area_n', 'obj_dist_M_idx_n', 'obj_lat', 'obj_lat_n', 'obj_lon', 'obj_lon_n', 'obj_pr', 'obj_pr_n', 'snapshot_n', 'snapshot_prctile'])\n"
     ]
    }
   ],
   "source": [
    "fileName = inst[0] + '_convective_objects_' + scenario[0]\n",
    "file_path = os.path.abspath(os.path.join(data_path, '97th_percentile', 'convective_objects', fileName))\n",
    "data_convObj = loadmat(file_path)\n",
    "print(data_convObj.keys())"
   ]
  },
  {
   "cell_type": "code",
   "execution_count": 156,
   "metadata": {},
   "outputs": [
    {
     "name": "stdout",
     "output_type": "stream",
     "text": [
      "(181134,)\n",
      "(181134,)\n"
     ]
    }
   ],
   "source": [
    "obj_area = np.squeeze(data_convObj['obj_area'])\n",
    "obj_pr = np.squeeze(data_convObj['obj_pr'])\n",
    "print(np.shape(obj_area))\n",
    "print(np.shape(obj_pr))"
   ]
  },
  {
   "cell_type": "code",
   "execution_count": 157,
   "metadata": {},
   "outputs": [],
   "source": [
    "def calc_rEff(area): # input as m^2\n",
    "    return np.sqrt(area/np.pi)*1e-3"
   ]
  },
  {
   "cell_type": "code",
   "execution_count": 158,
   "metadata": {},
   "outputs": [
    {
     "data": {
      "text/plain": [
       "(13,)"
      ]
     },
     "execution_count": 158,
     "metadata": {},
     "output_type": "execute_result"
    }
   ],
   "source": [
    "# define the bin width as the mean gridbox area (in terms of effective radius)\n",
    "bin_width = calc_rEff(np.mean(aream))\n",
    "bin_end = calc_rEff(np.max(obj_area))\n",
    "bins = np.arange(0, bin_end+bin_width, bin_width)\n",
    "bins_mid = np.append(0,bins*0.5*bin_width)\n",
    "\n",
    "np.shape(bins_mid)"
   ]
  },
  {
   "cell_type": "code",
   "execution_count": 159,
   "metadata": {},
   "outputs": [
    {
     "name": "stdout",
     "output_type": "stream",
     "text": [
      "1746.5221770420374\n",
      "[1715.68021092 1887.24823201]\n"
     ]
    }
   ],
   "source": [
    "print(bin_end)\n",
    "\n",
    "bins = np.arange(0, bin_end+bin_width, bin_width)\n",
    "\n",
    "print(bins[-2:])"
   ]
  },
  {
   "cell_type": "code",
   "execution_count": 160,
   "metadata": {},
   "outputs": [],
   "source": [
    "def calc_pwad_bin(idx): #, obj_area, obj_pr\n",
    "    return np.sum(idx*obj_area*obj_pr)/(np.sum(obj_area*obj_pr))"
   ]
  },
  {
   "cell_type": "code",
   "execution_count": 161,
   "metadata": {},
   "outputs": [],
   "source": [
    "# place precipitation from each object falling in the respective bins (PAWD)\n",
    "pwad_bins = []\n",
    "obj_r = calc_rEff(obj_area)\n",
    "\n",
    "for i in np.arange(0,len(bins)-1):\n",
    "    idx = (obj_r>bins[i]) & (obj_r<=bins[i+1])\n",
    "    pwad_bins = np.append(pwad_bins,calc_pwad_bin(idx))\n",
    "\n",
    "y = np.append(0, pwad_bins)\n",
    "y = np.append(y,0)*100"
   ]
  },
  {
   "cell_type": "code",
   "execution_count": 162,
   "metadata": {},
   "outputs": [
    {
     "name": "stdout",
     "output_type": "stream",
     "text": [
      "(13,)\n",
      "(13,)\n"
     ]
    }
   ],
   "source": [
    "print(np.shape(bins_mid))\n",
    "print(np.shape(y))"
   ]
  },
  {
   "cell_type": "code",
   "execution_count": 177,
   "metadata": {},
   "outputs": [
    {
     "data": {
      "text/plain": [
       "[<matplotlib.lines.Line2D at 0x7fc9621d7c10>]"
      ]
     },
     "execution_count": 177,
     "metadata": {},
     "output_type": "execute_result"
    },
    {
     "data": {
      "image/png": "[encoded data removed]",
      "text/plain": [
       "<Figure size 1080x360 with 1 Axes>"
      ]
     },
     "metadata": {
      "needs_background": "light"
     },
     "output_type": "display_data"
    }
   ],
   "source": [
    "plt.figure(figsize = (15,5))\n",
    "plt.plot(bins_mid,y)"
   ]
  },
  {
   "cell_type": "code",
   "execution_count": 189,
   "metadata": {},
   "outputs": [
    {
     "data": {
      "text/plain": [
       "<BarContainer object of 13 artists>"
      ]
     },
     "execution_count": 189,
     "metadata": {},
     "output_type": "execute_result"
    },
    {
     "data": {
      "image/png": "[encoded data removed]",
      "text/plain": [
       "<Figure size 1080x360 with 1 Axes>"
      ]
     },
     "metadata": {
      "needs_background": "light"
     },
     "output_type": "display_data"
    }
   ],
   "source": [
    "plt.figure(figsize = (15,5))\n",
    "plt.bar(np.arange(0,13),y)"
   ]
  }
 ],
 "metadata": {
  "kernelspec": {
   "display_name": "Python 3.9.12 ('base')",
   "language": "python",
   "name": "python3"
  },
  "language_info": {
   "codemirror_mode": {
    "name": "ipython",
    "version": 3
   },
   "file_extension": ".py",
   "mimetype": "text/x-python",
   "name": "python",
   "nbconvert_exporter": "python",
   "pygments_lexer": "ipython3",
   "version": "3.9.12 (main, Apr  5 2022, 01:53:17) \n[Clang 12.0.0 ]"
  },
  "orig_nbformat": 4,
  "vscode": {
   "interpreter": {
    "hash": "40d3a090f54c6569ab1632332b64b2c03c39dcf918b08424e98f38b5ae0af88f"
   }
  }
 },
 "nbformat": 4,
 "nbformat_minor": 2
}
